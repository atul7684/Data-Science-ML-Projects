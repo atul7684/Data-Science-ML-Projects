{
  "nbformat": 4,
  "nbformat_minor": 0,
  "metadata": {
    "colab": {
      "provenance": []
    },
    "kernelspec": {
      "name": "python3",
      "display_name": "Python 3"
    },
    "language_info": {
      "name": "python"
    }
  },
  "cells": [
    {
      "cell_type": "markdown",
      "source": [
        "# Data Science Project: Teaching Assistance Dataset\n",
        "\n",
        "Name : Atul Mishra\n",
        "\n",
        "Email: atul.nothing@gmail.com\n",
        "\n",
        "Project_ID : PRCP-1026-Teaching Assistance\n",
        "\n",
        "Start Date : 21/08/2024\n",
        "\n",
        "End Date : 28/08/2024\n",
        "\n",
        "Batch_ID : PTID-CDS-AUG-24-2023\n",
        "\n",
        "Dataset_link : https://d3ilbtxij3aepc.cloudfront.net/projects/CDS-Capstone-Projects/PRCP-1026-TeachingAssistance.zip"
      ],
      "metadata": {
        "id": "O6UumYwDQGG8"
      }
    },
    {
      "cell_type": "markdown",
      "source": [
        "Analysis\n",
        "\n",
        "* Perform a 3D animation graph which help to visualize 3 feature data. (Scatter Plot)\n",
        "\n",
        "* Perform Expolatie Data Analysis.\n",
        "\n",
        "* Train and Test with different classification models and get the highest accuracy score in Random Forest Classifier"
      ],
      "metadata": {
        "id": "IbCLnRRrw3de"
      }
    },
    {
      "cell_type": "markdown",
      "source": [
        "Domain Analysis\n",
        "\n",
        "1. Whether of not the Teacher is a native English speaker (binary); 1=English speaker, 2=non-English speaker\n",
        "2. Course instructor (categorical, 25 categories)\n",
        "3. Course (categorical, 26 categories)\n",
        "4. Summer or regular semester (binary) 1=Summer, 2=Regular\n",
        "5. Class size (numerical)\n",
        "6. Class attribute (categorical) 1=Low, 2=Medium, 3=High\n"
      ],
      "metadata": {
        "id": "rfQIGYtYt2Wq"
      }
    },
    {
      "cell_type": "markdown",
      "source": [
        "### Installing Libraries"
      ],
      "metadata": {
        "id": "57tv9nhutA6l"
      }
    },
    {
      "cell_type": "code",
      "source": [
        "!pip install summarytools"
      ],
      "metadata": {
        "id": "E7V3GW32SSqy",
        "colab": {
          "base_uri": "https://localhost:8080/"
        },
        "collapsed": true,
        "outputId": "be5d3752-60d2-4eb2-b3aa-43a2a1bb3c0f"
      },
      "execution_count": null,
      "outputs": [
        {
          "output_type": "stream",
          "name": "stdout",
          "text": [
            "Collecting summarytools\n",
            "  Downloading summarytools-0.3.0-py3-none-any.whl.metadata (3.5 kB)\n",
            "Requirement already satisfied: pandas>=1.4.0 in /usr/local/lib/python3.10/dist-packages (from summarytools) (2.1.4)\n",
            "Requirement already satisfied: ipython>=7.20.0 in /usr/local/lib/python3.10/dist-packages (from summarytools) (7.34.0)\n",
            "Requirement already satisfied: numpy>=1.18.5 in /usr/local/lib/python3.10/dist-packages (from summarytools) (1.26.4)\n",
            "Requirement already satisfied: matplotlib>=3.3.0 in /usr/local/lib/python3.10/dist-packages (from summarytools) (3.7.1)\n",
            "Requirement already satisfied: setuptools>=18.5 in /usr/local/lib/python3.10/dist-packages (from ipython>=7.20.0->summarytools) (71.0.4)\n",
            "Collecting jedi>=0.16 (from ipython>=7.20.0->summarytools)\n",
            "  Using cached jedi-0.19.1-py2.py3-none-any.whl.metadata (22 kB)\n",
            "Requirement already satisfied: decorator in /usr/local/lib/python3.10/dist-packages (from ipython>=7.20.0->summarytools) (4.4.2)\n",
            "Requirement already satisfied: pickleshare in /usr/local/lib/python3.10/dist-packages (from ipython>=7.20.0->summarytools) (0.7.5)\n",
            "Requirement already satisfied: traitlets>=4.2 in /usr/local/lib/python3.10/dist-packages (from ipython>=7.20.0->summarytools) (5.7.1)\n",
            "Requirement already satisfied: prompt-toolkit!=3.0.0,!=3.0.1,<3.1.0,>=2.0.0 in /usr/local/lib/python3.10/dist-packages (from ipython>=7.20.0->summarytools) (3.0.47)\n",
            "Requirement already satisfied: pygments in /usr/local/lib/python3.10/dist-packages (from ipython>=7.20.0->summarytools) (2.16.1)\n",
            "Requirement already satisfied: backcall in /usr/local/lib/python3.10/dist-packages (from ipython>=7.20.0->summarytools) (0.2.0)\n",
            "Requirement already satisfied: matplotlib-inline in /usr/local/lib/python3.10/dist-packages (from ipython>=7.20.0->summarytools) (0.1.7)\n",
            "Requirement already satisfied: pexpect>4.3 in /usr/local/lib/python3.10/dist-packages (from ipython>=7.20.0->summarytools) (4.9.0)\n",
            "Requirement already satisfied: contourpy>=1.0.1 in /usr/local/lib/python3.10/dist-packages (from matplotlib>=3.3.0->summarytools) (1.3.0)\n",
            "Requirement already satisfied: cycler>=0.10 in /usr/local/lib/python3.10/dist-packages (from matplotlib>=3.3.0->summarytools) (0.12.1)\n",
            "Requirement already satisfied: fonttools>=4.22.0 in /usr/local/lib/python3.10/dist-packages (from matplotlib>=3.3.0->summarytools) (4.53.1)\n",
            "Requirement already satisfied: kiwisolver>=1.0.1 in /usr/local/lib/python3.10/dist-packages (from matplotlib>=3.3.0->summarytools) (1.4.7)\n",
            "Requirement already satisfied: packaging>=20.0 in /usr/local/lib/python3.10/dist-packages (from matplotlib>=3.3.0->summarytools) (24.1)\n",
            "Requirement already satisfied: pillow>=6.2.0 in /usr/local/lib/python3.10/dist-packages (from matplotlib>=3.3.0->summarytools) (9.4.0)\n",
            "Requirement already satisfied: pyparsing>=2.3.1 in /usr/local/lib/python3.10/dist-packages (from matplotlib>=3.3.0->summarytools) (3.1.4)\n",
            "Requirement already satisfied: python-dateutil>=2.7 in /usr/local/lib/python3.10/dist-packages (from matplotlib>=3.3.0->summarytools) (2.8.2)\n",
            "Requirement already satisfied: pytz>=2020.1 in /usr/local/lib/python3.10/dist-packages (from pandas>=1.4.0->summarytools) (2024.2)\n",
            "Requirement already satisfied: tzdata>=2022.1 in /usr/local/lib/python3.10/dist-packages (from pandas>=1.4.0->summarytools) (2024.1)\n",
            "Requirement already satisfied: parso<0.9.0,>=0.8.3 in /usr/local/lib/python3.10/dist-packages (from jedi>=0.16->ipython>=7.20.0->summarytools) (0.8.4)\n",
            "Requirement already satisfied: ptyprocess>=0.5 in /usr/local/lib/python3.10/dist-packages (from pexpect>4.3->ipython>=7.20.0->summarytools) (0.7.0)\n",
            "Requirement already satisfied: wcwidth in /usr/local/lib/python3.10/dist-packages (from prompt-toolkit!=3.0.0,!=3.0.1,<3.1.0,>=2.0.0->ipython>=7.20.0->summarytools) (0.2.13)\n",
            "Requirement already satisfied: six>=1.5 in /usr/local/lib/python3.10/dist-packages (from python-dateutil>=2.7->matplotlib>=3.3.0->summarytools) (1.16.0)\n",
            "Downloading summarytools-0.3.0-py3-none-any.whl (12 kB)\n",
            "Using cached jedi-0.19.1-py2.py3-none-any.whl (1.6 MB)\n",
            "Installing collected packages: jedi, summarytools\n",
            "Successfully installed jedi-0.19.1 summarytools-0.3.0\n"
          ]
        }
      ]
    },
    {
      "cell_type": "markdown",
      "source": [
        "### Importing Libraries"
      ],
      "metadata": {
        "id": "dr3iXiOntHUs"
      }
    },
    {
      "cell_type": "code",
      "source": [
        "import pandas as pd\n",
        "import numpy as np\n",
        "\n",
        "import plotly.express as px\n",
        "import plotly.graph_objects as go\n",
        "\n",
        "import warnings\n",
        "warnings.filterwarnings('ignore')\n",
        "\n",
        "from summarytools import dfSummary\n",
        "\n",
        "from sklearn.preprocessing import MinMaxScaler\n",
        "from sklearn.model_selection import train_test_split\n",
        "from sklearn.linear_model import LogisticRegression\n",
        "from sklearn.metrics import confusion_matrix,accuracy_score,recall_score, precision_score,classification_report,f1_score\n",
        "from imblearn.over_sampling import SMOTE\n",
        "from sklearn.svm import SVC\n",
        "from sklearn.model_selection import cross_val_score\n",
        "from sklearn.tree import DecisionTreeClassifier\n",
        "from sklearn.ensemble import RandomForestClassifier\n",
        "from sklearn.model_selection import GridSearchCV\n",
        "from sklearn.ensemble import BaggingClassifier\n",
        "from xgboost import XGBClassifier"
      ],
      "metadata": {
        "id": "m9DmyR6MWFax"
      },
      "execution_count": null,
      "outputs": []
    },
    {
      "cell_type": "markdown",
      "source": [
        "### Importing Dataset"
      ],
      "metadata": {
        "id": "T2EuHiWo0hPT"
      }
    },
    {
      "cell_type": "code",
      "source": [
        "df=pd.read_csv('/content/tae.csv',names=['speaker', 'instructor', 'course', 'semester', 'class_size', 'attribute'])\n",
        "df.head()"
      ],
      "metadata": {
        "colab": {
          "base_uri": "https://localhost:8080/",
          "height": 206
        },
        "id": "waqAk6NqWPUt",
        "outputId": "aed0fbcc-7c9f-4b27-d30f-c0df6b1c5f48"
      },
      "execution_count": null,
      "outputs": [
        {
          "output_type": "execute_result",
          "data": {
            "text/plain": [
              "   speaker  instructor  course  semester  class_size  attribute\n",
              "0        1          23       3         1          19          3\n",
              "1        2          15       3         1          17          3\n",
              "2        1          23       3         2          49          3\n",
              "3        1           5       2         2          33          3\n",
              "4        2           7      11         2          55          3"
            ],
            "text/html": [
              "\n",
              "  <div id=\"df-d35a74e0-d975-4938-ad1b-3d9fa4bc7298\" class=\"colab-df-container\">\n",
              "    <div>\n",
              "<style scoped>\n",
              "    .dataframe tbody tr th:only-of-type {\n",
              "        vertical-align: middle;\n",
              "    }\n",
              "\n",
              "    .dataframe tbody tr th {\n",
              "        vertical-align: top;\n",
              "    }\n",
              "\n",
              "    .dataframe thead th {\n",
              "        text-align: right;\n",
              "    }\n",
              "</style>\n",
              "<table border=\"1\" class=\"dataframe\">\n",
              "  <thead>\n",
              "    <tr style=\"text-align: right;\">\n",
              "      <th></th>\n",
              "      <th>speaker</th>\n",
              "      <th>instructor</th>\n",
              "      <th>course</th>\n",
              "      <th>semester</th>\n",
              "      <th>class_size</th>\n",
              "      <th>attribute</th>\n",
              "    </tr>\n",
              "  </thead>\n",
              "  <tbody>\n",
              "    <tr>\n",
              "      <th>0</th>\n",
              "      <td>1</td>\n",
              "      <td>23</td>\n",
              "      <td>3</td>\n",
              "      <td>1</td>\n",
              "      <td>19</td>\n",
              "      <td>3</td>\n",
              "    </tr>\n",
              "    <tr>\n",
              "      <th>1</th>\n",
              "      <td>2</td>\n",
              "      <td>15</td>\n",
              "      <td>3</td>\n",
              "      <td>1</td>\n",
              "      <td>17</td>\n",
              "      <td>3</td>\n",
              "    </tr>\n",
              "    <tr>\n",
              "      <th>2</th>\n",
              "      <td>1</td>\n",
              "      <td>23</td>\n",
              "      <td>3</td>\n",
              "      <td>2</td>\n",
              "      <td>49</td>\n",
              "      <td>3</td>\n",
              "    </tr>\n",
              "    <tr>\n",
              "      <th>3</th>\n",
              "      <td>1</td>\n",
              "      <td>5</td>\n",
              "      <td>2</td>\n",
              "      <td>2</td>\n",
              "      <td>33</td>\n",
              "      <td>3</td>\n",
              "    </tr>\n",
              "    <tr>\n",
              "      <th>4</th>\n",
              "      <td>2</td>\n",
              "      <td>7</td>\n",
              "      <td>11</td>\n",
              "      <td>2</td>\n",
              "      <td>55</td>\n",
              "      <td>3</td>\n",
              "    </tr>\n",
              "  </tbody>\n",
              "</table>\n",
              "</div>\n",
              "    <div class=\"colab-df-buttons\">\n",
              "\n",
              "  <div class=\"colab-df-container\">\n",
              "    <button class=\"colab-df-convert\" onclick=\"convertToInteractive('df-d35a74e0-d975-4938-ad1b-3d9fa4bc7298')\"\n",
              "            title=\"Convert this dataframe to an interactive table.\"\n",
              "            style=\"display:none;\">\n",
              "\n",
              "  <svg xmlns=\"http://www.w3.org/2000/svg\" height=\"24px\" viewBox=\"0 -960 960 960\">\n",
              "    <path d=\"M120-120v-720h720v720H120Zm60-500h600v-160H180v160Zm220 220h160v-160H400v160Zm0 220h160v-160H400v160ZM180-400h160v-160H180v160Zm440 0h160v-160H620v160ZM180-180h160v-160H180v160Zm440 0h160v-160H620v160Z\"/>\n",
              "  </svg>\n",
              "    </button>\n",
              "\n",
              "  <style>\n",
              "    .colab-df-container {\n",
              "      display:flex;\n",
              "      gap: 12px;\n",
              "    }\n",
              "\n",
              "    .colab-df-convert {\n",
              "      background-color: #E8F0FE;\n",
              "      border: none;\n",
              "      border-radius: 50%;\n",
              "      cursor: pointer;\n",
              "      display: none;\n",
              "      fill: #1967D2;\n",
              "      height: 32px;\n",
              "      padding: 0 0 0 0;\n",
              "      width: 32px;\n",
              "    }\n",
              "\n",
              "    .colab-df-convert:hover {\n",
              "      background-color: #E2EBFA;\n",
              "      box-shadow: 0px 1px 2px rgba(60, 64, 67, 0.3), 0px 1px 3px 1px rgba(60, 64, 67, 0.15);\n",
              "      fill: #174EA6;\n",
              "    }\n",
              "\n",
              "    .colab-df-buttons div {\n",
              "      margin-bottom: 4px;\n",
              "    }\n",
              "\n",
              "    [theme=dark] .colab-df-convert {\n",
              "      background-color: #3B4455;\n",
              "      fill: #D2E3FC;\n",
              "    }\n",
              "\n",
              "    [theme=dark] .colab-df-convert:hover {\n",
              "      background-color: #434B5C;\n",
              "      box-shadow: 0px 1px 3px 1px rgba(0, 0, 0, 0.15);\n",
              "      filter: drop-shadow(0px 1px 2px rgba(0, 0, 0, 0.3));\n",
              "      fill: #FFFFFF;\n",
              "    }\n",
              "  </style>\n",
              "\n",
              "    <script>\n",
              "      const buttonEl =\n",
              "        document.querySelector('#df-d35a74e0-d975-4938-ad1b-3d9fa4bc7298 button.colab-df-convert');\n",
              "      buttonEl.style.display =\n",
              "        google.colab.kernel.accessAllowed ? 'block' : 'none';\n",
              "\n",
              "      async function convertToInteractive(key) {\n",
              "        const element = document.querySelector('#df-d35a74e0-d975-4938-ad1b-3d9fa4bc7298');\n",
              "        const dataTable =\n",
              "          await google.colab.kernel.invokeFunction('convertToInteractive',\n",
              "                                                    [key], {});\n",
              "        if (!dataTable) return;\n",
              "\n",
              "        const docLinkHtml = 'Like what you see? Visit the ' +\n",
              "          '<a target=\"_blank\" href=https://colab.research.google.com/notebooks/data_table.ipynb>data table notebook</a>'\n",
              "          + ' to learn more about interactive tables.';\n",
              "        element.innerHTML = '';\n",
              "        dataTable['output_type'] = 'display_data';\n",
              "        await google.colab.output.renderOutput(dataTable, element);\n",
              "        const docLink = document.createElement('div');\n",
              "        docLink.innerHTML = docLinkHtml;\n",
              "        element.appendChild(docLink);\n",
              "      }\n",
              "    </script>\n",
              "  </div>\n",
              "\n",
              "\n",
              "<div id=\"df-a2c45df3-3a61-4496-8c52-50bdccbe4e1c\">\n",
              "  <button class=\"colab-df-quickchart\" onclick=\"quickchart('df-a2c45df3-3a61-4496-8c52-50bdccbe4e1c')\"\n",
              "            title=\"Suggest charts\"\n",
              "            style=\"display:none;\">\n",
              "\n",
              "<svg xmlns=\"http://www.w3.org/2000/svg\" height=\"24px\"viewBox=\"0 0 24 24\"\n",
              "     width=\"24px\">\n",
              "    <g>\n",
              "        <path d=\"M19 3H5c-1.1 0-2 .9-2 2v14c0 1.1.9 2 2 2h14c1.1 0 2-.9 2-2V5c0-1.1-.9-2-2-2zM9 17H7v-7h2v7zm4 0h-2V7h2v10zm4 0h-2v-4h2v4z\"/>\n",
              "    </g>\n",
              "</svg>\n",
              "  </button>\n",
              "\n",
              "<style>\n",
              "  .colab-df-quickchart {\n",
              "      --bg-color: #E8F0FE;\n",
              "      --fill-color: #1967D2;\n",
              "      --hover-bg-color: #E2EBFA;\n",
              "      --hover-fill-color: #174EA6;\n",
              "      --disabled-fill-color: #AAA;\n",
              "      --disabled-bg-color: #DDD;\n",
              "  }\n",
              "\n",
              "  [theme=dark] .colab-df-quickchart {\n",
              "      --bg-color: #3B4455;\n",
              "      --fill-color: #D2E3FC;\n",
              "      --hover-bg-color: #434B5C;\n",
              "      --hover-fill-color: #FFFFFF;\n",
              "      --disabled-bg-color: #3B4455;\n",
              "      --disabled-fill-color: #666;\n",
              "  }\n",
              "\n",
              "  .colab-df-quickchart {\n",
              "    background-color: var(--bg-color);\n",
              "    border: none;\n",
              "    border-radius: 50%;\n",
              "    cursor: pointer;\n",
              "    display: none;\n",
              "    fill: var(--fill-color);\n",
              "    height: 32px;\n",
              "    padding: 0;\n",
              "    width: 32px;\n",
              "  }\n",
              "\n",
              "  .colab-df-quickchart:hover {\n",
              "    background-color: var(--hover-bg-color);\n",
              "    box-shadow: 0 1px 2px rgba(60, 64, 67, 0.3), 0 1px 3px 1px rgba(60, 64, 67, 0.15);\n",
              "    fill: var(--button-hover-fill-color);\n",
              "  }\n",
              "\n",
              "  .colab-df-quickchart-complete:disabled,\n",
              "  .colab-df-quickchart-complete:disabled:hover {\n",
              "    background-color: var(--disabled-bg-color);\n",
              "    fill: var(--disabled-fill-color);\n",
              "    box-shadow: none;\n",
              "  }\n",
              "\n",
              "  .colab-df-spinner {\n",
              "    border: 2px solid var(--fill-color);\n",
              "    border-color: transparent;\n",
              "    border-bottom-color: var(--fill-color);\n",
              "    animation:\n",
              "      spin 1s steps(1) infinite;\n",
              "  }\n",
              "\n",
              "  @keyframes spin {\n",
              "    0% {\n",
              "      border-color: transparent;\n",
              "      border-bottom-color: var(--fill-color);\n",
              "      border-left-color: var(--fill-color);\n",
              "    }\n",
              "    20% {\n",
              "      border-color: transparent;\n",
              "      border-left-color: var(--fill-color);\n",
              "      border-top-color: var(--fill-color);\n",
              "    }\n",
              "    30% {\n",
              "      border-color: transparent;\n",
              "      border-left-color: var(--fill-color);\n",
              "      border-top-color: var(--fill-color);\n",
              "      border-right-color: var(--fill-color);\n",
              "    }\n",
              "    40% {\n",
              "      border-color: transparent;\n",
              "      border-right-color: var(--fill-color);\n",
              "      border-top-color: var(--fill-color);\n",
              "    }\n",
              "    60% {\n",
              "      border-color: transparent;\n",
              "      border-right-color: var(--fill-color);\n",
              "    }\n",
              "    80% {\n",
              "      border-color: transparent;\n",
              "      border-right-color: var(--fill-color);\n",
              "      border-bottom-color: var(--fill-color);\n",
              "    }\n",
              "    90% {\n",
              "      border-color: transparent;\n",
              "      border-bottom-color: var(--fill-color);\n",
              "    }\n",
              "  }\n",
              "</style>\n",
              "\n",
              "  <script>\n",
              "    async function quickchart(key) {\n",
              "      const quickchartButtonEl =\n",
              "        document.querySelector('#' + key + ' button');\n",
              "      quickchartButtonEl.disabled = true;  // To prevent multiple clicks.\n",
              "      quickchartButtonEl.classList.add('colab-df-spinner');\n",
              "      try {\n",
              "        const charts = await google.colab.kernel.invokeFunction(\n",
              "            'suggestCharts', [key], {});\n",
              "      } catch (error) {\n",
              "        console.error('Error during call to suggestCharts:', error);\n",
              "      }\n",
              "      quickchartButtonEl.classList.remove('colab-df-spinner');\n",
              "      quickchartButtonEl.classList.add('colab-df-quickchart-complete');\n",
              "    }\n",
              "    (() => {\n",
              "      let quickchartButtonEl =\n",
              "        document.querySelector('#df-a2c45df3-3a61-4496-8c52-50bdccbe4e1c button');\n",
              "      quickchartButtonEl.style.display =\n",
              "        google.colab.kernel.accessAllowed ? 'block' : 'none';\n",
              "    })();\n",
              "  </script>\n",
              "</div>\n",
              "\n",
              "    </div>\n",
              "  </div>\n"
            ],
            "application/vnd.google.colaboratory.intrinsic+json": {
              "type": "dataframe",
              "variable_name": "df",
              "summary": "{\n  \"name\": \"df\",\n  \"rows\": 151,\n  \"fields\": [\n    {\n      \"column\": \"speaker\",\n      \"properties\": {\n        \"dtype\": \"number\",\n        \"std\": 0,\n        \"min\": 1,\n        \"max\": 2,\n        \"num_unique_values\": 2,\n        \"samples\": [\n          2,\n          1\n        ],\n        \"semantic_type\": \"\",\n        \"description\": \"\"\n      }\n    },\n    {\n      \"column\": \"instructor\",\n      \"properties\": {\n        \"dtype\": \"number\",\n        \"std\": 6,\n        \"min\": 1,\n        \"max\": 25,\n        \"num_unique_values\": 25,\n        \"samples\": [\n          18,\n          11\n        ],\n        \"semantic_type\": \"\",\n        \"description\": \"\"\n      }\n    },\n    {\n      \"column\": \"course\",\n      \"properties\": {\n        \"dtype\": \"number\",\n        \"std\": 7,\n        \"min\": 1,\n        \"max\": 26,\n        \"num_unique_values\": 26,\n        \"samples\": [\n          25,\n          14\n        ],\n        \"semantic_type\": \"\",\n        \"description\": \"\"\n      }\n    },\n    {\n      \"column\": \"semester\",\n      \"properties\": {\n        \"dtype\": \"number\",\n        \"std\": 0,\n        \"min\": 1,\n        \"max\": 2,\n        \"num_unique_values\": 2,\n        \"samples\": [\n          2,\n          1\n        ],\n        \"semantic_type\": \"\",\n        \"description\": \"\"\n      }\n    },\n    {\n      \"column\": \"class_size\",\n      \"properties\": {\n        \"dtype\": \"number\",\n        \"std\": 12,\n        \"min\": 3,\n        \"max\": 66,\n        \"num_unique_values\": 46,\n        \"samples\": [\n          3,\n          36\n        ],\n        \"semantic_type\": \"\",\n        \"description\": \"\"\n      }\n    },\n    {\n      \"column\": \"attribute\",\n      \"properties\": {\n        \"dtype\": \"number\",\n        \"std\": 0,\n        \"min\": 1,\n        \"max\": 3,\n        \"num_unique_values\": 3,\n        \"samples\": [\n          3,\n          2\n        ],\n        \"semantic_type\": \"\",\n        \"description\": \"\"\n      }\n    }\n  ]\n}"
            }
          },
          "metadata": {},
          "execution_count": 3
        }
      ]
    },
    {
      "cell_type": "markdown",
      "source": [
        "### Basic Info"
      ],
      "metadata": {
        "id": "eg8qL6p40mEf"
      }
    },
    {
      "cell_type": "code",
      "source": [
        "df.info()"
      ],
      "metadata": {
        "colab": {
          "base_uri": "https://localhost:8080/"
        },
        "id": "dtbCz8W6W2hp",
        "outputId": "da9d095f-2df0-4877-c5d0-419022b160eb"
      },
      "execution_count": null,
      "outputs": [
        {
          "output_type": "stream",
          "name": "stdout",
          "text": [
            "<class 'pandas.core.frame.DataFrame'>\n",
            "RangeIndex: 151 entries, 0 to 150\n",
            "Data columns (total 6 columns):\n",
            " #   Column      Non-Null Count  Dtype\n",
            "---  ------      --------------  -----\n",
            " 0   speaker     151 non-null    int64\n",
            " 1   instructor  151 non-null    int64\n",
            " 2   course      151 non-null    int64\n",
            " 3   semester    151 non-null    int64\n",
            " 4   class_size  151 non-null    int64\n",
            " 5   attribute   151 non-null    int64\n",
            "dtypes: int64(6)\n",
            "memory usage: 7.2 KB\n"
          ]
        }
      ]
    },
    {
      "cell_type": "code",
      "source": [
        "df.describe()"
      ],
      "metadata": {
        "colab": {
          "base_uri": "https://localhost:8080/",
          "height": 300
        },
        "id": "ogotwhY8X-is",
        "outputId": "fa663c08-ea90-4762-8596-992ff1fe9ed4"
      },
      "execution_count": null,
      "outputs": [
        {
          "output_type": "execute_result",
          "data": {
            "text/plain": [
              "          speaker  instructor      course    semester  class_size   attribute\n",
              "count  151.000000  151.000000  151.000000  151.000000  151.000000  151.000000\n",
              "mean     1.807947   13.642384    8.105960    1.847682   27.867550    2.019868\n",
              "std      0.395225    6.825779    7.023914    0.360525   12.893758    0.820327\n",
              "min      1.000000    1.000000    1.000000    1.000000    3.000000    1.000000\n",
              "25%      2.000000    8.000000    3.000000    2.000000   19.000000    1.000000\n",
              "50%      2.000000   13.000000    4.000000    2.000000   27.000000    2.000000\n",
              "75%      2.000000   20.000000   15.000000    2.000000   37.000000    3.000000\n",
              "max      2.000000   25.000000   26.000000    2.000000   66.000000    3.000000"
            ],
            "text/html": [
              "\n",
              "  <div id=\"df-916522c3-4dc3-429d-956d-60d81e955169\" class=\"colab-df-container\">\n",
              "    <div>\n",
              "<style scoped>\n",
              "    .dataframe tbody tr th:only-of-type {\n",
              "        vertical-align: middle;\n",
              "    }\n",
              "\n",
              "    .dataframe tbody tr th {\n",
              "        vertical-align: top;\n",
              "    }\n",
              "\n",
              "    .dataframe thead th {\n",
              "        text-align: right;\n",
              "    }\n",
              "</style>\n",
              "<table border=\"1\" class=\"dataframe\">\n",
              "  <thead>\n",
              "    <tr style=\"text-align: right;\">\n",
              "      <th></th>\n",
              "      <th>speaker</th>\n",
              "      <th>instructor</th>\n",
              "      <th>course</th>\n",
              "      <th>semester</th>\n",
              "      <th>class_size</th>\n",
              "      <th>attribute</th>\n",
              "    </tr>\n",
              "  </thead>\n",
              "  <tbody>\n",
              "    <tr>\n",
              "      <th>count</th>\n",
              "      <td>151.000000</td>\n",
              "      <td>151.000000</td>\n",
              "      <td>151.000000</td>\n",
              "      <td>151.000000</td>\n",
              "      <td>151.000000</td>\n",
              "      <td>151.000000</td>\n",
              "    </tr>\n",
              "    <tr>\n",
              "      <th>mean</th>\n",
              "      <td>1.807947</td>\n",
              "      <td>13.642384</td>\n",
              "      <td>8.105960</td>\n",
              "      <td>1.847682</td>\n",
              "      <td>27.867550</td>\n",
              "      <td>2.019868</td>\n",
              "    </tr>\n",
              "    <tr>\n",
              "      <th>std</th>\n",
              "      <td>0.395225</td>\n",
              "      <td>6.825779</td>\n",
              "      <td>7.023914</td>\n",
              "      <td>0.360525</td>\n",
              "      <td>12.893758</td>\n",
              "      <td>0.820327</td>\n",
              "    </tr>\n",
              "    <tr>\n",
              "      <th>min</th>\n",
              "      <td>1.000000</td>\n",
              "      <td>1.000000</td>\n",
              "      <td>1.000000</td>\n",
              "      <td>1.000000</td>\n",
              "      <td>3.000000</td>\n",
              "      <td>1.000000</td>\n",
              "    </tr>\n",
              "    <tr>\n",
              "      <th>25%</th>\n",
              "      <td>2.000000</td>\n",
              "      <td>8.000000</td>\n",
              "      <td>3.000000</td>\n",
              "      <td>2.000000</td>\n",
              "      <td>19.000000</td>\n",
              "      <td>1.000000</td>\n",
              "    </tr>\n",
              "    <tr>\n",
              "      <th>50%</th>\n",
              "      <td>2.000000</td>\n",
              "      <td>13.000000</td>\n",
              "      <td>4.000000</td>\n",
              "      <td>2.000000</td>\n",
              "      <td>27.000000</td>\n",
              "      <td>2.000000</td>\n",
              "    </tr>\n",
              "    <tr>\n",
              "      <th>75%</th>\n",
              "      <td>2.000000</td>\n",
              "      <td>20.000000</td>\n",
              "      <td>15.000000</td>\n",
              "      <td>2.000000</td>\n",
              "      <td>37.000000</td>\n",
              "      <td>3.000000</td>\n",
              "    </tr>\n",
              "    <tr>\n",
              "      <th>max</th>\n",
              "      <td>2.000000</td>\n",
              "      <td>25.000000</td>\n",
              "      <td>26.000000</td>\n",
              "      <td>2.000000</td>\n",
              "      <td>66.000000</td>\n",
              "      <td>3.000000</td>\n",
              "    </tr>\n",
              "  </tbody>\n",
              "</table>\n",
              "</div>\n",
              "    <div class=\"colab-df-buttons\">\n",
              "\n",
              "  <div class=\"colab-df-container\">\n",
              "    <button class=\"colab-df-convert\" onclick=\"convertToInteractive('df-916522c3-4dc3-429d-956d-60d81e955169')\"\n",
              "            title=\"Convert this dataframe to an interactive table.\"\n",
              "            style=\"display:none;\">\n",
              "\n",
              "  <svg xmlns=\"http://www.w3.org/2000/svg\" height=\"24px\" viewBox=\"0 -960 960 960\">\n",
              "    <path d=\"M120-120v-720h720v720H120Zm60-500h600v-160H180v160Zm220 220h160v-160H400v160Zm0 220h160v-160H400v160ZM180-400h160v-160H180v160Zm440 0h160v-160H620v160ZM180-180h160v-160H180v160Zm440 0h160v-160H620v160Z\"/>\n",
              "  </svg>\n",
              "    </button>\n",
              "\n",
              "  <style>\n",
              "    .colab-df-container {\n",
              "      display:flex;\n",
              "      gap: 12px;\n",
              "    }\n",
              "\n",
              "    .colab-df-convert {\n",
              "      background-color: #E8F0FE;\n",
              "      border: none;\n",
              "      border-radius: 50%;\n",
              "      cursor: pointer;\n",
              "      display: none;\n",
              "      fill: #1967D2;\n",
              "      height: 32px;\n",
              "      padding: 0 0 0 0;\n",
              "      width: 32px;\n",
              "    }\n",
              "\n",
              "    .colab-df-convert:hover {\n",
              "      background-color: #E2EBFA;\n",
              "      box-shadow: 0px 1px 2px rgba(60, 64, 67, 0.3), 0px 1px 3px 1px rgba(60, 64, 67, 0.15);\n",
              "      fill: #174EA6;\n",
              "    }\n",
              "\n",
              "    .colab-df-buttons div {\n",
              "      margin-bottom: 4px;\n",
              "    }\n",
              "\n",
              "    [theme=dark] .colab-df-convert {\n",
              "      background-color: #3B4455;\n",
              "      fill: #D2E3FC;\n",
              "    }\n",
              "\n",
              "    [theme=dark] .colab-df-convert:hover {\n",
              "      background-color: #434B5C;\n",
              "      box-shadow: 0px 1px 3px 1px rgba(0, 0, 0, 0.15);\n",
              "      filter: drop-shadow(0px 1px 2px rgba(0, 0, 0, 0.3));\n",
              "      fill: #FFFFFF;\n",
              "    }\n",
              "  </style>\n",
              "\n",
              "    <script>\n",
              "      const buttonEl =\n",
              "        document.querySelector('#df-916522c3-4dc3-429d-956d-60d81e955169 button.colab-df-convert');\n",
              "      buttonEl.style.display =\n",
              "        google.colab.kernel.accessAllowed ? 'block' : 'none';\n",
              "\n",
              "      async function convertToInteractive(key) {\n",
              "        const element = document.querySelector('#df-916522c3-4dc3-429d-956d-60d81e955169');\n",
              "        const dataTable =\n",
              "          await google.colab.kernel.invokeFunction('convertToInteractive',\n",
              "                                                    [key], {});\n",
              "        if (!dataTable) return;\n",
              "\n",
              "        const docLinkHtml = 'Like what you see? Visit the ' +\n",
              "          '<a target=\"_blank\" href=https://colab.research.google.com/notebooks/data_table.ipynb>data table notebook</a>'\n",
              "          + ' to learn more about interactive tables.';\n",
              "        element.innerHTML = '';\n",
              "        dataTable['output_type'] = 'display_data';\n",
              "        await google.colab.output.renderOutput(dataTable, element);\n",
              "        const docLink = document.createElement('div');\n",
              "        docLink.innerHTML = docLinkHtml;\n",
              "        element.appendChild(docLink);\n",
              "      }\n",
              "    </script>\n",
              "  </div>\n",
              "\n",
              "\n",
              "<div id=\"df-a4b145b4-439e-4fd8-90c1-960d482c6ad2\">\n",
              "  <button class=\"colab-df-quickchart\" onclick=\"quickchart('df-a4b145b4-439e-4fd8-90c1-960d482c6ad2')\"\n",
              "            title=\"Suggest charts\"\n",
              "            style=\"display:none;\">\n",
              "\n",
              "<svg xmlns=\"http://www.w3.org/2000/svg\" height=\"24px\"viewBox=\"0 0 24 24\"\n",
              "     width=\"24px\">\n",
              "    <g>\n",
              "        <path d=\"M19 3H5c-1.1 0-2 .9-2 2v14c0 1.1.9 2 2 2h14c1.1 0 2-.9 2-2V5c0-1.1-.9-2-2-2zM9 17H7v-7h2v7zm4 0h-2V7h2v10zm4 0h-2v-4h2v4z\"/>\n",
              "    </g>\n",
              "</svg>\n",
              "  </button>\n",
              "\n",
              "<style>\n",
              "  .colab-df-quickchart {\n",
              "      --bg-color: #E8F0FE;\n",
              "      --fill-color: #1967D2;\n",
              "      --hover-bg-color: #E2EBFA;\n",
              "      --hover-fill-color: #174EA6;\n",
              "      --disabled-fill-color: #AAA;\n",
              "      --disabled-bg-color: #DDD;\n",
              "  }\n",
              "\n",
              "  [theme=dark] .colab-df-quickchart {\n",
              "      --bg-color: #3B4455;\n",
              "      --fill-color: #D2E3FC;\n",
              "      --hover-bg-color: #434B5C;\n",
              "      --hover-fill-color: #FFFFFF;\n",
              "      --disabled-bg-color: #3B4455;\n",
              "      --disabled-fill-color: #666;\n",
              "  }\n",
              "\n",
              "  .colab-df-quickchart {\n",
              "    background-color: var(--bg-color);\n",
              "    border: none;\n",
              "    border-radius: 50%;\n",
              "    cursor: pointer;\n",
              "    display: none;\n",
              "    fill: var(--fill-color);\n",
              "    height: 32px;\n",
              "    padding: 0;\n",
              "    width: 32px;\n",
              "  }\n",
              "\n",
              "  .colab-df-quickchart:hover {\n",
              "    background-color: var(--hover-bg-color);\n",
              "    box-shadow: 0 1px 2px rgba(60, 64, 67, 0.3), 0 1px 3px 1px rgba(60, 64, 67, 0.15);\n",
              "    fill: var(--button-hover-fill-color);\n",
              "  }\n",
              "\n",
              "  .colab-df-quickchart-complete:disabled,\n",
              "  .colab-df-quickchart-complete:disabled:hover {\n",
              "    background-color: var(--disabled-bg-color);\n",
              "    fill: var(--disabled-fill-color);\n",
              "    box-shadow: none;\n",
              "  }\n",
              "\n",
              "  .colab-df-spinner {\n",
              "    border: 2px solid var(--fill-color);\n",
              "    border-color: transparent;\n",
              "    border-bottom-color: var(--fill-color);\n",
              "    animation:\n",
              "      spin 1s steps(1) infinite;\n",
              "  }\n",
              "\n",
              "  @keyframes spin {\n",
              "    0% {\n",
              "      border-color: transparent;\n",
              "      border-bottom-color: var(--fill-color);\n",
              "      border-left-color: var(--fill-color);\n",
              "    }\n",
              "    20% {\n",
              "      border-color: transparent;\n",
              "      border-left-color: var(--fill-color);\n",
              "      border-top-color: var(--fill-color);\n",
              "    }\n",
              "    30% {\n",
              "      border-color: transparent;\n",
              "      border-left-color: var(--fill-color);\n",
              "      border-top-color: var(--fill-color);\n",
              "      border-right-color: var(--fill-color);\n",
              "    }\n",
              "    40% {\n",
              "      border-color: transparent;\n",
              "      border-right-color: var(--fill-color);\n",
              "      border-top-color: var(--fill-color);\n",
              "    }\n",
              "    60% {\n",
              "      border-color: transparent;\n",
              "      border-right-color: var(--fill-color);\n",
              "    }\n",
              "    80% {\n",
              "      border-color: transparent;\n",
              "      border-right-color: var(--fill-color);\n",
              "      border-bottom-color: var(--fill-color);\n",
              "    }\n",
              "    90% {\n",
              "      border-color: transparent;\n",
              "      border-bottom-color: var(--fill-color);\n",
              "    }\n",
              "  }\n",
              "</style>\n",
              "\n",
              "  <script>\n",
              "    async function quickchart(key) {\n",
              "      const quickchartButtonEl =\n",
              "        document.querySelector('#' + key + ' button');\n",
              "      quickchartButtonEl.disabled = true;  // To prevent multiple clicks.\n",
              "      quickchartButtonEl.classList.add('colab-df-spinner');\n",
              "      try {\n",
              "        const charts = await google.colab.kernel.invokeFunction(\n",
              "            'suggestCharts', [key], {});\n",
              "      } catch (error) {\n",
              "        console.error('Error during call to suggestCharts:', error);\n",
              "      }\n",
              "      quickchartButtonEl.classList.remove('colab-df-spinner');\n",
              "      quickchartButtonEl.classList.add('colab-df-quickchart-complete');\n",
              "    }\n",
              "    (() => {\n",
              "      let quickchartButtonEl =\n",
              "        document.querySelector('#df-a4b145b4-439e-4fd8-90c1-960d482c6ad2 button');\n",
              "      quickchartButtonEl.style.display =\n",
              "        google.colab.kernel.accessAllowed ? 'block' : 'none';\n",
              "    })();\n",
              "  </script>\n",
              "</div>\n",
              "\n",
              "    </div>\n",
              "  </div>\n"
            ],
            "application/vnd.google.colaboratory.intrinsic+json": {
              "type": "dataframe",
              "summary": "{\n  \"name\": \"df\",\n  \"rows\": 8,\n  \"fields\": [\n    {\n      \"column\": \"speaker\",\n      \"properties\": {\n        \"dtype\": \"number\",\n        \"std\": 52.82408978863252,\n        \"min\": 0.39522536673109215,\n        \"max\": 151.0,\n        \"num_unique_values\": 5,\n        \"samples\": [\n          1.8079470198675496,\n          2.0,\n          0.39522536673109215\n        ],\n        \"semantic_type\": \"\",\n        \"description\": \"\"\n      }\n    },\n    {\n      \"column\": \"instructor\",\n      \"properties\": {\n        \"dtype\": \"number\",\n        \"std\": 49.546980307936366,\n        \"min\": 1.0,\n        \"max\": 151.0,\n        \"num_unique_values\": 8,\n        \"samples\": [\n          13.642384105960264,\n          13.0,\n          151.0\n        ],\n        \"semantic_type\": \"\",\n        \"description\": \"\"\n      }\n    },\n    {\n      \"column\": \"course\",\n      \"properties\": {\n        \"dtype\": \"number\",\n        \"std\": 50.79079517257907,\n        \"min\": 1.0,\n        \"max\": 151.0,\n        \"num_unique_values\": 8,\n        \"samples\": [\n          8.105960264900663,\n          4.0,\n          151.0\n        ],\n        \"semantic_type\": \"\",\n        \"description\": \"\"\n      }\n    },\n    {\n      \"column\": \"semester\",\n      \"properties\": {\n        \"dtype\": \"number\",\n        \"std\": 52.82397469731437,\n        \"min\": 0.3605245136531112,\n        \"max\": 151.0,\n        \"num_unique_values\": 5,\n        \"samples\": [\n          1.8476821192052981,\n          2.0,\n          0.3605245136531112\n        ],\n        \"semantic_type\": \"\",\n        \"description\": \"\"\n      }\n    },\n    {\n      \"column\": \"class_size\",\n      \"properties\": {\n        \"dtype\": \"number\",\n        \"std\": 47.50393925374972,\n        \"min\": 3.0,\n        \"max\": 151.0,\n        \"num_unique_values\": 8,\n        \"samples\": [\n          27.867549668874172,\n          27.0,\n          151.0\n        ],\n        \"semantic_type\": \"\",\n        \"description\": \"\"\n      }\n    },\n    {\n      \"column\": \"attribute\",\n      \"properties\": {\n        \"dtype\": \"number\",\n        \"std\": 52.74507646926762,\n        \"min\": 0.8203267533976665,\n        \"max\": 151.0,\n        \"num_unique_values\": 6,\n        \"samples\": [\n          151.0,\n          2.019867549668874,\n          3.0\n        ],\n        \"semantic_type\": \"\",\n        \"description\": \"\"\n      }\n    }\n  ]\n}"
            }
          },
          "metadata": {},
          "execution_count": 9
        }
      ]
    },
    {
      "cell_type": "markdown",
      "source": [
        "### EDA"
      ],
      "metadata": {
        "id": "4QLkTeRRCTPW"
      }
    },
    {
      "cell_type": "code",
      "source": [
        "fig= px.scatter_3d(df,x='course',y='instructor',z='class_size',color='attribute')\n",
        "fig.show()"
      ],
      "metadata": {
        "colab": {
          "base_uri": "https://localhost:8080/",
          "height": 542
        },
        "id": "e5ra-vukYIR8",
        "outputId": "dc68d56b-d554-4dce-cff4-4969caa9970e"
      },
      "execution_count": null,
      "outputs": [
        {
          "output_type": "display_data",
          "data": {
            "text/html": [
              "<html>\n",
              "<head><meta charset=\"utf-8\" /></head>\n",
              "<body>\n",
              "    <div>            <script src=\"https://cdnjs.cloudflare.com/ajax/libs/mathjax/2.7.5/MathJax.js?config=TeX-AMS-MML_SVG\"></script><script type=\"text/javascript\">if (window.MathJax && window.MathJax.Hub && window.MathJax.Hub.Config) {window.MathJax.Hub.Config({SVG: {font: \"STIX-Web\"}});}</script>                <script type=\"text/javascript\">window.PlotlyConfig = {MathJaxConfig: 'local'};</script>\n",
              "        <script charset=\"utf-8\" src=\"https://cdn.plot.ly/plotly-2.24.1.min.js\"></script>                <div id=\"7f54bbcb-0296-4ef6-b322-54181b4f04d5\" class=\"plotly-graph-div\" style=\"height:525px; width:100%;\"></div>            <script type=\"text/javascript\">                                    window.PLOTLYENV=window.PLOTLYENV || {};                                    if (document.getElementById(\"7f54bbcb-0296-4ef6-b322-54181b4f04d5\")) {                    Plotly.newPlot(                        \"7f54bbcb-0296-4ef6-b322-54181b4f04d5\",                        [{\"hovertemplate\":\"course=%{x}\\u003cbr\\u003einstructor=%{y}\\u003cbr\\u003eclass_size=%{z}\\u003cbr\\u003eattribute=%{marker.color}\\u003cextra\\u003e\\u003c\\u002fextra\\u003e\",\"legendgroup\":\"\",\"marker\":{\"color\":[3,3,3,3,3,3,3,3,3,3,3,3,3,3,2,2,2,2,2,2,2,2,2,2,2,2,2,2,1,1,1,1,1,1,1,1,1,1,1,3,3,3,3,3,3,3,3,3,3,3,3,3,3,2,2,2,2,2,2,2,2,2,2,2,2,2,2,1,1,1,1,1,1,1,1,1,1,1,3,3,3,3,3,3,3,3,3,3,3,3,3,3,3,3,3,2,2,2,2,2,2,2,2,2,2,2,2,1,1,1,1,1,1,1,1,1,1,1,1,1,1,3,3,3,3,3,3,3,2,2,2,2,2,2,2,2,2,2,1,1,1,1,1,1,1,1,1,1,1,1,1],\"coloraxis\":\"coloraxis\",\"symbol\":\"circle\"},\"mode\":\"markers\",\"name\":\"\",\"scene\":\"scene\",\"showlegend\":false,\"x\":[3,3,3,2,11,3,5,3,3,3,22,1,21,17,17,17,11,3,3,25,7,7,9,15,13,11,3,15,2,3,1,5,1,3,2,8,16,2,15,3,3,3,2,11,3,5,3,3,3,22,1,21,17,17,17,11,3,3,25,7,7,9,15,13,11,3,15,2,3,1,5,1,3,2,8,16,2,15,3,3,19,2,3,21,3,11,3,3,3,22,17,5,25,17,15,8,16,13,2,1,17,3,3,17,3,2,3,2,3,1,3,11,15,3,7,7,1,3,9,1,2,14,6,3,15,1,3,2,1,12,15,18,23,26,24,8,6,1,11,3,3,18,20,2,4,3,2,3,7,1,10],\"y\":[23,15,23,5,7,23,9,10,22,15,10,13,18,6,6,6,7,22,13,7,25,25,2,1,15,7,8,14,21,22,11,18,13,13,5,16,4,5,14,23,15,23,5,7,23,9,10,22,15,10,13,18,6,6,6,7,22,13,7,25,25,2,1,15,7,8,14,21,22,11,18,13,13,5,16,4,5,14,23,13,16,9,13,18,22,7,23,23,23,14,17,9,18,17,1,1,11,22,9,13,6,23,23,6,22,20,23,20,23,13,10,7,14,8,12,8,15,23,2,15,20,13,9,10,14,13,8,20,22,18,20,17,14,24,9,12,9,22,7,10,23,17,16,3,19,23,3,10,18,22,2],\"z\":[19,17,49,33,55,20,19,27,58,20,9,30,29,39,42,43,10,46,10,42,27,23,31,22,37,13,24,38,42,28,51,19,31,13,37,36,21,48,38,19,17,49,33,55,20,19,27,58,20,9,30,29,39,42,43,10,46,10,42,27,23,31,22,37,13,24,38,42,28,51,19,31,13,37,36,21,48,38,25,17,11,39,11,19,45,20,20,20,38,17,19,24,25,31,31,18,22,27,14,20,35,20,20,37,15,25,10,14,38,29,19,30,32,27,34,23,66,12,29,19,3,17,7,21,36,54,29,45,11,16,18,44,17,21,20,24,5,42,30,19,11,29,15,37,10,24,26,12,48,51,27],\"type\":\"scatter3d\"}],                        {\"template\":{\"data\":{\"histogram2dcontour\":[{\"type\":\"histogram2dcontour\",\"colorbar\":{\"outlinewidth\":0,\"ticks\":\"\"},\"colorscale\":[[0.0,\"#0d0887\"],[0.1111111111111111,\"#46039f\"],[0.2222222222222222,\"#7201a8\"],[0.3333333333333333,\"#9c179e\"],[0.4444444444444444,\"#bd3786\"],[0.5555555555555556,\"#d8576b\"],[0.6666666666666666,\"#ed7953\"],[0.7777777777777778,\"#fb9f3a\"],[0.8888888888888888,\"#fdca26\"],[1.0,\"#f0f921\"]]}],\"choropleth\":[{\"type\":\"choropleth\",\"colorbar\":{\"outlinewidth\":0,\"ticks\":\"\"}}],\"histogram2d\":[{\"type\":\"histogram2d\",\"colorbar\":{\"outlinewidth\":0,\"ticks\":\"\"},\"colorscale\":[[0.0,\"#0d0887\"],[0.1111111111111111,\"#46039f\"],[0.2222222222222222,\"#7201a8\"],[0.3333333333333333,\"#9c179e\"],[0.4444444444444444,\"#bd3786\"],[0.5555555555555556,\"#d8576b\"],[0.6666666666666666,\"#ed7953\"],[0.7777777777777778,\"#fb9f3a\"],[0.8888888888888888,\"#fdca26\"],[1.0,\"#f0f921\"]]}],\"heatmap\":[{\"type\":\"heatmap\",\"colorbar\":{\"outlinewidth\":0,\"ticks\":\"\"},\"colorscale\":[[0.0,\"#0d0887\"],[0.1111111111111111,\"#46039f\"],[0.2222222222222222,\"#7201a8\"],[0.3333333333333333,\"#9c179e\"],[0.4444444444444444,\"#bd3786\"],[0.5555555555555556,\"#d8576b\"],[0.6666666666666666,\"#ed7953\"],[0.7777777777777778,\"#fb9f3a\"],[0.8888888888888888,\"#fdca26\"],[1.0,\"#f0f921\"]]}],\"heatmapgl\":[{\"type\":\"heatmapgl\",\"colorbar\":{\"outlinewidth\":0,\"ticks\":\"\"},\"colorscale\":[[0.0,\"#0d0887\"],[0.1111111111111111,\"#46039f\"],[0.2222222222222222,\"#7201a8\"],[0.3333333333333333,\"#9c179e\"],[0.4444444444444444,\"#bd3786\"],[0.5555555555555556,\"#d8576b\"],[0.6666666666666666,\"#ed7953\"],[0.7777777777777778,\"#fb9f3a\"],[0.8888888888888888,\"#fdca26\"],[1.0,\"#f0f921\"]]}],\"contourcarpet\":[{\"type\":\"contourcarpet\",\"colorbar\":{\"outlinewidth\":0,\"ticks\":\"\"}}],\"contour\":[{\"type\":\"contour\",\"colorbar\":{\"outlinewidth\":0,\"ticks\":\"\"},\"colorscale\":[[0.0,\"#0d0887\"],[0.1111111111111111,\"#46039f\"],[0.2222222222222222,\"#7201a8\"],[0.3333333333333333,\"#9c179e\"],[0.4444444444444444,\"#bd3786\"],[0.5555555555555556,\"#d8576b\"],[0.6666666666666666,\"#ed7953\"],[0.7777777777777778,\"#fb9f3a\"],[0.8888888888888888,\"#fdca26\"],[1.0,\"#f0f921\"]]}],\"surface\":[{\"type\":\"surface\",\"colorbar\":{\"outlinewidth\":0,\"ticks\":\"\"},\"colorscale\":[[0.0,\"#0d0887\"],[0.1111111111111111,\"#46039f\"],[0.2222222222222222,\"#7201a8\"],[0.3333333333333333,\"#9c179e\"],[0.4444444444444444,\"#bd3786\"],[0.5555555555555556,\"#d8576b\"],[0.6666666666666666,\"#ed7953\"],[0.7777777777777778,\"#fb9f3a\"],[0.8888888888888888,\"#fdca26\"],[1.0,\"#f0f921\"]]}],\"mesh3d\":[{\"type\":\"mesh3d\",\"colorbar\":{\"outlinewidth\":0,\"ticks\":\"\"}}],\"scatter\":[{\"fillpattern\":{\"fillmode\":\"overlay\",\"size\":10,\"solidity\":0.2},\"type\":\"scatter\"}],\"parcoords\":[{\"type\":\"parcoords\",\"line\":{\"colorbar\":{\"outlinewidth\":0,\"ticks\":\"\"}}}],\"scatterpolargl\":[{\"type\":\"scatterpolargl\",\"marker\":{\"colorbar\":{\"outlinewidth\":0,\"ticks\":\"\"}}}],\"bar\":[{\"error_x\":{\"color\":\"#2a3f5f\"},\"error_y\":{\"color\":\"#2a3f5f\"},\"marker\":{\"line\":{\"color\":\"#E5ECF6\",\"width\":0.5},\"pattern\":{\"fillmode\":\"overlay\",\"size\":10,\"solidity\":0.2}},\"type\":\"bar\"}],\"scattergeo\":[{\"type\":\"scattergeo\",\"marker\":{\"colorbar\":{\"outlinewidth\":0,\"ticks\":\"\"}}}],\"scatterpolar\":[{\"type\":\"scatterpolar\",\"marker\":{\"colorbar\":{\"outlinewidth\":0,\"ticks\":\"\"}}}],\"histogram\":[{\"marker\":{\"pattern\":{\"fillmode\":\"overlay\",\"size\":10,\"solidity\":0.2}},\"type\":\"histogram\"}],\"scattergl\":[{\"type\":\"scattergl\",\"marker\":{\"colorbar\":{\"outlinewidth\":0,\"ticks\":\"\"}}}],\"scatter3d\":[{\"type\":\"scatter3d\",\"line\":{\"colorbar\":{\"outlinewidth\":0,\"ticks\":\"\"}},\"marker\":{\"colorbar\":{\"outlinewidth\":0,\"ticks\":\"\"}}}],\"scattermapbox\":[{\"type\":\"scattermapbox\",\"marker\":{\"colorbar\":{\"outlinewidth\":0,\"ticks\":\"\"}}}],\"scatterternary\":[{\"type\":\"scatterternary\",\"marker\":{\"colorbar\":{\"outlinewidth\":0,\"ticks\":\"\"}}}],\"scattercarpet\":[{\"type\":\"scattercarpet\",\"marker\":{\"colorbar\":{\"outlinewidth\":0,\"ticks\":\"\"}}}],\"carpet\":[{\"aaxis\":{\"endlinecolor\":\"#2a3f5f\",\"gridcolor\":\"white\",\"linecolor\":\"white\",\"minorgridcolor\":\"white\",\"startlinecolor\":\"#2a3f5f\"},\"baxis\":{\"endlinecolor\":\"#2a3f5f\",\"gridcolor\":\"white\",\"linecolor\":\"white\",\"minorgridcolor\":\"white\",\"startlinecolor\":\"#2a3f5f\"},\"type\":\"carpet\"}],\"table\":[{\"cells\":{\"fill\":{\"color\":\"#EBF0F8\"},\"line\":{\"color\":\"white\"}},\"header\":{\"fill\":{\"color\":\"#C8D4E3\"},\"line\":{\"color\":\"white\"}},\"type\":\"table\"}],\"barpolar\":[{\"marker\":{\"line\":{\"color\":\"#E5ECF6\",\"width\":0.5},\"pattern\":{\"fillmode\":\"overlay\",\"size\":10,\"solidity\":0.2}},\"type\":\"barpolar\"}],\"pie\":[{\"automargin\":true,\"type\":\"pie\"}]},\"layout\":{\"autotypenumbers\":\"strict\",\"colorway\":[\"#636efa\",\"#EF553B\",\"#00cc96\",\"#ab63fa\",\"#FFA15A\",\"#19d3f3\",\"#FF6692\",\"#B6E880\",\"#FF97FF\",\"#FECB52\"],\"font\":{\"color\":\"#2a3f5f\"},\"hovermode\":\"closest\",\"hoverlabel\":{\"align\":\"left\"},\"paper_bgcolor\":\"white\",\"plot_bgcolor\":\"#E5ECF6\",\"polar\":{\"bgcolor\":\"#E5ECF6\",\"angularaxis\":{\"gridcolor\":\"white\",\"linecolor\":\"white\",\"ticks\":\"\"},\"radialaxis\":{\"gridcolor\":\"white\",\"linecolor\":\"white\",\"ticks\":\"\"}},\"ternary\":{\"bgcolor\":\"#E5ECF6\",\"aaxis\":{\"gridcolor\":\"white\",\"linecolor\":\"white\",\"ticks\":\"\"},\"baxis\":{\"gridcolor\":\"white\",\"linecolor\":\"white\",\"ticks\":\"\"},\"caxis\":{\"gridcolor\":\"white\",\"linecolor\":\"white\",\"ticks\":\"\"}},\"coloraxis\":{\"colorbar\":{\"outlinewidth\":0,\"ticks\":\"\"}},\"colorscale\":{\"sequential\":[[0.0,\"#0d0887\"],[0.1111111111111111,\"#46039f\"],[0.2222222222222222,\"#7201a8\"],[0.3333333333333333,\"#9c179e\"],[0.4444444444444444,\"#bd3786\"],[0.5555555555555556,\"#d8576b\"],[0.6666666666666666,\"#ed7953\"],[0.7777777777777778,\"#fb9f3a\"],[0.8888888888888888,\"#fdca26\"],[1.0,\"#f0f921\"]],\"sequentialminus\":[[0.0,\"#0d0887\"],[0.1111111111111111,\"#46039f\"],[0.2222222222222222,\"#7201a8\"],[0.3333333333333333,\"#9c179e\"],[0.4444444444444444,\"#bd3786\"],[0.5555555555555556,\"#d8576b\"],[0.6666666666666666,\"#ed7953\"],[0.7777777777777778,\"#fb9f3a\"],[0.8888888888888888,\"#fdca26\"],[1.0,\"#f0f921\"]],\"diverging\":[[0,\"#8e0152\"],[0.1,\"#c51b7d\"],[0.2,\"#de77ae\"],[0.3,\"#f1b6da\"],[0.4,\"#fde0ef\"],[0.5,\"#f7f7f7\"],[0.6,\"#e6f5d0\"],[0.7,\"#b8e186\"],[0.8,\"#7fbc41\"],[0.9,\"#4d9221\"],[1,\"#276419\"]]},\"xaxis\":{\"gridcolor\":\"white\",\"linecolor\":\"white\",\"ticks\":\"\",\"title\":{\"standoff\":15},\"zerolinecolor\":\"white\",\"automargin\":true,\"zerolinewidth\":2},\"yaxis\":{\"gridcolor\":\"white\",\"linecolor\":\"white\",\"ticks\":\"\",\"title\":{\"standoff\":15},\"zerolinecolor\":\"white\",\"automargin\":true,\"zerolinewidth\":2},\"scene\":{\"xaxis\":{\"backgroundcolor\":\"#E5ECF6\",\"gridcolor\":\"white\",\"linecolor\":\"white\",\"showbackground\":true,\"ticks\":\"\",\"zerolinecolor\":\"white\",\"gridwidth\":2},\"yaxis\":{\"backgroundcolor\":\"#E5ECF6\",\"gridcolor\":\"white\",\"linecolor\":\"white\",\"showbackground\":true,\"ticks\":\"\",\"zerolinecolor\":\"white\",\"gridwidth\":2},\"zaxis\":{\"backgroundcolor\":\"#E5ECF6\",\"gridcolor\":\"white\",\"linecolor\":\"white\",\"showbackground\":true,\"ticks\":\"\",\"zerolinecolor\":\"white\",\"gridwidth\":2}},\"shapedefaults\":{\"line\":{\"color\":\"#2a3f5f\"}},\"annotationdefaults\":{\"arrowcolor\":\"#2a3f5f\",\"arrowhead\":0,\"arrowwidth\":1},\"geo\":{\"bgcolor\":\"white\",\"landcolor\":\"#E5ECF6\",\"subunitcolor\":\"white\",\"showland\":true,\"showlakes\":true,\"lakecolor\":\"white\"},\"title\":{\"x\":0.05},\"mapbox\":{\"style\":\"light\"}}},\"scene\":{\"domain\":{\"x\":[0.0,1.0],\"y\":[0.0,1.0]},\"xaxis\":{\"title\":{\"text\":\"course\"}},\"yaxis\":{\"title\":{\"text\":\"instructor\"}},\"zaxis\":{\"title\":{\"text\":\"class_size\"}}},\"coloraxis\":{\"colorbar\":{\"title\":{\"text\":\"attribute\"}},\"colorscale\":[[0.0,\"#0d0887\"],[0.1111111111111111,\"#46039f\"],[0.2222222222222222,\"#7201a8\"],[0.3333333333333333,\"#9c179e\"],[0.4444444444444444,\"#bd3786\"],[0.5555555555555556,\"#d8576b\"],[0.6666666666666666,\"#ed7953\"],[0.7777777777777778,\"#fb9f3a\"],[0.8888888888888888,\"#fdca26\"],[1.0,\"#f0f921\"]]},\"legend\":{\"tracegroupgap\":0},\"margin\":{\"t\":60}},                        {\"responsive\": true}                    ).then(function(){\n",
              "                            \n",
              "var gd = document.getElementById('7f54bbcb-0296-4ef6-b322-54181b4f04d5');\n",
              "var x = new MutationObserver(function (mutations, observer) {{\n",
              "        var display = window.getComputedStyle(gd).display;\n",
              "        if (!display || display === 'none') {{\n",
              "            console.log([gd, 'removed!']);\n",
              "            Plotly.purge(gd);\n",
              "            observer.disconnect();\n",
              "        }}\n",
              "}});\n",
              "\n",
              "// Listen for the removal of the full notebook cells\n",
              "var notebookContainer = gd.closest('#notebook-container');\n",
              "if (notebookContainer) {{\n",
              "    x.observe(notebookContainer, {childList: true});\n",
              "}}\n",
              "\n",
              "// Listen for the clearing of the current output cell\n",
              "var outputEl = gd.closest('.output');\n",
              "if (outputEl) {{\n",
              "    x.observe(outputEl, {childList: true});\n",
              "}}\n",
              "\n",
              "                        })                };                            </script>        </div>\n",
              "</body>\n",
              "</html>"
            ]
          },
          "metadata": {}
        }
      ]
    },
    {
      "cell_type": "code",
      "source": [
        "for i in df.columns:\n",
        "  fig= px.histogram(df,x=i)\n",
        "  fig.update_layout(bargap=0.1)\n",
        "  fig.show()\n"
      ],
      "metadata": {
        "colab": {
          "base_uri": "https://localhost:8080/",
          "height": 1000
        },
        "id": "xLDJIvmfZSzK",
        "outputId": "94bad1dc-d301-4512-9cb1-841f7d0dcbd4"
      },
      "execution_count": null,
      "outputs": [
        {
          "output_type": "display_data",
          "data": {
            "text/html": [
              "<html>\n",
              "<head><meta charset=\"utf-8\" /></head>\n",
              "<body>\n",
              "    <div>            <script src=\"https://cdnjs.cloudflare.com/ajax/libs/mathjax/2.7.5/MathJax.js?config=TeX-AMS-MML_SVG\"></script><script type=\"text/javascript\">if (window.MathJax && window.MathJax.Hub && window.MathJax.Hub.Config) {window.MathJax.Hub.Config({SVG: {font: \"STIX-Web\"}});}</script>                <script type=\"text/javascript\">window.PlotlyConfig = {MathJaxConfig: 'local'};</script>\n",
              "        <script charset=\"utf-8\" src=\"https://cdn.plot.ly/plotly-2.24.1.min.js\"></script>                <div id=\"3d4a93f9-e4ec-481e-8cd0-754277da9b28\" class=\"plotly-graph-div\" style=\"height:525px; width:100%;\"></div>            <script type=\"text/javascript\">                                    window.PLOTLYENV=window.PLOTLYENV || {};                                    if (document.getElementById(\"3d4a93f9-e4ec-481e-8cd0-754277da9b28\")) {                    Plotly.newPlot(                        \"3d4a93f9-e4ec-481e-8cd0-754277da9b28\",                        [{\"alignmentgroup\":\"True\",\"bingroup\":\"x\",\"hovertemplate\":\"speaker=%{x}\\u003cbr\\u003ecount=%{y}\\u003cextra\\u003e\\u003c\\u002fextra\\u003e\",\"legendgroup\":\"\",\"marker\":{\"color\":\"#636efa\",\"pattern\":{\"shape\":\"\"}},\"name\":\"\",\"offsetgroup\":\"\",\"orientation\":\"v\",\"showlegend\":false,\"x\":[1,2,1,1,2,2,2,2,1,2,2,2,2,2,2,2,2,2,2,2,2,2,2,2,2,2,2,2,2,2,2,2,2,1,2,2,2,2,2,1,2,1,1,2,2,2,2,1,2,2,2,2,2,2,2,2,2,2,2,2,2,2,2,2,2,2,2,2,2,2,2,2,1,2,2,2,2,2,1,1,2,2,2,2,1,2,2,1,1,2,1,2,2,1,2,2,1,1,2,2,1,2,1,2,1,2,2,2,1,2,2,2,1,2,2,2,2,2,2,2,2,2,2,1,2,1,1,2,2,2,2,1,2,2,2,2,2,2,2,2,2,2,2,2,2,2,2,2,1,2,2],\"xaxis\":\"x\",\"yaxis\":\"y\",\"type\":\"histogram\"}],                        {\"template\":{\"data\":{\"histogram2dcontour\":[{\"type\":\"histogram2dcontour\",\"colorbar\":{\"outlinewidth\":0,\"ticks\":\"\"},\"colorscale\":[[0.0,\"#0d0887\"],[0.1111111111111111,\"#46039f\"],[0.2222222222222222,\"#7201a8\"],[0.3333333333333333,\"#9c179e\"],[0.4444444444444444,\"#bd3786\"],[0.5555555555555556,\"#d8576b\"],[0.6666666666666666,\"#ed7953\"],[0.7777777777777778,\"#fb9f3a\"],[0.8888888888888888,\"#fdca26\"],[1.0,\"#f0f921\"]]}],\"choropleth\":[{\"type\":\"choropleth\",\"colorbar\":{\"outlinewidth\":0,\"ticks\":\"\"}}],\"histogram2d\":[{\"type\":\"histogram2d\",\"colorbar\":{\"outlinewidth\":0,\"ticks\":\"\"},\"colorscale\":[[0.0,\"#0d0887\"],[0.1111111111111111,\"#46039f\"],[0.2222222222222222,\"#7201a8\"],[0.3333333333333333,\"#9c179e\"],[0.4444444444444444,\"#bd3786\"],[0.5555555555555556,\"#d8576b\"],[0.6666666666666666,\"#ed7953\"],[0.7777777777777778,\"#fb9f3a\"],[0.8888888888888888,\"#fdca26\"],[1.0,\"#f0f921\"]]}],\"heatmap\":[{\"type\":\"heatmap\",\"colorbar\":{\"outlinewidth\":0,\"ticks\":\"\"},\"colorscale\":[[0.0,\"#0d0887\"],[0.1111111111111111,\"#46039f\"],[0.2222222222222222,\"#7201a8\"],[0.3333333333333333,\"#9c179e\"],[0.4444444444444444,\"#bd3786\"],[0.5555555555555556,\"#d8576b\"],[0.6666666666666666,\"#ed7953\"],[0.7777777777777778,\"#fb9f3a\"],[0.8888888888888888,\"#fdca26\"],[1.0,\"#f0f921\"]]}],\"heatmapgl\":[{\"type\":\"heatmapgl\",\"colorbar\":{\"outlinewidth\":0,\"ticks\":\"\"},\"colorscale\":[[0.0,\"#0d0887\"],[0.1111111111111111,\"#46039f\"],[0.2222222222222222,\"#7201a8\"],[0.3333333333333333,\"#9c179e\"],[0.4444444444444444,\"#bd3786\"],[0.5555555555555556,\"#d8576b\"],[0.6666666666666666,\"#ed7953\"],[0.7777777777777778,\"#fb9f3a\"],[0.8888888888888888,\"#fdca26\"],[1.0,\"#f0f921\"]]}],\"contourcarpet\":[{\"type\":\"contourcarpet\",\"colorbar\":{\"outlinewidth\":0,\"ticks\":\"\"}}],\"contour\":[{\"type\":\"contour\",\"colorbar\":{\"outlinewidth\":0,\"ticks\":\"\"},\"colorscale\":[[0.0,\"#0d0887\"],[0.1111111111111111,\"#46039f\"],[0.2222222222222222,\"#7201a8\"],[0.3333333333333333,\"#9c179e\"],[0.4444444444444444,\"#bd3786\"],[0.5555555555555556,\"#d8576b\"],[0.6666666666666666,\"#ed7953\"],[0.7777777777777778,\"#fb9f3a\"],[0.8888888888888888,\"#fdca26\"],[1.0,\"#f0f921\"]]}],\"surface\":[{\"type\":\"surface\",\"colorbar\":{\"outlinewidth\":0,\"ticks\":\"\"},\"colorscale\":[[0.0,\"#0d0887\"],[0.1111111111111111,\"#46039f\"],[0.2222222222222222,\"#7201a8\"],[0.3333333333333333,\"#9c179e\"],[0.4444444444444444,\"#bd3786\"],[0.5555555555555556,\"#d8576b\"],[0.6666666666666666,\"#ed7953\"],[0.7777777777777778,\"#fb9f3a\"],[0.8888888888888888,\"#fdca26\"],[1.0,\"#f0f921\"]]}],\"mesh3d\":[{\"type\":\"mesh3d\",\"colorbar\":{\"outlinewidth\":0,\"ticks\":\"\"}}],\"scatter\":[{\"fillpattern\":{\"fillmode\":\"overlay\",\"size\":10,\"solidity\":0.2},\"type\":\"scatter\"}],\"parcoords\":[{\"type\":\"parcoords\",\"line\":{\"colorbar\":{\"outlinewidth\":0,\"ticks\":\"\"}}}],\"scatterpolargl\":[{\"type\":\"scatterpolargl\",\"marker\":{\"colorbar\":{\"outlinewidth\":0,\"ticks\":\"\"}}}],\"bar\":[{\"error_x\":{\"color\":\"#2a3f5f\"},\"error_y\":{\"color\":\"#2a3f5f\"},\"marker\":{\"line\":{\"color\":\"#E5ECF6\",\"width\":0.5},\"pattern\":{\"fillmode\":\"overlay\",\"size\":10,\"solidity\":0.2}},\"type\":\"bar\"}],\"scattergeo\":[{\"type\":\"scattergeo\",\"marker\":{\"colorbar\":{\"outlinewidth\":0,\"ticks\":\"\"}}}],\"scatterpolar\":[{\"type\":\"scatterpolar\",\"marker\":{\"colorbar\":{\"outlinewidth\":0,\"ticks\":\"\"}}}],\"histogram\":[{\"marker\":{\"pattern\":{\"fillmode\":\"overlay\",\"size\":10,\"solidity\":0.2}},\"type\":\"histogram\"}],\"scattergl\":[{\"type\":\"scattergl\",\"marker\":{\"colorbar\":{\"outlinewidth\":0,\"ticks\":\"\"}}}],\"scatter3d\":[{\"type\":\"scatter3d\",\"line\":{\"colorbar\":{\"outlinewidth\":0,\"ticks\":\"\"}},\"marker\":{\"colorbar\":{\"outlinewidth\":0,\"ticks\":\"\"}}}],\"scattermapbox\":[{\"type\":\"scattermapbox\",\"marker\":{\"colorbar\":{\"outlinewidth\":0,\"ticks\":\"\"}}}],\"scatterternary\":[{\"type\":\"scatterternary\",\"marker\":{\"colorbar\":{\"outlinewidth\":0,\"ticks\":\"\"}}}],\"scattercarpet\":[{\"type\":\"scattercarpet\",\"marker\":{\"colorbar\":{\"outlinewidth\":0,\"ticks\":\"\"}}}],\"carpet\":[{\"aaxis\":{\"endlinecolor\":\"#2a3f5f\",\"gridcolor\":\"white\",\"linecolor\":\"white\",\"minorgridcolor\":\"white\",\"startlinecolor\":\"#2a3f5f\"},\"baxis\":{\"endlinecolor\":\"#2a3f5f\",\"gridcolor\":\"white\",\"linecolor\":\"white\",\"minorgridcolor\":\"white\",\"startlinecolor\":\"#2a3f5f\"},\"type\":\"carpet\"}],\"table\":[{\"cells\":{\"fill\":{\"color\":\"#EBF0F8\"},\"line\":{\"color\":\"white\"}},\"header\":{\"fill\":{\"color\":\"#C8D4E3\"},\"line\":{\"color\":\"white\"}},\"type\":\"table\"}],\"barpolar\":[{\"marker\":{\"line\":{\"color\":\"#E5ECF6\",\"width\":0.5},\"pattern\":{\"fillmode\":\"overlay\",\"size\":10,\"solidity\":0.2}},\"type\":\"barpolar\"}],\"pie\":[{\"automargin\":true,\"type\":\"pie\"}]},\"layout\":{\"autotypenumbers\":\"strict\",\"colorway\":[\"#636efa\",\"#EF553B\",\"#00cc96\",\"#ab63fa\",\"#FFA15A\",\"#19d3f3\",\"#FF6692\",\"#B6E880\",\"#FF97FF\",\"#FECB52\"],\"font\":{\"color\":\"#2a3f5f\"},\"hovermode\":\"closest\",\"hoverlabel\":{\"align\":\"left\"},\"paper_bgcolor\":\"white\",\"plot_bgcolor\":\"#E5ECF6\",\"polar\":{\"bgcolor\":\"#E5ECF6\",\"angularaxis\":{\"gridcolor\":\"white\",\"linecolor\":\"white\",\"ticks\":\"\"},\"radialaxis\":{\"gridcolor\":\"white\",\"linecolor\":\"white\",\"ticks\":\"\"}},\"ternary\":{\"bgcolor\":\"#E5ECF6\",\"aaxis\":{\"gridcolor\":\"white\",\"linecolor\":\"white\",\"ticks\":\"\"},\"baxis\":{\"gridcolor\":\"white\",\"linecolor\":\"white\",\"ticks\":\"\"},\"caxis\":{\"gridcolor\":\"white\",\"linecolor\":\"white\",\"ticks\":\"\"}},\"coloraxis\":{\"colorbar\":{\"outlinewidth\":0,\"ticks\":\"\"}},\"colorscale\":{\"sequential\":[[0.0,\"#0d0887\"],[0.1111111111111111,\"#46039f\"],[0.2222222222222222,\"#7201a8\"],[0.3333333333333333,\"#9c179e\"],[0.4444444444444444,\"#bd3786\"],[0.5555555555555556,\"#d8576b\"],[0.6666666666666666,\"#ed7953\"],[0.7777777777777778,\"#fb9f3a\"],[0.8888888888888888,\"#fdca26\"],[1.0,\"#f0f921\"]],\"sequentialminus\":[[0.0,\"#0d0887\"],[0.1111111111111111,\"#46039f\"],[0.2222222222222222,\"#7201a8\"],[0.3333333333333333,\"#9c179e\"],[0.4444444444444444,\"#bd3786\"],[0.5555555555555556,\"#d8576b\"],[0.6666666666666666,\"#ed7953\"],[0.7777777777777778,\"#fb9f3a\"],[0.8888888888888888,\"#fdca26\"],[1.0,\"#f0f921\"]],\"diverging\":[[0,\"#8e0152\"],[0.1,\"#c51b7d\"],[0.2,\"#de77ae\"],[0.3,\"#f1b6da\"],[0.4,\"#fde0ef\"],[0.5,\"#f7f7f7\"],[0.6,\"#e6f5d0\"],[0.7,\"#b8e186\"],[0.8,\"#7fbc41\"],[0.9,\"#4d9221\"],[1,\"#276419\"]]},\"xaxis\":{\"gridcolor\":\"white\",\"linecolor\":\"white\",\"ticks\":\"\",\"title\":{\"standoff\":15},\"zerolinecolor\":\"white\",\"automargin\":true,\"zerolinewidth\":2},\"yaxis\":{\"gridcolor\":\"white\",\"linecolor\":\"white\",\"ticks\":\"\",\"title\":{\"standoff\":15},\"zerolinecolor\":\"white\",\"automargin\":true,\"zerolinewidth\":2},\"scene\":{\"xaxis\":{\"backgroundcolor\":\"#E5ECF6\",\"gridcolor\":\"white\",\"linecolor\":\"white\",\"showbackground\":true,\"ticks\":\"\",\"zerolinecolor\":\"white\",\"gridwidth\":2},\"yaxis\":{\"backgroundcolor\":\"#E5ECF6\",\"gridcolor\":\"white\",\"linecolor\":\"white\",\"showbackground\":true,\"ticks\":\"\",\"zerolinecolor\":\"white\",\"gridwidth\":2},\"zaxis\":{\"backgroundcolor\":\"#E5ECF6\",\"gridcolor\":\"white\",\"linecolor\":\"white\",\"showbackground\":true,\"ticks\":\"\",\"zerolinecolor\":\"white\",\"gridwidth\":2}},\"shapedefaults\":{\"line\":{\"color\":\"#2a3f5f\"}},\"annotationdefaults\":{\"arrowcolor\":\"#2a3f5f\",\"arrowhead\":0,\"arrowwidth\":1},\"geo\":{\"bgcolor\":\"white\",\"landcolor\":\"#E5ECF6\",\"subunitcolor\":\"white\",\"showland\":true,\"showlakes\":true,\"lakecolor\":\"white\"},\"title\":{\"x\":0.05},\"mapbox\":{\"style\":\"light\"}}},\"xaxis\":{\"anchor\":\"y\",\"domain\":[0.0,1.0],\"title\":{\"text\":\"speaker\"}},\"yaxis\":{\"anchor\":\"x\",\"domain\":[0.0,1.0],\"title\":{\"text\":\"count\"}},\"legend\":{\"tracegroupgap\":0},\"margin\":{\"t\":60},\"barmode\":\"relative\",\"bargap\":0.1},                        {\"responsive\": true}                    ).then(function(){\n",
              "                            \n",
              "var gd = document.getElementById('3d4a93f9-e4ec-481e-8cd0-754277da9b28');\n",
              "var x = new MutationObserver(function (mutations, observer) {{\n",
              "        var display = window.getComputedStyle(gd).display;\n",
              "        if (!display || display === 'none') {{\n",
              "            console.log([gd, 'removed!']);\n",
              "            Plotly.purge(gd);\n",
              "            observer.disconnect();\n",
              "        }}\n",
              "}});\n",
              "\n",
              "// Listen for the removal of the full notebook cells\n",
              "var notebookContainer = gd.closest('#notebook-container');\n",
              "if (notebookContainer) {{\n",
              "    x.observe(notebookContainer, {childList: true});\n",
              "}}\n",
              "\n",
              "// Listen for the clearing of the current output cell\n",
              "var outputEl = gd.closest('.output');\n",
              "if (outputEl) {{\n",
              "    x.observe(outputEl, {childList: true});\n",
              "}}\n",
              "\n",
              "                        })                };                            </script>        </div>\n",
              "</body>\n",
              "</html>"
            ]
          },
          "metadata": {}
        },
        {
          "output_type": "display_data",
          "data": {
            "text/html": [
              "<html>\n",
              "<head><meta charset=\"utf-8\" /></head>\n",
              "<body>\n",
              "    <div>            <script src=\"https://cdnjs.cloudflare.com/ajax/libs/mathjax/2.7.5/MathJax.js?config=TeX-AMS-MML_SVG\"></script><script type=\"text/javascript\">if (window.MathJax && window.MathJax.Hub && window.MathJax.Hub.Config) {window.MathJax.Hub.Config({SVG: {font: \"STIX-Web\"}});}</script>                <script type=\"text/javascript\">window.PlotlyConfig = {MathJaxConfig: 'local'};</script>\n",
              "        <script charset=\"utf-8\" src=\"https://cdn.plot.ly/plotly-2.24.1.min.js\"></script>                <div id=\"05ea12ae-77e0-4b09-9440-5f5a657ccbbf\" class=\"plotly-graph-div\" style=\"height:525px; width:100%;\"></div>            <script type=\"text/javascript\">                                    window.PLOTLYENV=window.PLOTLYENV || {};                                    if (document.getElementById(\"05ea12ae-77e0-4b09-9440-5f5a657ccbbf\")) {                    Plotly.newPlot(                        \"05ea12ae-77e0-4b09-9440-5f5a657ccbbf\",                        [{\"alignmentgroup\":\"True\",\"bingroup\":\"x\",\"hovertemplate\":\"instructor=%{x}\\u003cbr\\u003ecount=%{y}\\u003cextra\\u003e\\u003c\\u002fextra\\u003e\",\"legendgroup\":\"\",\"marker\":{\"color\":\"#636efa\",\"pattern\":{\"shape\":\"\"}},\"name\":\"\",\"offsetgroup\":\"\",\"orientation\":\"v\",\"showlegend\":false,\"x\":[23,15,23,5,7,23,9,10,22,15,10,13,18,6,6,6,7,22,13,7,25,25,2,1,15,7,8,14,21,22,11,18,13,13,5,16,4,5,14,23,15,23,5,7,23,9,10,22,15,10,13,18,6,6,6,7,22,13,7,25,25,2,1,15,7,8,14,21,22,11,18,13,13,5,16,4,5,14,23,13,16,9,13,18,22,7,23,23,23,14,17,9,18,17,1,1,11,22,9,13,6,23,23,6,22,20,23,20,23,13,10,7,14,8,12,8,15,23,2,15,20,13,9,10,14,13,8,20,22,18,20,17,14,24,9,12,9,22,7,10,23,17,16,3,19,23,3,10,18,22,2],\"xaxis\":\"x\",\"yaxis\":\"y\",\"type\":\"histogram\"}],                        {\"template\":{\"data\":{\"histogram2dcontour\":[{\"type\":\"histogram2dcontour\",\"colorbar\":{\"outlinewidth\":0,\"ticks\":\"\"},\"colorscale\":[[0.0,\"#0d0887\"],[0.1111111111111111,\"#46039f\"],[0.2222222222222222,\"#7201a8\"],[0.3333333333333333,\"#9c179e\"],[0.4444444444444444,\"#bd3786\"],[0.5555555555555556,\"#d8576b\"],[0.6666666666666666,\"#ed7953\"],[0.7777777777777778,\"#fb9f3a\"],[0.8888888888888888,\"#fdca26\"],[1.0,\"#f0f921\"]]}],\"choropleth\":[{\"type\":\"choropleth\",\"colorbar\":{\"outlinewidth\":0,\"ticks\":\"\"}}],\"histogram2d\":[{\"type\":\"histogram2d\",\"colorbar\":{\"outlinewidth\":0,\"ticks\":\"\"},\"colorscale\":[[0.0,\"#0d0887\"],[0.1111111111111111,\"#46039f\"],[0.2222222222222222,\"#7201a8\"],[0.3333333333333333,\"#9c179e\"],[0.4444444444444444,\"#bd3786\"],[0.5555555555555556,\"#d8576b\"],[0.6666666666666666,\"#ed7953\"],[0.7777777777777778,\"#fb9f3a\"],[0.8888888888888888,\"#fdca26\"],[1.0,\"#f0f921\"]]}],\"heatmap\":[{\"type\":\"heatmap\",\"colorbar\":{\"outlinewidth\":0,\"ticks\":\"\"},\"colorscale\":[[0.0,\"#0d0887\"],[0.1111111111111111,\"#46039f\"],[0.2222222222222222,\"#7201a8\"],[0.3333333333333333,\"#9c179e\"],[0.4444444444444444,\"#bd3786\"],[0.5555555555555556,\"#d8576b\"],[0.6666666666666666,\"#ed7953\"],[0.7777777777777778,\"#fb9f3a\"],[0.8888888888888888,\"#fdca26\"],[1.0,\"#f0f921\"]]}],\"heatmapgl\":[{\"type\":\"heatmapgl\",\"colorbar\":{\"outlinewidth\":0,\"ticks\":\"\"},\"colorscale\":[[0.0,\"#0d0887\"],[0.1111111111111111,\"#46039f\"],[0.2222222222222222,\"#7201a8\"],[0.3333333333333333,\"#9c179e\"],[0.4444444444444444,\"#bd3786\"],[0.5555555555555556,\"#d8576b\"],[0.6666666666666666,\"#ed7953\"],[0.7777777777777778,\"#fb9f3a\"],[0.8888888888888888,\"#fdca26\"],[1.0,\"#f0f921\"]]}],\"contourcarpet\":[{\"type\":\"contourcarpet\",\"colorbar\":{\"outlinewidth\":0,\"ticks\":\"\"}}],\"contour\":[{\"type\":\"contour\",\"colorbar\":{\"outlinewidth\":0,\"ticks\":\"\"},\"colorscale\":[[0.0,\"#0d0887\"],[0.1111111111111111,\"#46039f\"],[0.2222222222222222,\"#7201a8\"],[0.3333333333333333,\"#9c179e\"],[0.4444444444444444,\"#bd3786\"],[0.5555555555555556,\"#d8576b\"],[0.6666666666666666,\"#ed7953\"],[0.7777777777777778,\"#fb9f3a\"],[0.8888888888888888,\"#fdca26\"],[1.0,\"#f0f921\"]]}],\"surface\":[{\"type\":\"surface\",\"colorbar\":{\"outlinewidth\":0,\"ticks\":\"\"},\"colorscale\":[[0.0,\"#0d0887\"],[0.1111111111111111,\"#46039f\"],[0.2222222222222222,\"#7201a8\"],[0.3333333333333333,\"#9c179e\"],[0.4444444444444444,\"#bd3786\"],[0.5555555555555556,\"#d8576b\"],[0.6666666666666666,\"#ed7953\"],[0.7777777777777778,\"#fb9f3a\"],[0.8888888888888888,\"#fdca26\"],[1.0,\"#f0f921\"]]}],\"mesh3d\":[{\"type\":\"mesh3d\",\"colorbar\":{\"outlinewidth\":0,\"ticks\":\"\"}}],\"scatter\":[{\"fillpattern\":{\"fillmode\":\"overlay\",\"size\":10,\"solidity\":0.2},\"type\":\"scatter\"}],\"parcoords\":[{\"type\":\"parcoords\",\"line\":{\"colorbar\":{\"outlinewidth\":0,\"ticks\":\"\"}}}],\"scatterpolargl\":[{\"type\":\"scatterpolargl\",\"marker\":{\"colorbar\":{\"outlinewidth\":0,\"ticks\":\"\"}}}],\"bar\":[{\"error_x\":{\"color\":\"#2a3f5f\"},\"error_y\":{\"color\":\"#2a3f5f\"},\"marker\":{\"line\":{\"color\":\"#E5ECF6\",\"width\":0.5},\"pattern\":{\"fillmode\":\"overlay\",\"size\":10,\"solidity\":0.2}},\"type\":\"bar\"}],\"scattergeo\":[{\"type\":\"scattergeo\",\"marker\":{\"colorbar\":{\"outlinewidth\":0,\"ticks\":\"\"}}}],\"scatterpolar\":[{\"type\":\"scatterpolar\",\"marker\":{\"colorbar\":{\"outlinewidth\":0,\"ticks\":\"\"}}}],\"histogram\":[{\"marker\":{\"pattern\":{\"fillmode\":\"overlay\",\"size\":10,\"solidity\":0.2}},\"type\":\"histogram\"}],\"scattergl\":[{\"type\":\"scattergl\",\"marker\":{\"colorbar\":{\"outlinewidth\":0,\"ticks\":\"\"}}}],\"scatter3d\":[{\"type\":\"scatter3d\",\"line\":{\"colorbar\":{\"outlinewidth\":0,\"ticks\":\"\"}},\"marker\":{\"colorbar\":{\"outlinewidth\":0,\"ticks\":\"\"}}}],\"scattermapbox\":[{\"type\":\"scattermapbox\",\"marker\":{\"colorbar\":{\"outlinewidth\":0,\"ticks\":\"\"}}}],\"scatterternary\":[{\"type\":\"scatterternary\",\"marker\":{\"colorbar\":{\"outlinewidth\":0,\"ticks\":\"\"}}}],\"scattercarpet\":[{\"type\":\"scattercarpet\",\"marker\":{\"colorbar\":{\"outlinewidth\":0,\"ticks\":\"\"}}}],\"carpet\":[{\"aaxis\":{\"endlinecolor\":\"#2a3f5f\",\"gridcolor\":\"white\",\"linecolor\":\"white\",\"minorgridcolor\":\"white\",\"startlinecolor\":\"#2a3f5f\"},\"baxis\":{\"endlinecolor\":\"#2a3f5f\",\"gridcolor\":\"white\",\"linecolor\":\"white\",\"minorgridcolor\":\"white\",\"startlinecolor\":\"#2a3f5f\"},\"type\":\"carpet\"}],\"table\":[{\"cells\":{\"fill\":{\"color\":\"#EBF0F8\"},\"line\":{\"color\":\"white\"}},\"header\":{\"fill\":{\"color\":\"#C8D4E3\"},\"line\":{\"color\":\"white\"}},\"type\":\"table\"}],\"barpolar\":[{\"marker\":{\"line\":{\"color\":\"#E5ECF6\",\"width\":0.5},\"pattern\":{\"fillmode\":\"overlay\",\"size\":10,\"solidity\":0.2}},\"type\":\"barpolar\"}],\"pie\":[{\"automargin\":true,\"type\":\"pie\"}]},\"layout\":{\"autotypenumbers\":\"strict\",\"colorway\":[\"#636efa\",\"#EF553B\",\"#00cc96\",\"#ab63fa\",\"#FFA15A\",\"#19d3f3\",\"#FF6692\",\"#B6E880\",\"#FF97FF\",\"#FECB52\"],\"font\":{\"color\":\"#2a3f5f\"},\"hovermode\":\"closest\",\"hoverlabel\":{\"align\":\"left\"},\"paper_bgcolor\":\"white\",\"plot_bgcolor\":\"#E5ECF6\",\"polar\":{\"bgcolor\":\"#E5ECF6\",\"angularaxis\":{\"gridcolor\":\"white\",\"linecolor\":\"white\",\"ticks\":\"\"},\"radialaxis\":{\"gridcolor\":\"white\",\"linecolor\":\"white\",\"ticks\":\"\"}},\"ternary\":{\"bgcolor\":\"#E5ECF6\",\"aaxis\":{\"gridcolor\":\"white\",\"linecolor\":\"white\",\"ticks\":\"\"},\"baxis\":{\"gridcolor\":\"white\",\"linecolor\":\"white\",\"ticks\":\"\"},\"caxis\":{\"gridcolor\":\"white\",\"linecolor\":\"white\",\"ticks\":\"\"}},\"coloraxis\":{\"colorbar\":{\"outlinewidth\":0,\"ticks\":\"\"}},\"colorscale\":{\"sequential\":[[0.0,\"#0d0887\"],[0.1111111111111111,\"#46039f\"],[0.2222222222222222,\"#7201a8\"],[0.3333333333333333,\"#9c179e\"],[0.4444444444444444,\"#bd3786\"],[0.5555555555555556,\"#d8576b\"],[0.6666666666666666,\"#ed7953\"],[0.7777777777777778,\"#fb9f3a\"],[0.8888888888888888,\"#fdca26\"],[1.0,\"#f0f921\"]],\"sequentialminus\":[[0.0,\"#0d0887\"],[0.1111111111111111,\"#46039f\"],[0.2222222222222222,\"#7201a8\"],[0.3333333333333333,\"#9c179e\"],[0.4444444444444444,\"#bd3786\"],[0.5555555555555556,\"#d8576b\"],[0.6666666666666666,\"#ed7953\"],[0.7777777777777778,\"#fb9f3a\"],[0.8888888888888888,\"#fdca26\"],[1.0,\"#f0f921\"]],\"diverging\":[[0,\"#8e0152\"],[0.1,\"#c51b7d\"],[0.2,\"#de77ae\"],[0.3,\"#f1b6da\"],[0.4,\"#fde0ef\"],[0.5,\"#f7f7f7\"],[0.6,\"#e6f5d0\"],[0.7,\"#b8e186\"],[0.8,\"#7fbc41\"],[0.9,\"#4d9221\"],[1,\"#276419\"]]},\"xaxis\":{\"gridcolor\":\"white\",\"linecolor\":\"white\",\"ticks\":\"\",\"title\":{\"standoff\":15},\"zerolinecolor\":\"white\",\"automargin\":true,\"zerolinewidth\":2},\"yaxis\":{\"gridcolor\":\"white\",\"linecolor\":\"white\",\"ticks\":\"\",\"title\":{\"standoff\":15},\"zerolinecolor\":\"white\",\"automargin\":true,\"zerolinewidth\":2},\"scene\":{\"xaxis\":{\"backgroundcolor\":\"#E5ECF6\",\"gridcolor\":\"white\",\"linecolor\":\"white\",\"showbackground\":true,\"ticks\":\"\",\"zerolinecolor\":\"white\",\"gridwidth\":2},\"yaxis\":{\"backgroundcolor\":\"#E5ECF6\",\"gridcolor\":\"white\",\"linecolor\":\"white\",\"showbackground\":true,\"ticks\":\"\",\"zerolinecolor\":\"white\",\"gridwidth\":2},\"zaxis\":{\"backgroundcolor\":\"#E5ECF6\",\"gridcolor\":\"white\",\"linecolor\":\"white\",\"showbackground\":true,\"ticks\":\"\",\"zerolinecolor\":\"white\",\"gridwidth\":2}},\"shapedefaults\":{\"line\":{\"color\":\"#2a3f5f\"}},\"annotationdefaults\":{\"arrowcolor\":\"#2a3f5f\",\"arrowhead\":0,\"arrowwidth\":1},\"geo\":{\"bgcolor\":\"white\",\"landcolor\":\"#E5ECF6\",\"subunitcolor\":\"white\",\"showland\":true,\"showlakes\":true,\"lakecolor\":\"white\"},\"title\":{\"x\":0.05},\"mapbox\":{\"style\":\"light\"}}},\"xaxis\":{\"anchor\":\"y\",\"domain\":[0.0,1.0],\"title\":{\"text\":\"instructor\"}},\"yaxis\":{\"anchor\":\"x\",\"domain\":[0.0,1.0],\"title\":{\"text\":\"count\"}},\"legend\":{\"tracegroupgap\":0},\"margin\":{\"t\":60},\"barmode\":\"relative\",\"bargap\":0.1},                        {\"responsive\": true}                    ).then(function(){\n",
              "                            \n",
              "var gd = document.getElementById('05ea12ae-77e0-4b09-9440-5f5a657ccbbf');\n",
              "var x = new MutationObserver(function (mutations, observer) {{\n",
              "        var display = window.getComputedStyle(gd).display;\n",
              "        if (!display || display === 'none') {{\n",
              "            console.log([gd, 'removed!']);\n",
              "            Plotly.purge(gd);\n",
              "            observer.disconnect();\n",
              "        }}\n",
              "}});\n",
              "\n",
              "// Listen for the removal of the full notebook cells\n",
              "var notebookContainer = gd.closest('#notebook-container');\n",
              "if (notebookContainer) {{\n",
              "    x.observe(notebookContainer, {childList: true});\n",
              "}}\n",
              "\n",
              "// Listen for the clearing of the current output cell\n",
              "var outputEl = gd.closest('.output');\n",
              "if (outputEl) {{\n",
              "    x.observe(outputEl, {childList: true});\n",
              "}}\n",
              "\n",
              "                        })                };                            </script>        </div>\n",
              "</body>\n",
              "</html>"
            ]
          },
          "metadata": {}
        },
        {
          "output_type": "display_data",
          "data": {
            "text/html": [
              "<html>\n",
              "<head><meta charset=\"utf-8\" /></head>\n",
              "<body>\n",
              "    <div>            <script src=\"https://cdnjs.cloudflare.com/ajax/libs/mathjax/2.7.5/MathJax.js?config=TeX-AMS-MML_SVG\"></script><script type=\"text/javascript\">if (window.MathJax && window.MathJax.Hub && window.MathJax.Hub.Config) {window.MathJax.Hub.Config({SVG: {font: \"STIX-Web\"}});}</script>                <script type=\"text/javascript\">window.PlotlyConfig = {MathJaxConfig: 'local'};</script>\n",
              "        <script charset=\"utf-8\" src=\"https://cdn.plot.ly/plotly-2.24.1.min.js\"></script>                <div id=\"e6aa3626-8bb5-4b2d-81d2-52eebe97927a\" class=\"plotly-graph-div\" style=\"height:525px; width:100%;\"></div>            <script type=\"text/javascript\">                                    window.PLOTLYENV=window.PLOTLYENV || {};                                    if (document.getElementById(\"e6aa3626-8bb5-4b2d-81d2-52eebe97927a\")) {                    Plotly.newPlot(                        \"e6aa3626-8bb5-4b2d-81d2-52eebe97927a\",                        [{\"alignmentgroup\":\"True\",\"bingroup\":\"x\",\"hovertemplate\":\"course=%{x}\\u003cbr\\u003ecount=%{y}\\u003cextra\\u003e\\u003c\\u002fextra\\u003e\",\"legendgroup\":\"\",\"marker\":{\"color\":\"#636efa\",\"pattern\":{\"shape\":\"\"}},\"name\":\"\",\"offsetgroup\":\"\",\"orientation\":\"v\",\"showlegend\":false,\"x\":[3,3,3,2,11,3,5,3,3,3,22,1,21,17,17,17,11,3,3,25,7,7,9,15,13,11,3,15,2,3,1,5,1,3,2,8,16,2,15,3,3,3,2,11,3,5,3,3,3,22,1,21,17,17,17,11,3,3,25,7,7,9,15,13,11,3,15,2,3,1,5,1,3,2,8,16,2,15,3,3,19,2,3,21,3,11,3,3,3,22,17,5,25,17,15,8,16,13,2,1,17,3,3,17,3,2,3,2,3,1,3,11,15,3,7,7,1,3,9,1,2,14,6,3,15,1,3,2,1,12,15,18,23,26,24,8,6,1,11,3,3,18,20,2,4,3,2,3,7,1,10],\"xaxis\":\"x\",\"yaxis\":\"y\",\"type\":\"histogram\"}],                        {\"template\":{\"data\":{\"histogram2dcontour\":[{\"type\":\"histogram2dcontour\",\"colorbar\":{\"outlinewidth\":0,\"ticks\":\"\"},\"colorscale\":[[0.0,\"#0d0887\"],[0.1111111111111111,\"#46039f\"],[0.2222222222222222,\"#7201a8\"],[0.3333333333333333,\"#9c179e\"],[0.4444444444444444,\"#bd3786\"],[0.5555555555555556,\"#d8576b\"],[0.6666666666666666,\"#ed7953\"],[0.7777777777777778,\"#fb9f3a\"],[0.8888888888888888,\"#fdca26\"],[1.0,\"#f0f921\"]]}],\"choropleth\":[{\"type\":\"choropleth\",\"colorbar\":{\"outlinewidth\":0,\"ticks\":\"\"}}],\"histogram2d\":[{\"type\":\"histogram2d\",\"colorbar\":{\"outlinewidth\":0,\"ticks\":\"\"},\"colorscale\":[[0.0,\"#0d0887\"],[0.1111111111111111,\"#46039f\"],[0.2222222222222222,\"#7201a8\"],[0.3333333333333333,\"#9c179e\"],[0.4444444444444444,\"#bd3786\"],[0.5555555555555556,\"#d8576b\"],[0.6666666666666666,\"#ed7953\"],[0.7777777777777778,\"#fb9f3a\"],[0.8888888888888888,\"#fdca26\"],[1.0,\"#f0f921\"]]}],\"heatmap\":[{\"type\":\"heatmap\",\"colorbar\":{\"outlinewidth\":0,\"ticks\":\"\"},\"colorscale\":[[0.0,\"#0d0887\"],[0.1111111111111111,\"#46039f\"],[0.2222222222222222,\"#7201a8\"],[0.3333333333333333,\"#9c179e\"],[0.4444444444444444,\"#bd3786\"],[0.5555555555555556,\"#d8576b\"],[0.6666666666666666,\"#ed7953\"],[0.7777777777777778,\"#fb9f3a\"],[0.8888888888888888,\"#fdca26\"],[1.0,\"#f0f921\"]]}],\"heatmapgl\":[{\"type\":\"heatmapgl\",\"colorbar\":{\"outlinewidth\":0,\"ticks\":\"\"},\"colorscale\":[[0.0,\"#0d0887\"],[0.1111111111111111,\"#46039f\"],[0.2222222222222222,\"#7201a8\"],[0.3333333333333333,\"#9c179e\"],[0.4444444444444444,\"#bd3786\"],[0.5555555555555556,\"#d8576b\"],[0.6666666666666666,\"#ed7953\"],[0.7777777777777778,\"#fb9f3a\"],[0.8888888888888888,\"#fdca26\"],[1.0,\"#f0f921\"]]}],\"contourcarpet\":[{\"type\":\"contourcarpet\",\"colorbar\":{\"outlinewidth\":0,\"ticks\":\"\"}}],\"contour\":[{\"type\":\"contour\",\"colorbar\":{\"outlinewidth\":0,\"ticks\":\"\"},\"colorscale\":[[0.0,\"#0d0887\"],[0.1111111111111111,\"#46039f\"],[0.2222222222222222,\"#7201a8\"],[0.3333333333333333,\"#9c179e\"],[0.4444444444444444,\"#bd3786\"],[0.5555555555555556,\"#d8576b\"],[0.6666666666666666,\"#ed7953\"],[0.7777777777777778,\"#fb9f3a\"],[0.8888888888888888,\"#fdca26\"],[1.0,\"#f0f921\"]]}],\"surface\":[{\"type\":\"surface\",\"colorbar\":{\"outlinewidth\":0,\"ticks\":\"\"},\"colorscale\":[[0.0,\"#0d0887\"],[0.1111111111111111,\"#46039f\"],[0.2222222222222222,\"#7201a8\"],[0.3333333333333333,\"#9c179e\"],[0.4444444444444444,\"#bd3786\"],[0.5555555555555556,\"#d8576b\"],[0.6666666666666666,\"#ed7953\"],[0.7777777777777778,\"#fb9f3a\"],[0.8888888888888888,\"#fdca26\"],[1.0,\"#f0f921\"]]}],\"mesh3d\":[{\"type\":\"mesh3d\",\"colorbar\":{\"outlinewidth\":0,\"ticks\":\"\"}}],\"scatter\":[{\"fillpattern\":{\"fillmode\":\"overlay\",\"size\":10,\"solidity\":0.2},\"type\":\"scatter\"}],\"parcoords\":[{\"type\":\"parcoords\",\"line\":{\"colorbar\":{\"outlinewidth\":0,\"ticks\":\"\"}}}],\"scatterpolargl\":[{\"type\":\"scatterpolargl\",\"marker\":{\"colorbar\":{\"outlinewidth\":0,\"ticks\":\"\"}}}],\"bar\":[{\"error_x\":{\"color\":\"#2a3f5f\"},\"error_y\":{\"color\":\"#2a3f5f\"},\"marker\":{\"line\":{\"color\":\"#E5ECF6\",\"width\":0.5},\"pattern\":{\"fillmode\":\"overlay\",\"size\":10,\"solidity\":0.2}},\"type\":\"bar\"}],\"scattergeo\":[{\"type\":\"scattergeo\",\"marker\":{\"colorbar\":{\"outlinewidth\":0,\"ticks\":\"\"}}}],\"scatterpolar\":[{\"type\":\"scatterpolar\",\"marker\":{\"colorbar\":{\"outlinewidth\":0,\"ticks\":\"\"}}}],\"histogram\":[{\"marker\":{\"pattern\":{\"fillmode\":\"overlay\",\"size\":10,\"solidity\":0.2}},\"type\":\"histogram\"}],\"scattergl\":[{\"type\":\"scattergl\",\"marker\":{\"colorbar\":{\"outlinewidth\":0,\"ticks\":\"\"}}}],\"scatter3d\":[{\"type\":\"scatter3d\",\"line\":{\"colorbar\":{\"outlinewidth\":0,\"ticks\":\"\"}},\"marker\":{\"colorbar\":{\"outlinewidth\":0,\"ticks\":\"\"}}}],\"scattermapbox\":[{\"type\":\"scattermapbox\",\"marker\":{\"colorbar\":{\"outlinewidth\":0,\"ticks\":\"\"}}}],\"scatterternary\":[{\"type\":\"scatterternary\",\"marker\":{\"colorbar\":{\"outlinewidth\":0,\"ticks\":\"\"}}}],\"scattercarpet\":[{\"type\":\"scattercarpet\",\"marker\":{\"colorbar\":{\"outlinewidth\":0,\"ticks\":\"\"}}}],\"carpet\":[{\"aaxis\":{\"endlinecolor\":\"#2a3f5f\",\"gridcolor\":\"white\",\"linecolor\":\"white\",\"minorgridcolor\":\"white\",\"startlinecolor\":\"#2a3f5f\"},\"baxis\":{\"endlinecolor\":\"#2a3f5f\",\"gridcolor\":\"white\",\"linecolor\":\"white\",\"minorgridcolor\":\"white\",\"startlinecolor\":\"#2a3f5f\"},\"type\":\"carpet\"}],\"table\":[{\"cells\":{\"fill\":{\"color\":\"#EBF0F8\"},\"line\":{\"color\":\"white\"}},\"header\":{\"fill\":{\"color\":\"#C8D4E3\"},\"line\":{\"color\":\"white\"}},\"type\":\"table\"}],\"barpolar\":[{\"marker\":{\"line\":{\"color\":\"#E5ECF6\",\"width\":0.5},\"pattern\":{\"fillmode\":\"overlay\",\"size\":10,\"solidity\":0.2}},\"type\":\"barpolar\"}],\"pie\":[{\"automargin\":true,\"type\":\"pie\"}]},\"layout\":{\"autotypenumbers\":\"strict\",\"colorway\":[\"#636efa\",\"#EF553B\",\"#00cc96\",\"#ab63fa\",\"#FFA15A\",\"#19d3f3\",\"#FF6692\",\"#B6E880\",\"#FF97FF\",\"#FECB52\"],\"font\":{\"color\":\"#2a3f5f\"},\"hovermode\":\"closest\",\"hoverlabel\":{\"align\":\"left\"},\"paper_bgcolor\":\"white\",\"plot_bgcolor\":\"#E5ECF6\",\"polar\":{\"bgcolor\":\"#E5ECF6\",\"angularaxis\":{\"gridcolor\":\"white\",\"linecolor\":\"white\",\"ticks\":\"\"},\"radialaxis\":{\"gridcolor\":\"white\",\"linecolor\":\"white\",\"ticks\":\"\"}},\"ternary\":{\"bgcolor\":\"#E5ECF6\",\"aaxis\":{\"gridcolor\":\"white\",\"linecolor\":\"white\",\"ticks\":\"\"},\"baxis\":{\"gridcolor\":\"white\",\"linecolor\":\"white\",\"ticks\":\"\"},\"caxis\":{\"gridcolor\":\"white\",\"linecolor\":\"white\",\"ticks\":\"\"}},\"coloraxis\":{\"colorbar\":{\"outlinewidth\":0,\"ticks\":\"\"}},\"colorscale\":{\"sequential\":[[0.0,\"#0d0887\"],[0.1111111111111111,\"#46039f\"],[0.2222222222222222,\"#7201a8\"],[0.3333333333333333,\"#9c179e\"],[0.4444444444444444,\"#bd3786\"],[0.5555555555555556,\"#d8576b\"],[0.6666666666666666,\"#ed7953\"],[0.7777777777777778,\"#fb9f3a\"],[0.8888888888888888,\"#fdca26\"],[1.0,\"#f0f921\"]],\"sequentialminus\":[[0.0,\"#0d0887\"],[0.1111111111111111,\"#46039f\"],[0.2222222222222222,\"#7201a8\"],[0.3333333333333333,\"#9c179e\"],[0.4444444444444444,\"#bd3786\"],[0.5555555555555556,\"#d8576b\"],[0.6666666666666666,\"#ed7953\"],[0.7777777777777778,\"#fb9f3a\"],[0.8888888888888888,\"#fdca26\"],[1.0,\"#f0f921\"]],\"diverging\":[[0,\"#8e0152\"],[0.1,\"#c51b7d\"],[0.2,\"#de77ae\"],[0.3,\"#f1b6da\"],[0.4,\"#fde0ef\"],[0.5,\"#f7f7f7\"],[0.6,\"#e6f5d0\"],[0.7,\"#b8e186\"],[0.8,\"#7fbc41\"],[0.9,\"#4d9221\"],[1,\"#276419\"]]},\"xaxis\":{\"gridcolor\":\"white\",\"linecolor\":\"white\",\"ticks\":\"\",\"title\":{\"standoff\":15},\"zerolinecolor\":\"white\",\"automargin\":true,\"zerolinewidth\":2},\"yaxis\":{\"gridcolor\":\"white\",\"linecolor\":\"white\",\"ticks\":\"\",\"title\":{\"standoff\":15},\"zerolinecolor\":\"white\",\"automargin\":true,\"zerolinewidth\":2},\"scene\":{\"xaxis\":{\"backgroundcolor\":\"#E5ECF6\",\"gridcolor\":\"white\",\"linecolor\":\"white\",\"showbackground\":true,\"ticks\":\"\",\"zerolinecolor\":\"white\",\"gridwidth\":2},\"yaxis\":{\"backgroundcolor\":\"#E5ECF6\",\"gridcolor\":\"white\",\"linecolor\":\"white\",\"showbackground\":true,\"ticks\":\"\",\"zerolinecolor\":\"white\",\"gridwidth\":2},\"zaxis\":{\"backgroundcolor\":\"#E5ECF6\",\"gridcolor\":\"white\",\"linecolor\":\"white\",\"showbackground\":true,\"ticks\":\"\",\"zerolinecolor\":\"white\",\"gridwidth\":2}},\"shapedefaults\":{\"line\":{\"color\":\"#2a3f5f\"}},\"annotationdefaults\":{\"arrowcolor\":\"#2a3f5f\",\"arrowhead\":0,\"arrowwidth\":1},\"geo\":{\"bgcolor\":\"white\",\"landcolor\":\"#E5ECF6\",\"subunitcolor\":\"white\",\"showland\":true,\"showlakes\":true,\"lakecolor\":\"white\"},\"title\":{\"x\":0.05},\"mapbox\":{\"style\":\"light\"}}},\"xaxis\":{\"anchor\":\"y\",\"domain\":[0.0,1.0],\"title\":{\"text\":\"course\"}},\"yaxis\":{\"anchor\":\"x\",\"domain\":[0.0,1.0],\"title\":{\"text\":\"count\"}},\"legend\":{\"tracegroupgap\":0},\"margin\":{\"t\":60},\"barmode\":\"relative\",\"bargap\":0.1},                        {\"responsive\": true}                    ).then(function(){\n",
              "                            \n",
              "var gd = document.getElementById('e6aa3626-8bb5-4b2d-81d2-52eebe97927a');\n",
              "var x = new MutationObserver(function (mutations, observer) {{\n",
              "        var display = window.getComputedStyle(gd).display;\n",
              "        if (!display || display === 'none') {{\n",
              "            console.log([gd, 'removed!']);\n",
              "            Plotly.purge(gd);\n",
              "            observer.disconnect();\n",
              "        }}\n",
              "}});\n",
              "\n",
              "// Listen for the removal of the full notebook cells\n",
              "var notebookContainer = gd.closest('#notebook-container');\n",
              "if (notebookContainer) {{\n",
              "    x.observe(notebookContainer, {childList: true});\n",
              "}}\n",
              "\n",
              "// Listen for the clearing of the current output cell\n",
              "var outputEl = gd.closest('.output');\n",
              "if (outputEl) {{\n",
              "    x.observe(outputEl, {childList: true});\n",
              "}}\n",
              "\n",
              "                        })                };                            </script>        </div>\n",
              "</body>\n",
              "</html>"
            ]
          },
          "metadata": {}
        },
        {
          "output_type": "display_data",
          "data": {
            "text/html": [
              "<html>\n",
              "<head><meta charset=\"utf-8\" /></head>\n",
              "<body>\n",
              "    <div>            <script src=\"https://cdnjs.cloudflare.com/ajax/libs/mathjax/2.7.5/MathJax.js?config=TeX-AMS-MML_SVG\"></script><script type=\"text/javascript\">if (window.MathJax && window.MathJax.Hub && window.MathJax.Hub.Config) {window.MathJax.Hub.Config({SVG: {font: \"STIX-Web\"}});}</script>                <script type=\"text/javascript\">window.PlotlyConfig = {MathJaxConfig: 'local'};</script>\n",
              "        <script charset=\"utf-8\" src=\"https://cdn.plot.ly/plotly-2.24.1.min.js\"></script>                <div id=\"c9331500-54ed-4e23-a213-d27af23eb658\" class=\"plotly-graph-div\" style=\"height:525px; width:100%;\"></div>            <script type=\"text/javascript\">                                    window.PLOTLYENV=window.PLOTLYENV || {};                                    if (document.getElementById(\"c9331500-54ed-4e23-a213-d27af23eb658\")) {                    Plotly.newPlot(                        \"c9331500-54ed-4e23-a213-d27af23eb658\",                        [{\"alignmentgroup\":\"True\",\"bingroup\":\"x\",\"hovertemplate\":\"semester=%{x}\\u003cbr\\u003ecount=%{y}\\u003cextra\\u003e\\u003c\\u002fextra\\u003e\",\"legendgroup\":\"\",\"marker\":{\"color\":\"#636efa\",\"pattern\":{\"shape\":\"\"}},\"name\":\"\",\"offsetgroup\":\"\",\"orientation\":\"v\",\"showlegend\":false,\"x\":[1,1,2,2,2,1,2,2,1,1,2,2,2,2,2,2,2,2,1,2,2,2,2,1,2,2,2,2,2,2,2,2,2,1,2,2,2,2,2,1,1,2,2,2,1,2,2,2,1,2,2,2,2,2,2,2,2,1,2,2,2,2,1,2,2,2,2,2,2,2,2,2,1,2,2,2,2,2,1,1,2,2,1,2,2,1,1,1,2,2,2,2,2,2,2,2,2,2,2,2,2,1,1,2,2,2,2,2,2,2,2,2,2,2,2,2,2,2,2,2,2,2,2,2,2,2,2,2,2,2,2,2,2,2,2,2,2,2,2,2,2,2,2,2,2,2,2,2,2,2,2],\"xaxis\":\"x\",\"yaxis\":\"y\",\"type\":\"histogram\"}],                        {\"template\":{\"data\":{\"histogram2dcontour\":[{\"type\":\"histogram2dcontour\",\"colorbar\":{\"outlinewidth\":0,\"ticks\":\"\"},\"colorscale\":[[0.0,\"#0d0887\"],[0.1111111111111111,\"#46039f\"],[0.2222222222222222,\"#7201a8\"],[0.3333333333333333,\"#9c179e\"],[0.4444444444444444,\"#bd3786\"],[0.5555555555555556,\"#d8576b\"],[0.6666666666666666,\"#ed7953\"],[0.7777777777777778,\"#fb9f3a\"],[0.8888888888888888,\"#fdca26\"],[1.0,\"#f0f921\"]]}],\"choropleth\":[{\"type\":\"choropleth\",\"colorbar\":{\"outlinewidth\":0,\"ticks\":\"\"}}],\"histogram2d\":[{\"type\":\"histogram2d\",\"colorbar\":{\"outlinewidth\":0,\"ticks\":\"\"},\"colorscale\":[[0.0,\"#0d0887\"],[0.1111111111111111,\"#46039f\"],[0.2222222222222222,\"#7201a8\"],[0.3333333333333333,\"#9c179e\"],[0.4444444444444444,\"#bd3786\"],[0.5555555555555556,\"#d8576b\"],[0.6666666666666666,\"#ed7953\"],[0.7777777777777778,\"#fb9f3a\"],[0.8888888888888888,\"#fdca26\"],[1.0,\"#f0f921\"]]}],\"heatmap\":[{\"type\":\"heatmap\",\"colorbar\":{\"outlinewidth\":0,\"ticks\":\"\"},\"colorscale\":[[0.0,\"#0d0887\"],[0.1111111111111111,\"#46039f\"],[0.2222222222222222,\"#7201a8\"],[0.3333333333333333,\"#9c179e\"],[0.4444444444444444,\"#bd3786\"],[0.5555555555555556,\"#d8576b\"],[0.6666666666666666,\"#ed7953\"],[0.7777777777777778,\"#fb9f3a\"],[0.8888888888888888,\"#fdca26\"],[1.0,\"#f0f921\"]]}],\"heatmapgl\":[{\"type\":\"heatmapgl\",\"colorbar\":{\"outlinewidth\":0,\"ticks\":\"\"},\"colorscale\":[[0.0,\"#0d0887\"],[0.1111111111111111,\"#46039f\"],[0.2222222222222222,\"#7201a8\"],[0.3333333333333333,\"#9c179e\"],[0.4444444444444444,\"#bd3786\"],[0.5555555555555556,\"#d8576b\"],[0.6666666666666666,\"#ed7953\"],[0.7777777777777778,\"#fb9f3a\"],[0.8888888888888888,\"#fdca26\"],[1.0,\"#f0f921\"]]}],\"contourcarpet\":[{\"type\":\"contourcarpet\",\"colorbar\":{\"outlinewidth\":0,\"ticks\":\"\"}}],\"contour\":[{\"type\":\"contour\",\"colorbar\":{\"outlinewidth\":0,\"ticks\":\"\"},\"colorscale\":[[0.0,\"#0d0887\"],[0.1111111111111111,\"#46039f\"],[0.2222222222222222,\"#7201a8\"],[0.3333333333333333,\"#9c179e\"],[0.4444444444444444,\"#bd3786\"],[0.5555555555555556,\"#d8576b\"],[0.6666666666666666,\"#ed7953\"],[0.7777777777777778,\"#fb9f3a\"],[0.8888888888888888,\"#fdca26\"],[1.0,\"#f0f921\"]]}],\"surface\":[{\"type\":\"surface\",\"colorbar\":{\"outlinewidth\":0,\"ticks\":\"\"},\"colorscale\":[[0.0,\"#0d0887\"],[0.1111111111111111,\"#46039f\"],[0.2222222222222222,\"#7201a8\"],[0.3333333333333333,\"#9c179e\"],[0.4444444444444444,\"#bd3786\"],[0.5555555555555556,\"#d8576b\"],[0.6666666666666666,\"#ed7953\"],[0.7777777777777778,\"#fb9f3a\"],[0.8888888888888888,\"#fdca26\"],[1.0,\"#f0f921\"]]}],\"mesh3d\":[{\"type\":\"mesh3d\",\"colorbar\":{\"outlinewidth\":0,\"ticks\":\"\"}}],\"scatter\":[{\"fillpattern\":{\"fillmode\":\"overlay\",\"size\":10,\"solidity\":0.2},\"type\":\"scatter\"}],\"parcoords\":[{\"type\":\"parcoords\",\"line\":{\"colorbar\":{\"outlinewidth\":0,\"ticks\":\"\"}}}],\"scatterpolargl\":[{\"type\":\"scatterpolargl\",\"marker\":{\"colorbar\":{\"outlinewidth\":0,\"ticks\":\"\"}}}],\"bar\":[{\"error_x\":{\"color\":\"#2a3f5f\"},\"error_y\":{\"color\":\"#2a3f5f\"},\"marker\":{\"line\":{\"color\":\"#E5ECF6\",\"width\":0.5},\"pattern\":{\"fillmode\":\"overlay\",\"size\":10,\"solidity\":0.2}},\"type\":\"bar\"}],\"scattergeo\":[{\"type\":\"scattergeo\",\"marker\":{\"colorbar\":{\"outlinewidth\":0,\"ticks\":\"\"}}}],\"scatterpolar\":[{\"type\":\"scatterpolar\",\"marker\":{\"colorbar\":{\"outlinewidth\":0,\"ticks\":\"\"}}}],\"histogram\":[{\"marker\":{\"pattern\":{\"fillmode\":\"overlay\",\"size\":10,\"solidity\":0.2}},\"type\":\"histogram\"}],\"scattergl\":[{\"type\":\"scattergl\",\"marker\":{\"colorbar\":{\"outlinewidth\":0,\"ticks\":\"\"}}}],\"scatter3d\":[{\"type\":\"scatter3d\",\"line\":{\"colorbar\":{\"outlinewidth\":0,\"ticks\":\"\"}},\"marker\":{\"colorbar\":{\"outlinewidth\":0,\"ticks\":\"\"}}}],\"scattermapbox\":[{\"type\":\"scattermapbox\",\"marker\":{\"colorbar\":{\"outlinewidth\":0,\"ticks\":\"\"}}}],\"scatterternary\":[{\"type\":\"scatterternary\",\"marker\":{\"colorbar\":{\"outlinewidth\":0,\"ticks\":\"\"}}}],\"scattercarpet\":[{\"type\":\"scattercarpet\",\"marker\":{\"colorbar\":{\"outlinewidth\":0,\"ticks\":\"\"}}}],\"carpet\":[{\"aaxis\":{\"endlinecolor\":\"#2a3f5f\",\"gridcolor\":\"white\",\"linecolor\":\"white\",\"minorgridcolor\":\"white\",\"startlinecolor\":\"#2a3f5f\"},\"baxis\":{\"endlinecolor\":\"#2a3f5f\",\"gridcolor\":\"white\",\"linecolor\":\"white\",\"minorgridcolor\":\"white\",\"startlinecolor\":\"#2a3f5f\"},\"type\":\"carpet\"}],\"table\":[{\"cells\":{\"fill\":{\"color\":\"#EBF0F8\"},\"line\":{\"color\":\"white\"}},\"header\":{\"fill\":{\"color\":\"#C8D4E3\"},\"line\":{\"color\":\"white\"}},\"type\":\"table\"}],\"barpolar\":[{\"marker\":{\"line\":{\"color\":\"#E5ECF6\",\"width\":0.5},\"pattern\":{\"fillmode\":\"overlay\",\"size\":10,\"solidity\":0.2}},\"type\":\"barpolar\"}],\"pie\":[{\"automargin\":true,\"type\":\"pie\"}]},\"layout\":{\"autotypenumbers\":\"strict\",\"colorway\":[\"#636efa\",\"#EF553B\",\"#00cc96\",\"#ab63fa\",\"#FFA15A\",\"#19d3f3\",\"#FF6692\",\"#B6E880\",\"#FF97FF\",\"#FECB52\"],\"font\":{\"color\":\"#2a3f5f\"},\"hovermode\":\"closest\",\"hoverlabel\":{\"align\":\"left\"},\"paper_bgcolor\":\"white\",\"plot_bgcolor\":\"#E5ECF6\",\"polar\":{\"bgcolor\":\"#E5ECF6\",\"angularaxis\":{\"gridcolor\":\"white\",\"linecolor\":\"white\",\"ticks\":\"\"},\"radialaxis\":{\"gridcolor\":\"white\",\"linecolor\":\"white\",\"ticks\":\"\"}},\"ternary\":{\"bgcolor\":\"#E5ECF6\",\"aaxis\":{\"gridcolor\":\"white\",\"linecolor\":\"white\",\"ticks\":\"\"},\"baxis\":{\"gridcolor\":\"white\",\"linecolor\":\"white\",\"ticks\":\"\"},\"caxis\":{\"gridcolor\":\"white\",\"linecolor\":\"white\",\"ticks\":\"\"}},\"coloraxis\":{\"colorbar\":{\"outlinewidth\":0,\"ticks\":\"\"}},\"colorscale\":{\"sequential\":[[0.0,\"#0d0887\"],[0.1111111111111111,\"#46039f\"],[0.2222222222222222,\"#7201a8\"],[0.3333333333333333,\"#9c179e\"],[0.4444444444444444,\"#bd3786\"],[0.5555555555555556,\"#d8576b\"],[0.6666666666666666,\"#ed7953\"],[0.7777777777777778,\"#fb9f3a\"],[0.8888888888888888,\"#fdca26\"],[1.0,\"#f0f921\"]],\"sequentialminus\":[[0.0,\"#0d0887\"],[0.1111111111111111,\"#46039f\"],[0.2222222222222222,\"#7201a8\"],[0.3333333333333333,\"#9c179e\"],[0.4444444444444444,\"#bd3786\"],[0.5555555555555556,\"#d8576b\"],[0.6666666666666666,\"#ed7953\"],[0.7777777777777778,\"#fb9f3a\"],[0.8888888888888888,\"#fdca26\"],[1.0,\"#f0f921\"]],\"diverging\":[[0,\"#8e0152\"],[0.1,\"#c51b7d\"],[0.2,\"#de77ae\"],[0.3,\"#f1b6da\"],[0.4,\"#fde0ef\"],[0.5,\"#f7f7f7\"],[0.6,\"#e6f5d0\"],[0.7,\"#b8e186\"],[0.8,\"#7fbc41\"],[0.9,\"#4d9221\"],[1,\"#276419\"]]},\"xaxis\":{\"gridcolor\":\"white\",\"linecolor\":\"white\",\"ticks\":\"\",\"title\":{\"standoff\":15},\"zerolinecolor\":\"white\",\"automargin\":true,\"zerolinewidth\":2},\"yaxis\":{\"gridcolor\":\"white\",\"linecolor\":\"white\",\"ticks\":\"\",\"title\":{\"standoff\":15},\"zerolinecolor\":\"white\",\"automargin\":true,\"zerolinewidth\":2},\"scene\":{\"xaxis\":{\"backgroundcolor\":\"#E5ECF6\",\"gridcolor\":\"white\",\"linecolor\":\"white\",\"showbackground\":true,\"ticks\":\"\",\"zerolinecolor\":\"white\",\"gridwidth\":2},\"yaxis\":{\"backgroundcolor\":\"#E5ECF6\",\"gridcolor\":\"white\",\"linecolor\":\"white\",\"showbackground\":true,\"ticks\":\"\",\"zerolinecolor\":\"white\",\"gridwidth\":2},\"zaxis\":{\"backgroundcolor\":\"#E5ECF6\",\"gridcolor\":\"white\",\"linecolor\":\"white\",\"showbackground\":true,\"ticks\":\"\",\"zerolinecolor\":\"white\",\"gridwidth\":2}},\"shapedefaults\":{\"line\":{\"color\":\"#2a3f5f\"}},\"annotationdefaults\":{\"arrowcolor\":\"#2a3f5f\",\"arrowhead\":0,\"arrowwidth\":1},\"geo\":{\"bgcolor\":\"white\",\"landcolor\":\"#E5ECF6\",\"subunitcolor\":\"white\",\"showland\":true,\"showlakes\":true,\"lakecolor\":\"white\"},\"title\":{\"x\":0.05},\"mapbox\":{\"style\":\"light\"}}},\"xaxis\":{\"anchor\":\"y\",\"domain\":[0.0,1.0],\"title\":{\"text\":\"semester\"}},\"yaxis\":{\"anchor\":\"x\",\"domain\":[0.0,1.0],\"title\":{\"text\":\"count\"}},\"legend\":{\"tracegroupgap\":0},\"margin\":{\"t\":60},\"barmode\":\"relative\",\"bargap\":0.1},                        {\"responsive\": true}                    ).then(function(){\n",
              "                            \n",
              "var gd = document.getElementById('c9331500-54ed-4e23-a213-d27af23eb658');\n",
              "var x = new MutationObserver(function (mutations, observer) {{\n",
              "        var display = window.getComputedStyle(gd).display;\n",
              "        if (!display || display === 'none') {{\n",
              "            console.log([gd, 'removed!']);\n",
              "            Plotly.purge(gd);\n",
              "            observer.disconnect();\n",
              "        }}\n",
              "}});\n",
              "\n",
              "// Listen for the removal of the full notebook cells\n",
              "var notebookContainer = gd.closest('#notebook-container');\n",
              "if (notebookContainer) {{\n",
              "    x.observe(notebookContainer, {childList: true});\n",
              "}}\n",
              "\n",
              "// Listen for the clearing of the current output cell\n",
              "var outputEl = gd.closest('.output');\n",
              "if (outputEl) {{\n",
              "    x.observe(outputEl, {childList: true});\n",
              "}}\n",
              "\n",
              "                        })                };                            </script>        </div>\n",
              "</body>\n",
              "</html>"
            ]
          },
          "metadata": {}
        },
        {
          "output_type": "display_data",
          "data": {
            "text/html": [
              "<html>\n",
              "<head><meta charset=\"utf-8\" /></head>\n",
              "<body>\n",
              "    <div>            <script src=\"https://cdnjs.cloudflare.com/ajax/libs/mathjax/2.7.5/MathJax.js?config=TeX-AMS-MML_SVG\"></script><script type=\"text/javascript\">if (window.MathJax && window.MathJax.Hub && window.MathJax.Hub.Config) {window.MathJax.Hub.Config({SVG: {font: \"STIX-Web\"}});}</script>                <script type=\"text/javascript\">window.PlotlyConfig = {MathJaxConfig: 'local'};</script>\n",
              "        <script charset=\"utf-8\" src=\"https://cdn.plot.ly/plotly-2.24.1.min.js\"></script>                <div id=\"3d86b9fe-6da4-4cd7-8396-0fd289ac8f49\" class=\"plotly-graph-div\" style=\"height:525px; width:100%;\"></div>            <script type=\"text/javascript\">                                    window.PLOTLYENV=window.PLOTLYENV || {};                                    if (document.getElementById(\"3d86b9fe-6da4-4cd7-8396-0fd289ac8f49\")) {                    Plotly.newPlot(                        \"3d86b9fe-6da4-4cd7-8396-0fd289ac8f49\",                        [{\"alignmentgroup\":\"True\",\"bingroup\":\"x\",\"hovertemplate\":\"class_size=%{x}\\u003cbr\\u003ecount=%{y}\\u003cextra\\u003e\\u003c\\u002fextra\\u003e\",\"legendgroup\":\"\",\"marker\":{\"color\":\"#636efa\",\"pattern\":{\"shape\":\"\"}},\"name\":\"\",\"offsetgroup\":\"\",\"orientation\":\"v\",\"showlegend\":false,\"x\":[19,17,49,33,55,20,19,27,58,20,9,30,29,39,42,43,10,46,10,42,27,23,31,22,37,13,24,38,42,28,51,19,31,13,37,36,21,48,38,19,17,49,33,55,20,19,27,58,20,9,30,29,39,42,43,10,46,10,42,27,23,31,22,37,13,24,38,42,28,51,19,31,13,37,36,21,48,38,25,17,11,39,11,19,45,20,20,20,38,17,19,24,25,31,31,18,22,27,14,20,35,20,20,37,15,25,10,14,38,29,19,30,32,27,34,23,66,12,29,19,3,17,7,21,36,54,29,45,11,16,18,44,17,21,20,24,5,42,30,19,11,29,15,37,10,24,26,12,48,51,27],\"xaxis\":\"x\",\"yaxis\":\"y\",\"type\":\"histogram\"}],                        {\"template\":{\"data\":{\"histogram2dcontour\":[{\"type\":\"histogram2dcontour\",\"colorbar\":{\"outlinewidth\":0,\"ticks\":\"\"},\"colorscale\":[[0.0,\"#0d0887\"],[0.1111111111111111,\"#46039f\"],[0.2222222222222222,\"#7201a8\"],[0.3333333333333333,\"#9c179e\"],[0.4444444444444444,\"#bd3786\"],[0.5555555555555556,\"#d8576b\"],[0.6666666666666666,\"#ed7953\"],[0.7777777777777778,\"#fb9f3a\"],[0.8888888888888888,\"#fdca26\"],[1.0,\"#f0f921\"]]}],\"choropleth\":[{\"type\":\"choropleth\",\"colorbar\":{\"outlinewidth\":0,\"ticks\":\"\"}}],\"histogram2d\":[{\"type\":\"histogram2d\",\"colorbar\":{\"outlinewidth\":0,\"ticks\":\"\"},\"colorscale\":[[0.0,\"#0d0887\"],[0.1111111111111111,\"#46039f\"],[0.2222222222222222,\"#7201a8\"],[0.3333333333333333,\"#9c179e\"],[0.4444444444444444,\"#bd3786\"],[0.5555555555555556,\"#d8576b\"],[0.6666666666666666,\"#ed7953\"],[0.7777777777777778,\"#fb9f3a\"],[0.8888888888888888,\"#fdca26\"],[1.0,\"#f0f921\"]]}],\"heatmap\":[{\"type\":\"heatmap\",\"colorbar\":{\"outlinewidth\":0,\"ticks\":\"\"},\"colorscale\":[[0.0,\"#0d0887\"],[0.1111111111111111,\"#46039f\"],[0.2222222222222222,\"#7201a8\"],[0.3333333333333333,\"#9c179e\"],[0.4444444444444444,\"#bd3786\"],[0.5555555555555556,\"#d8576b\"],[0.6666666666666666,\"#ed7953\"],[0.7777777777777778,\"#fb9f3a\"],[0.8888888888888888,\"#fdca26\"],[1.0,\"#f0f921\"]]}],\"heatmapgl\":[{\"type\":\"heatmapgl\",\"colorbar\":{\"outlinewidth\":0,\"ticks\":\"\"},\"colorscale\":[[0.0,\"#0d0887\"],[0.1111111111111111,\"#46039f\"],[0.2222222222222222,\"#7201a8\"],[0.3333333333333333,\"#9c179e\"],[0.4444444444444444,\"#bd3786\"],[0.5555555555555556,\"#d8576b\"],[0.6666666666666666,\"#ed7953\"],[0.7777777777777778,\"#fb9f3a\"],[0.8888888888888888,\"#fdca26\"],[1.0,\"#f0f921\"]]}],\"contourcarpet\":[{\"type\":\"contourcarpet\",\"colorbar\":{\"outlinewidth\":0,\"ticks\":\"\"}}],\"contour\":[{\"type\":\"contour\",\"colorbar\":{\"outlinewidth\":0,\"ticks\":\"\"},\"colorscale\":[[0.0,\"#0d0887\"],[0.1111111111111111,\"#46039f\"],[0.2222222222222222,\"#7201a8\"],[0.3333333333333333,\"#9c179e\"],[0.4444444444444444,\"#bd3786\"],[0.5555555555555556,\"#d8576b\"],[0.6666666666666666,\"#ed7953\"],[0.7777777777777778,\"#fb9f3a\"],[0.8888888888888888,\"#fdca26\"],[1.0,\"#f0f921\"]]}],\"surface\":[{\"type\":\"surface\",\"colorbar\":{\"outlinewidth\":0,\"ticks\":\"\"},\"colorscale\":[[0.0,\"#0d0887\"],[0.1111111111111111,\"#46039f\"],[0.2222222222222222,\"#7201a8\"],[0.3333333333333333,\"#9c179e\"],[0.4444444444444444,\"#bd3786\"],[0.5555555555555556,\"#d8576b\"],[0.6666666666666666,\"#ed7953\"],[0.7777777777777778,\"#fb9f3a\"],[0.8888888888888888,\"#fdca26\"],[1.0,\"#f0f921\"]]}],\"mesh3d\":[{\"type\":\"mesh3d\",\"colorbar\":{\"outlinewidth\":0,\"ticks\":\"\"}}],\"scatter\":[{\"fillpattern\":{\"fillmode\":\"overlay\",\"size\":10,\"solidity\":0.2},\"type\":\"scatter\"}],\"parcoords\":[{\"type\":\"parcoords\",\"line\":{\"colorbar\":{\"outlinewidth\":0,\"ticks\":\"\"}}}],\"scatterpolargl\":[{\"type\":\"scatterpolargl\",\"marker\":{\"colorbar\":{\"outlinewidth\":0,\"ticks\":\"\"}}}],\"bar\":[{\"error_x\":{\"color\":\"#2a3f5f\"},\"error_y\":{\"color\":\"#2a3f5f\"},\"marker\":{\"line\":{\"color\":\"#E5ECF6\",\"width\":0.5},\"pattern\":{\"fillmode\":\"overlay\",\"size\":10,\"solidity\":0.2}},\"type\":\"bar\"}],\"scattergeo\":[{\"type\":\"scattergeo\",\"marker\":{\"colorbar\":{\"outlinewidth\":0,\"ticks\":\"\"}}}],\"scatterpolar\":[{\"type\":\"scatterpolar\",\"marker\":{\"colorbar\":{\"outlinewidth\":0,\"ticks\":\"\"}}}],\"histogram\":[{\"marker\":{\"pattern\":{\"fillmode\":\"overlay\",\"size\":10,\"solidity\":0.2}},\"type\":\"histogram\"}],\"scattergl\":[{\"type\":\"scattergl\",\"marker\":{\"colorbar\":{\"outlinewidth\":0,\"ticks\":\"\"}}}],\"scatter3d\":[{\"type\":\"scatter3d\",\"line\":{\"colorbar\":{\"outlinewidth\":0,\"ticks\":\"\"}},\"marker\":{\"colorbar\":{\"outlinewidth\":0,\"ticks\":\"\"}}}],\"scattermapbox\":[{\"type\":\"scattermapbox\",\"marker\":{\"colorbar\":{\"outlinewidth\":0,\"ticks\":\"\"}}}],\"scatterternary\":[{\"type\":\"scatterternary\",\"marker\":{\"colorbar\":{\"outlinewidth\":0,\"ticks\":\"\"}}}],\"scattercarpet\":[{\"type\":\"scattercarpet\",\"marker\":{\"colorbar\":{\"outlinewidth\":0,\"ticks\":\"\"}}}],\"carpet\":[{\"aaxis\":{\"endlinecolor\":\"#2a3f5f\",\"gridcolor\":\"white\",\"linecolor\":\"white\",\"minorgridcolor\":\"white\",\"startlinecolor\":\"#2a3f5f\"},\"baxis\":{\"endlinecolor\":\"#2a3f5f\",\"gridcolor\":\"white\",\"linecolor\":\"white\",\"minorgridcolor\":\"white\",\"startlinecolor\":\"#2a3f5f\"},\"type\":\"carpet\"}],\"table\":[{\"cells\":{\"fill\":{\"color\":\"#EBF0F8\"},\"line\":{\"color\":\"white\"}},\"header\":{\"fill\":{\"color\":\"#C8D4E3\"},\"line\":{\"color\":\"white\"}},\"type\":\"table\"}],\"barpolar\":[{\"marker\":{\"line\":{\"color\":\"#E5ECF6\",\"width\":0.5},\"pattern\":{\"fillmode\":\"overlay\",\"size\":10,\"solidity\":0.2}},\"type\":\"barpolar\"}],\"pie\":[{\"automargin\":true,\"type\":\"pie\"}]},\"layout\":{\"autotypenumbers\":\"strict\",\"colorway\":[\"#636efa\",\"#EF553B\",\"#00cc96\",\"#ab63fa\",\"#FFA15A\",\"#19d3f3\",\"#FF6692\",\"#B6E880\",\"#FF97FF\",\"#FECB52\"],\"font\":{\"color\":\"#2a3f5f\"},\"hovermode\":\"closest\",\"hoverlabel\":{\"align\":\"left\"},\"paper_bgcolor\":\"white\",\"plot_bgcolor\":\"#E5ECF6\",\"polar\":{\"bgcolor\":\"#E5ECF6\",\"angularaxis\":{\"gridcolor\":\"white\",\"linecolor\":\"white\",\"ticks\":\"\"},\"radialaxis\":{\"gridcolor\":\"white\",\"linecolor\":\"white\",\"ticks\":\"\"}},\"ternary\":{\"bgcolor\":\"#E5ECF6\",\"aaxis\":{\"gridcolor\":\"white\",\"linecolor\":\"white\",\"ticks\":\"\"},\"baxis\":{\"gridcolor\":\"white\",\"linecolor\":\"white\",\"ticks\":\"\"},\"caxis\":{\"gridcolor\":\"white\",\"linecolor\":\"white\",\"ticks\":\"\"}},\"coloraxis\":{\"colorbar\":{\"outlinewidth\":0,\"ticks\":\"\"}},\"colorscale\":{\"sequential\":[[0.0,\"#0d0887\"],[0.1111111111111111,\"#46039f\"],[0.2222222222222222,\"#7201a8\"],[0.3333333333333333,\"#9c179e\"],[0.4444444444444444,\"#bd3786\"],[0.5555555555555556,\"#d8576b\"],[0.6666666666666666,\"#ed7953\"],[0.7777777777777778,\"#fb9f3a\"],[0.8888888888888888,\"#fdca26\"],[1.0,\"#f0f921\"]],\"sequentialminus\":[[0.0,\"#0d0887\"],[0.1111111111111111,\"#46039f\"],[0.2222222222222222,\"#7201a8\"],[0.3333333333333333,\"#9c179e\"],[0.4444444444444444,\"#bd3786\"],[0.5555555555555556,\"#d8576b\"],[0.6666666666666666,\"#ed7953\"],[0.7777777777777778,\"#fb9f3a\"],[0.8888888888888888,\"#fdca26\"],[1.0,\"#f0f921\"]],\"diverging\":[[0,\"#8e0152\"],[0.1,\"#c51b7d\"],[0.2,\"#de77ae\"],[0.3,\"#f1b6da\"],[0.4,\"#fde0ef\"],[0.5,\"#f7f7f7\"],[0.6,\"#e6f5d0\"],[0.7,\"#b8e186\"],[0.8,\"#7fbc41\"],[0.9,\"#4d9221\"],[1,\"#276419\"]]},\"xaxis\":{\"gridcolor\":\"white\",\"linecolor\":\"white\",\"ticks\":\"\",\"title\":{\"standoff\":15},\"zerolinecolor\":\"white\",\"automargin\":true,\"zerolinewidth\":2},\"yaxis\":{\"gridcolor\":\"white\",\"linecolor\":\"white\",\"ticks\":\"\",\"title\":{\"standoff\":15},\"zerolinecolor\":\"white\",\"automargin\":true,\"zerolinewidth\":2},\"scene\":{\"xaxis\":{\"backgroundcolor\":\"#E5ECF6\",\"gridcolor\":\"white\",\"linecolor\":\"white\",\"showbackground\":true,\"ticks\":\"\",\"zerolinecolor\":\"white\",\"gridwidth\":2},\"yaxis\":{\"backgroundcolor\":\"#E5ECF6\",\"gridcolor\":\"white\",\"linecolor\":\"white\",\"showbackground\":true,\"ticks\":\"\",\"zerolinecolor\":\"white\",\"gridwidth\":2},\"zaxis\":{\"backgroundcolor\":\"#E5ECF6\",\"gridcolor\":\"white\",\"linecolor\":\"white\",\"showbackground\":true,\"ticks\":\"\",\"zerolinecolor\":\"white\",\"gridwidth\":2}},\"shapedefaults\":{\"line\":{\"color\":\"#2a3f5f\"}},\"annotationdefaults\":{\"arrowcolor\":\"#2a3f5f\",\"arrowhead\":0,\"arrowwidth\":1},\"geo\":{\"bgcolor\":\"white\",\"landcolor\":\"#E5ECF6\",\"subunitcolor\":\"white\",\"showland\":true,\"showlakes\":true,\"lakecolor\":\"white\"},\"title\":{\"x\":0.05},\"mapbox\":{\"style\":\"light\"}}},\"xaxis\":{\"anchor\":\"y\",\"domain\":[0.0,1.0],\"title\":{\"text\":\"class_size\"}},\"yaxis\":{\"anchor\":\"x\",\"domain\":[0.0,1.0],\"title\":{\"text\":\"count\"}},\"legend\":{\"tracegroupgap\":0},\"margin\":{\"t\":60},\"barmode\":\"relative\",\"bargap\":0.1},                        {\"responsive\": true}                    ).then(function(){\n",
              "                            \n",
              "var gd = document.getElementById('3d86b9fe-6da4-4cd7-8396-0fd289ac8f49');\n",
              "var x = new MutationObserver(function (mutations, observer) {{\n",
              "        var display = window.getComputedStyle(gd).display;\n",
              "        if (!display || display === 'none') {{\n",
              "            console.log([gd, 'removed!']);\n",
              "            Plotly.purge(gd);\n",
              "            observer.disconnect();\n",
              "        }}\n",
              "}});\n",
              "\n",
              "// Listen for the removal of the full notebook cells\n",
              "var notebookContainer = gd.closest('#notebook-container');\n",
              "if (notebookContainer) {{\n",
              "    x.observe(notebookContainer, {childList: true});\n",
              "}}\n",
              "\n",
              "// Listen for the clearing of the current output cell\n",
              "var outputEl = gd.closest('.output');\n",
              "if (outputEl) {{\n",
              "    x.observe(outputEl, {childList: true});\n",
              "}}\n",
              "\n",
              "                        })                };                            </script>        </div>\n",
              "</body>\n",
              "</html>"
            ]
          },
          "metadata": {}
        },
        {
          "output_type": "display_data",
          "data": {
            "text/html": [
              "<html>\n",
              "<head><meta charset=\"utf-8\" /></head>\n",
              "<body>\n",
              "    <div>            <script src=\"https://cdnjs.cloudflare.com/ajax/libs/mathjax/2.7.5/MathJax.js?config=TeX-AMS-MML_SVG\"></script><script type=\"text/javascript\">if (window.MathJax && window.MathJax.Hub && window.MathJax.Hub.Config) {window.MathJax.Hub.Config({SVG: {font: \"STIX-Web\"}});}</script>                <script type=\"text/javascript\">window.PlotlyConfig = {MathJaxConfig: 'local'};</script>\n",
              "        <script charset=\"utf-8\" src=\"https://cdn.plot.ly/plotly-2.24.1.min.js\"></script>                <div id=\"4dbe57a8-a59d-47b7-b49f-d746697efd27\" class=\"plotly-graph-div\" style=\"height:525px; width:100%;\"></div>            <script type=\"text/javascript\">                                    window.PLOTLYENV=window.PLOTLYENV || {};                                    if (document.getElementById(\"4dbe57a8-a59d-47b7-b49f-d746697efd27\")) {                    Plotly.newPlot(                        \"4dbe57a8-a59d-47b7-b49f-d746697efd27\",                        [{\"alignmentgroup\":\"True\",\"bingroup\":\"x\",\"hovertemplate\":\"attribute=%{x}\\u003cbr\\u003ecount=%{y}\\u003cextra\\u003e\\u003c\\u002fextra\\u003e\",\"legendgroup\":\"\",\"marker\":{\"color\":\"#636efa\",\"pattern\":{\"shape\":\"\"}},\"name\":\"\",\"offsetgroup\":\"\",\"orientation\":\"v\",\"showlegend\":false,\"x\":[3,3,3,3,3,3,3,3,3,3,3,3,3,3,2,2,2,2,2,2,2,2,2,2,2,2,2,2,1,1,1,1,1,1,1,1,1,1,1,3,3,3,3,3,3,3,3,3,3,3,3,3,3,2,2,2,2,2,2,2,2,2,2,2,2,2,2,1,1,1,1,1,1,1,1,1,1,1,3,3,3,3,3,3,3,3,3,3,3,3,3,3,3,3,3,2,2,2,2,2,2,2,2,2,2,2,2,1,1,1,1,1,1,1,1,1,1,1,1,1,1,3,3,3,3,3,3,3,2,2,2,2,2,2,2,2,2,2,1,1,1,1,1,1,1,1,1,1,1,1,1],\"xaxis\":\"x\",\"yaxis\":\"y\",\"type\":\"histogram\"}],                        {\"template\":{\"data\":{\"histogram2dcontour\":[{\"type\":\"histogram2dcontour\",\"colorbar\":{\"outlinewidth\":0,\"ticks\":\"\"},\"colorscale\":[[0.0,\"#0d0887\"],[0.1111111111111111,\"#46039f\"],[0.2222222222222222,\"#7201a8\"],[0.3333333333333333,\"#9c179e\"],[0.4444444444444444,\"#bd3786\"],[0.5555555555555556,\"#d8576b\"],[0.6666666666666666,\"#ed7953\"],[0.7777777777777778,\"#fb9f3a\"],[0.8888888888888888,\"#fdca26\"],[1.0,\"#f0f921\"]]}],\"choropleth\":[{\"type\":\"choropleth\",\"colorbar\":{\"outlinewidth\":0,\"ticks\":\"\"}}],\"histogram2d\":[{\"type\":\"histogram2d\",\"colorbar\":{\"outlinewidth\":0,\"ticks\":\"\"},\"colorscale\":[[0.0,\"#0d0887\"],[0.1111111111111111,\"#46039f\"],[0.2222222222222222,\"#7201a8\"],[0.3333333333333333,\"#9c179e\"],[0.4444444444444444,\"#bd3786\"],[0.5555555555555556,\"#d8576b\"],[0.6666666666666666,\"#ed7953\"],[0.7777777777777778,\"#fb9f3a\"],[0.8888888888888888,\"#fdca26\"],[1.0,\"#f0f921\"]]}],\"heatmap\":[{\"type\":\"heatmap\",\"colorbar\":{\"outlinewidth\":0,\"ticks\":\"\"},\"colorscale\":[[0.0,\"#0d0887\"],[0.1111111111111111,\"#46039f\"],[0.2222222222222222,\"#7201a8\"],[0.3333333333333333,\"#9c179e\"],[0.4444444444444444,\"#bd3786\"],[0.5555555555555556,\"#d8576b\"],[0.6666666666666666,\"#ed7953\"],[0.7777777777777778,\"#fb9f3a\"],[0.8888888888888888,\"#fdca26\"],[1.0,\"#f0f921\"]]}],\"heatmapgl\":[{\"type\":\"heatmapgl\",\"colorbar\":{\"outlinewidth\":0,\"ticks\":\"\"},\"colorscale\":[[0.0,\"#0d0887\"],[0.1111111111111111,\"#46039f\"],[0.2222222222222222,\"#7201a8\"],[0.3333333333333333,\"#9c179e\"],[0.4444444444444444,\"#bd3786\"],[0.5555555555555556,\"#d8576b\"],[0.6666666666666666,\"#ed7953\"],[0.7777777777777778,\"#fb9f3a\"],[0.8888888888888888,\"#fdca26\"],[1.0,\"#f0f921\"]]}],\"contourcarpet\":[{\"type\":\"contourcarpet\",\"colorbar\":{\"outlinewidth\":0,\"ticks\":\"\"}}],\"contour\":[{\"type\":\"contour\",\"colorbar\":{\"outlinewidth\":0,\"ticks\":\"\"},\"colorscale\":[[0.0,\"#0d0887\"],[0.1111111111111111,\"#46039f\"],[0.2222222222222222,\"#7201a8\"],[0.3333333333333333,\"#9c179e\"],[0.4444444444444444,\"#bd3786\"],[0.5555555555555556,\"#d8576b\"],[0.6666666666666666,\"#ed7953\"],[0.7777777777777778,\"#fb9f3a\"],[0.8888888888888888,\"#fdca26\"],[1.0,\"#f0f921\"]]}],\"surface\":[{\"type\":\"surface\",\"colorbar\":{\"outlinewidth\":0,\"ticks\":\"\"},\"colorscale\":[[0.0,\"#0d0887\"],[0.1111111111111111,\"#46039f\"],[0.2222222222222222,\"#7201a8\"],[0.3333333333333333,\"#9c179e\"],[0.4444444444444444,\"#bd3786\"],[0.5555555555555556,\"#d8576b\"],[0.6666666666666666,\"#ed7953\"],[0.7777777777777778,\"#fb9f3a\"],[0.8888888888888888,\"#fdca26\"],[1.0,\"#f0f921\"]]}],\"mesh3d\":[{\"type\":\"mesh3d\",\"colorbar\":{\"outlinewidth\":0,\"ticks\":\"\"}}],\"scatter\":[{\"fillpattern\":{\"fillmode\":\"overlay\",\"size\":10,\"solidity\":0.2},\"type\":\"scatter\"}],\"parcoords\":[{\"type\":\"parcoords\",\"line\":{\"colorbar\":{\"outlinewidth\":0,\"ticks\":\"\"}}}],\"scatterpolargl\":[{\"type\":\"scatterpolargl\",\"marker\":{\"colorbar\":{\"outlinewidth\":0,\"ticks\":\"\"}}}],\"bar\":[{\"error_x\":{\"color\":\"#2a3f5f\"},\"error_y\":{\"color\":\"#2a3f5f\"},\"marker\":{\"line\":{\"color\":\"#E5ECF6\",\"width\":0.5},\"pattern\":{\"fillmode\":\"overlay\",\"size\":10,\"solidity\":0.2}},\"type\":\"bar\"}],\"scattergeo\":[{\"type\":\"scattergeo\",\"marker\":{\"colorbar\":{\"outlinewidth\":0,\"ticks\":\"\"}}}],\"scatterpolar\":[{\"type\":\"scatterpolar\",\"marker\":{\"colorbar\":{\"outlinewidth\":0,\"ticks\":\"\"}}}],\"histogram\":[{\"marker\":{\"pattern\":{\"fillmode\":\"overlay\",\"size\":10,\"solidity\":0.2}},\"type\":\"histogram\"}],\"scattergl\":[{\"type\":\"scattergl\",\"marker\":{\"colorbar\":{\"outlinewidth\":0,\"ticks\":\"\"}}}],\"scatter3d\":[{\"type\":\"scatter3d\",\"line\":{\"colorbar\":{\"outlinewidth\":0,\"ticks\":\"\"}},\"marker\":{\"colorbar\":{\"outlinewidth\":0,\"ticks\":\"\"}}}],\"scattermapbox\":[{\"type\":\"scattermapbox\",\"marker\":{\"colorbar\":{\"outlinewidth\":0,\"ticks\":\"\"}}}],\"scatterternary\":[{\"type\":\"scatterternary\",\"marker\":{\"colorbar\":{\"outlinewidth\":0,\"ticks\":\"\"}}}],\"scattercarpet\":[{\"type\":\"scattercarpet\",\"marker\":{\"colorbar\":{\"outlinewidth\":0,\"ticks\":\"\"}}}],\"carpet\":[{\"aaxis\":{\"endlinecolor\":\"#2a3f5f\",\"gridcolor\":\"white\",\"linecolor\":\"white\",\"minorgridcolor\":\"white\",\"startlinecolor\":\"#2a3f5f\"},\"baxis\":{\"endlinecolor\":\"#2a3f5f\",\"gridcolor\":\"white\",\"linecolor\":\"white\",\"minorgridcolor\":\"white\",\"startlinecolor\":\"#2a3f5f\"},\"type\":\"carpet\"}],\"table\":[{\"cells\":{\"fill\":{\"color\":\"#EBF0F8\"},\"line\":{\"color\":\"white\"}},\"header\":{\"fill\":{\"color\":\"#C8D4E3\"},\"line\":{\"color\":\"white\"}},\"type\":\"table\"}],\"barpolar\":[{\"marker\":{\"line\":{\"color\":\"#E5ECF6\",\"width\":0.5},\"pattern\":{\"fillmode\":\"overlay\",\"size\":10,\"solidity\":0.2}},\"type\":\"barpolar\"}],\"pie\":[{\"automargin\":true,\"type\":\"pie\"}]},\"layout\":{\"autotypenumbers\":\"strict\",\"colorway\":[\"#636efa\",\"#EF553B\",\"#00cc96\",\"#ab63fa\",\"#FFA15A\",\"#19d3f3\",\"#FF6692\",\"#B6E880\",\"#FF97FF\",\"#FECB52\"],\"font\":{\"color\":\"#2a3f5f\"},\"hovermode\":\"closest\",\"hoverlabel\":{\"align\":\"left\"},\"paper_bgcolor\":\"white\",\"plot_bgcolor\":\"#E5ECF6\",\"polar\":{\"bgcolor\":\"#E5ECF6\",\"angularaxis\":{\"gridcolor\":\"white\",\"linecolor\":\"white\",\"ticks\":\"\"},\"radialaxis\":{\"gridcolor\":\"white\",\"linecolor\":\"white\",\"ticks\":\"\"}},\"ternary\":{\"bgcolor\":\"#E5ECF6\",\"aaxis\":{\"gridcolor\":\"white\",\"linecolor\":\"white\",\"ticks\":\"\"},\"baxis\":{\"gridcolor\":\"white\",\"linecolor\":\"white\",\"ticks\":\"\"},\"caxis\":{\"gridcolor\":\"white\",\"linecolor\":\"white\",\"ticks\":\"\"}},\"coloraxis\":{\"colorbar\":{\"outlinewidth\":0,\"ticks\":\"\"}},\"colorscale\":{\"sequential\":[[0.0,\"#0d0887\"],[0.1111111111111111,\"#46039f\"],[0.2222222222222222,\"#7201a8\"],[0.3333333333333333,\"#9c179e\"],[0.4444444444444444,\"#bd3786\"],[0.5555555555555556,\"#d8576b\"],[0.6666666666666666,\"#ed7953\"],[0.7777777777777778,\"#fb9f3a\"],[0.8888888888888888,\"#fdca26\"],[1.0,\"#f0f921\"]],\"sequentialminus\":[[0.0,\"#0d0887\"],[0.1111111111111111,\"#46039f\"],[0.2222222222222222,\"#7201a8\"],[0.3333333333333333,\"#9c179e\"],[0.4444444444444444,\"#bd3786\"],[0.5555555555555556,\"#d8576b\"],[0.6666666666666666,\"#ed7953\"],[0.7777777777777778,\"#fb9f3a\"],[0.8888888888888888,\"#fdca26\"],[1.0,\"#f0f921\"]],\"diverging\":[[0,\"#8e0152\"],[0.1,\"#c51b7d\"],[0.2,\"#de77ae\"],[0.3,\"#f1b6da\"],[0.4,\"#fde0ef\"],[0.5,\"#f7f7f7\"],[0.6,\"#e6f5d0\"],[0.7,\"#b8e186\"],[0.8,\"#7fbc41\"],[0.9,\"#4d9221\"],[1,\"#276419\"]]},\"xaxis\":{\"gridcolor\":\"white\",\"linecolor\":\"white\",\"ticks\":\"\",\"title\":{\"standoff\":15},\"zerolinecolor\":\"white\",\"automargin\":true,\"zerolinewidth\":2},\"yaxis\":{\"gridcolor\":\"white\",\"linecolor\":\"white\",\"ticks\":\"\",\"title\":{\"standoff\":15},\"zerolinecolor\":\"white\",\"automargin\":true,\"zerolinewidth\":2},\"scene\":{\"xaxis\":{\"backgroundcolor\":\"#E5ECF6\",\"gridcolor\":\"white\",\"linecolor\":\"white\",\"showbackground\":true,\"ticks\":\"\",\"zerolinecolor\":\"white\",\"gridwidth\":2},\"yaxis\":{\"backgroundcolor\":\"#E5ECF6\",\"gridcolor\":\"white\",\"linecolor\":\"white\",\"showbackground\":true,\"ticks\":\"\",\"zerolinecolor\":\"white\",\"gridwidth\":2},\"zaxis\":{\"backgroundcolor\":\"#E5ECF6\",\"gridcolor\":\"white\",\"linecolor\":\"white\",\"showbackground\":true,\"ticks\":\"\",\"zerolinecolor\":\"white\",\"gridwidth\":2}},\"shapedefaults\":{\"line\":{\"color\":\"#2a3f5f\"}},\"annotationdefaults\":{\"arrowcolor\":\"#2a3f5f\",\"arrowhead\":0,\"arrowwidth\":1},\"geo\":{\"bgcolor\":\"white\",\"landcolor\":\"#E5ECF6\",\"subunitcolor\":\"white\",\"showland\":true,\"showlakes\":true,\"lakecolor\":\"white\"},\"title\":{\"x\":0.05},\"mapbox\":{\"style\":\"light\"}}},\"xaxis\":{\"anchor\":\"y\",\"domain\":[0.0,1.0],\"title\":{\"text\":\"attribute\"}},\"yaxis\":{\"anchor\":\"x\",\"domain\":[0.0,1.0],\"title\":{\"text\":\"count\"}},\"legend\":{\"tracegroupgap\":0},\"margin\":{\"t\":60},\"barmode\":\"relative\",\"bargap\":0.1},                        {\"responsive\": true}                    ).then(function(){\n",
              "                            \n",
              "var gd = document.getElementById('4dbe57a8-a59d-47b7-b49f-d746697efd27');\n",
              "var x = new MutationObserver(function (mutations, observer) {{\n",
              "        var display = window.getComputedStyle(gd).display;\n",
              "        if (!display || display === 'none') {{\n",
              "            console.log([gd, 'removed!']);\n",
              "            Plotly.purge(gd);\n",
              "            observer.disconnect();\n",
              "        }}\n",
              "}});\n",
              "\n",
              "// Listen for the removal of the full notebook cells\n",
              "var notebookContainer = gd.closest('#notebook-container');\n",
              "if (notebookContainer) {{\n",
              "    x.observe(notebookContainer, {childList: true});\n",
              "}}\n",
              "\n",
              "// Listen for the clearing of the current output cell\n",
              "var outputEl = gd.closest('.output');\n",
              "if (outputEl) {{\n",
              "    x.observe(outputEl, {childList: true});\n",
              "}}\n",
              "\n",
              "                        })                };                            </script>        </div>\n",
              "</body>\n",
              "</html>"
            ]
          },
          "metadata": {}
        }
      ]
    },
    {
      "cell_type": "code",
      "source": [
        "data= df.copy()"
      ],
      "metadata": {
        "id": "9kLYyv9KuTF0"
      },
      "execution_count": null,
      "outputs": []
    },
    {
      "cell_type": "markdown",
      "source": [
        "Whether of not the Teacher is a native English speaker (binary); 1=English speaker, 2=non-English speaker\n",
        "\n",
        "Summer or regular semester (binary) 1=Summer, 2=Regular\n",
        "\n",
        "Class attribute (categorical) 1=Low, 2=Medium, 3=High"
      ],
      "metadata": {
        "id": "pH_L8Ud9uhIQ"
      }
    },
    {
      "cell_type": "code",
      "source": [
        "data['speaker']= data['speaker'].map({1:'English speaker',2:'non-English speaker'})\n",
        "data['semester']= data['semester'].map({1:'Summer',2:'Regular'})\n",
        "data['attribute']= data['attribute'].map({1:'Low',2:'Medium',3:'High'})"
      ],
      "metadata": {
        "id": "sJ8_lSfgu1Cd"
      },
      "execution_count": null,
      "outputs": []
    },
    {
      "cell_type": "code",
      "source": [
        "data.columns"
      ],
      "metadata": {
        "colab": {
          "base_uri": "https://localhost:8080/"
        },
        "id": "Dbq-DPkGvDeB",
        "outputId": "18080437-f621-450c-e3f8-10265a89d300"
      },
      "execution_count": null,
      "outputs": [
        {
          "output_type": "execute_result",
          "data": {
            "text/plain": [
              "Index(['speaker', 'instructor', 'course', 'semester', 'class_size',\n",
              "       'attribute'],\n",
              "      dtype='object')"
            ]
          },
          "metadata": {},
          "execution_count": 11
        }
      ]
    },
    {
      "cell_type": "code",
      "source": [
        "fig= px.histogram(data,y='instructor',x='attribute')\n",
        "fig.show()"
      ],
      "metadata": {
        "colab": {
          "base_uri": "https://localhost:8080/",
          "height": 542
        },
        "id": "5bI3VD6xu5yC",
        "outputId": "7ee1a1d5-8d40-49a3-e794-d5d5a12e510e"
      },
      "execution_count": null,
      "outputs": [
        {
          "output_type": "display_data",
          "data": {
            "text/html": [
              "<html>\n",
              "<head><meta charset=\"utf-8\" /></head>\n",
              "<body>\n",
              "    <div>            <script src=\"https://cdnjs.cloudflare.com/ajax/libs/mathjax/2.7.5/MathJax.js?config=TeX-AMS-MML_SVG\"></script><script type=\"text/javascript\">if (window.MathJax && window.MathJax.Hub && window.MathJax.Hub.Config) {window.MathJax.Hub.Config({SVG: {font: \"STIX-Web\"}});}</script>                <script type=\"text/javascript\">window.PlotlyConfig = {MathJaxConfig: 'local'};</script>\n",
              "        <script charset=\"utf-8\" src=\"https://cdn.plot.ly/plotly-2.24.1.min.js\"></script>                <div id=\"1bbfc6de-dfe6-4c1f-9fa6-7b17ae0b7d54\" class=\"plotly-graph-div\" style=\"height:525px; width:100%;\"></div>            <script type=\"text/javascript\">                                    window.PLOTLYENV=window.PLOTLYENV || {};                                    if (document.getElementById(\"1bbfc6de-dfe6-4c1f-9fa6-7b17ae0b7d54\")) {                    Plotly.newPlot(                        \"1bbfc6de-dfe6-4c1f-9fa6-7b17ae0b7d54\",                        [{\"alignmentgroup\":\"True\",\"bingroup\":\"x\",\"histfunc\":\"sum\",\"hovertemplate\":\"attribute=%{x}\\u003cbr\\u003esum of instructor=%{y}\\u003cextra\\u003e\\u003c\\u002fextra\\u003e\",\"legendgroup\":\"\",\"marker\":{\"color\":\"#636efa\",\"pattern\":{\"shape\":\"\"}},\"name\":\"\",\"offsetgroup\":\"\",\"orientation\":\"v\",\"showlegend\":false,\"x\":[\"High\",\"High\",\"High\",\"High\",\"High\",\"High\",\"High\",\"High\",\"High\",\"High\",\"High\",\"High\",\"High\",\"High\",\"Medium\",\"Medium\",\"Medium\",\"Medium\",\"Medium\",\"Medium\",\"Medium\",\"Medium\",\"Medium\",\"Medium\",\"Medium\",\"Medium\",\"Medium\",\"Medium\",\"Low\",\"Low\",\"Low\",\"Low\",\"Low\",\"Low\",\"Low\",\"Low\",\"Low\",\"Low\",\"Low\",\"High\",\"High\",\"High\",\"High\",\"High\",\"High\",\"High\",\"High\",\"High\",\"High\",\"High\",\"High\",\"High\",\"High\",\"Medium\",\"Medium\",\"Medium\",\"Medium\",\"Medium\",\"Medium\",\"Medium\",\"Medium\",\"Medium\",\"Medium\",\"Medium\",\"Medium\",\"Medium\",\"Medium\",\"Low\",\"Low\",\"Low\",\"Low\",\"Low\",\"Low\",\"Low\",\"Low\",\"Low\",\"Low\",\"Low\",\"High\",\"High\",\"High\",\"High\",\"High\",\"High\",\"High\",\"High\",\"High\",\"High\",\"High\",\"High\",\"High\",\"High\",\"High\",\"High\",\"High\",\"Medium\",\"Medium\",\"Medium\",\"Medium\",\"Medium\",\"Medium\",\"Medium\",\"Medium\",\"Medium\",\"Medium\",\"Medium\",\"Medium\",\"Low\",\"Low\",\"Low\",\"Low\",\"Low\",\"Low\",\"Low\",\"Low\",\"Low\",\"Low\",\"Low\",\"Low\",\"Low\",\"Low\",\"High\",\"High\",\"High\",\"High\",\"High\",\"High\",\"High\",\"Medium\",\"Medium\",\"Medium\",\"Medium\",\"Medium\",\"Medium\",\"Medium\",\"Medium\",\"Medium\",\"Medium\",\"Low\",\"Low\",\"Low\",\"Low\",\"Low\",\"Low\",\"Low\",\"Low\",\"Low\",\"Low\",\"Low\",\"Low\",\"Low\"],\"xaxis\":\"x\",\"y\":[23,15,23,5,7,23,9,10,22,15,10,13,18,6,6,6,7,22,13,7,25,25,2,1,15,7,8,14,21,22,11,18,13,13,5,16,4,5,14,23,15,23,5,7,23,9,10,22,15,10,13,18,6,6,6,7,22,13,7,25,25,2,1,15,7,8,14,21,22,11,18,13,13,5,16,4,5,14,23,13,16,9,13,18,22,7,23,23,23,14,17,9,18,17,1,1,11,22,9,13,6,23,23,6,22,20,23,20,23,13,10,7,14,8,12,8,15,23,2,15,20,13,9,10,14,13,8,20,22,18,20,17,14,24,9,12,9,22,7,10,23,17,16,3,19,23,3,10,18,22,2],\"yaxis\":\"y\",\"type\":\"histogram\"}],                        {\"template\":{\"data\":{\"histogram2dcontour\":[{\"type\":\"histogram2dcontour\",\"colorbar\":{\"outlinewidth\":0,\"ticks\":\"\"},\"colorscale\":[[0.0,\"#0d0887\"],[0.1111111111111111,\"#46039f\"],[0.2222222222222222,\"#7201a8\"],[0.3333333333333333,\"#9c179e\"],[0.4444444444444444,\"#bd3786\"],[0.5555555555555556,\"#d8576b\"],[0.6666666666666666,\"#ed7953\"],[0.7777777777777778,\"#fb9f3a\"],[0.8888888888888888,\"#fdca26\"],[1.0,\"#f0f921\"]]}],\"choropleth\":[{\"type\":\"choropleth\",\"colorbar\":{\"outlinewidth\":0,\"ticks\":\"\"}}],\"histogram2d\":[{\"type\":\"histogram2d\",\"colorbar\":{\"outlinewidth\":0,\"ticks\":\"\"},\"colorscale\":[[0.0,\"#0d0887\"],[0.1111111111111111,\"#46039f\"],[0.2222222222222222,\"#7201a8\"],[0.3333333333333333,\"#9c179e\"],[0.4444444444444444,\"#bd3786\"],[0.5555555555555556,\"#d8576b\"],[0.6666666666666666,\"#ed7953\"],[0.7777777777777778,\"#fb9f3a\"],[0.8888888888888888,\"#fdca26\"],[1.0,\"#f0f921\"]]}],\"heatmap\":[{\"type\":\"heatmap\",\"colorbar\":{\"outlinewidth\":0,\"ticks\":\"\"},\"colorscale\":[[0.0,\"#0d0887\"],[0.1111111111111111,\"#46039f\"],[0.2222222222222222,\"#7201a8\"],[0.3333333333333333,\"#9c179e\"],[0.4444444444444444,\"#bd3786\"],[0.5555555555555556,\"#d8576b\"],[0.6666666666666666,\"#ed7953\"],[0.7777777777777778,\"#fb9f3a\"],[0.8888888888888888,\"#fdca26\"],[1.0,\"#f0f921\"]]}],\"heatmapgl\":[{\"type\":\"heatmapgl\",\"colorbar\":{\"outlinewidth\":0,\"ticks\":\"\"},\"colorscale\":[[0.0,\"#0d0887\"],[0.1111111111111111,\"#46039f\"],[0.2222222222222222,\"#7201a8\"],[0.3333333333333333,\"#9c179e\"],[0.4444444444444444,\"#bd3786\"],[0.5555555555555556,\"#d8576b\"],[0.6666666666666666,\"#ed7953\"],[0.7777777777777778,\"#fb9f3a\"],[0.8888888888888888,\"#fdca26\"],[1.0,\"#f0f921\"]]}],\"contourcarpet\":[{\"type\":\"contourcarpet\",\"colorbar\":{\"outlinewidth\":0,\"ticks\":\"\"}}],\"contour\":[{\"type\":\"contour\",\"colorbar\":{\"outlinewidth\":0,\"ticks\":\"\"},\"colorscale\":[[0.0,\"#0d0887\"],[0.1111111111111111,\"#46039f\"],[0.2222222222222222,\"#7201a8\"],[0.3333333333333333,\"#9c179e\"],[0.4444444444444444,\"#bd3786\"],[0.5555555555555556,\"#d8576b\"],[0.6666666666666666,\"#ed7953\"],[0.7777777777777778,\"#fb9f3a\"],[0.8888888888888888,\"#fdca26\"],[1.0,\"#f0f921\"]]}],\"surface\":[{\"type\":\"surface\",\"colorbar\":{\"outlinewidth\":0,\"ticks\":\"\"},\"colorscale\":[[0.0,\"#0d0887\"],[0.1111111111111111,\"#46039f\"],[0.2222222222222222,\"#7201a8\"],[0.3333333333333333,\"#9c179e\"],[0.4444444444444444,\"#bd3786\"],[0.5555555555555556,\"#d8576b\"],[0.6666666666666666,\"#ed7953\"],[0.7777777777777778,\"#fb9f3a\"],[0.8888888888888888,\"#fdca26\"],[1.0,\"#f0f921\"]]}],\"mesh3d\":[{\"type\":\"mesh3d\",\"colorbar\":{\"outlinewidth\":0,\"ticks\":\"\"}}],\"scatter\":[{\"fillpattern\":{\"fillmode\":\"overlay\",\"size\":10,\"solidity\":0.2},\"type\":\"scatter\"}],\"parcoords\":[{\"type\":\"parcoords\",\"line\":{\"colorbar\":{\"outlinewidth\":0,\"ticks\":\"\"}}}],\"scatterpolargl\":[{\"type\":\"scatterpolargl\",\"marker\":{\"colorbar\":{\"outlinewidth\":0,\"ticks\":\"\"}}}],\"bar\":[{\"error_x\":{\"color\":\"#2a3f5f\"},\"error_y\":{\"color\":\"#2a3f5f\"},\"marker\":{\"line\":{\"color\":\"#E5ECF6\",\"width\":0.5},\"pattern\":{\"fillmode\":\"overlay\",\"size\":10,\"solidity\":0.2}},\"type\":\"bar\"}],\"scattergeo\":[{\"type\":\"scattergeo\",\"marker\":{\"colorbar\":{\"outlinewidth\":0,\"ticks\":\"\"}}}],\"scatterpolar\":[{\"type\":\"scatterpolar\",\"marker\":{\"colorbar\":{\"outlinewidth\":0,\"ticks\":\"\"}}}],\"histogram\":[{\"marker\":{\"pattern\":{\"fillmode\":\"overlay\",\"size\":10,\"solidity\":0.2}},\"type\":\"histogram\"}],\"scattergl\":[{\"type\":\"scattergl\",\"marker\":{\"colorbar\":{\"outlinewidth\":0,\"ticks\":\"\"}}}],\"scatter3d\":[{\"type\":\"scatter3d\",\"line\":{\"colorbar\":{\"outlinewidth\":0,\"ticks\":\"\"}},\"marker\":{\"colorbar\":{\"outlinewidth\":0,\"ticks\":\"\"}}}],\"scattermapbox\":[{\"type\":\"scattermapbox\",\"marker\":{\"colorbar\":{\"outlinewidth\":0,\"ticks\":\"\"}}}],\"scatterternary\":[{\"type\":\"scatterternary\",\"marker\":{\"colorbar\":{\"outlinewidth\":0,\"ticks\":\"\"}}}],\"scattercarpet\":[{\"type\":\"scattercarpet\",\"marker\":{\"colorbar\":{\"outlinewidth\":0,\"ticks\":\"\"}}}],\"carpet\":[{\"aaxis\":{\"endlinecolor\":\"#2a3f5f\",\"gridcolor\":\"white\",\"linecolor\":\"white\",\"minorgridcolor\":\"white\",\"startlinecolor\":\"#2a3f5f\"},\"baxis\":{\"endlinecolor\":\"#2a3f5f\",\"gridcolor\":\"white\",\"linecolor\":\"white\",\"minorgridcolor\":\"white\",\"startlinecolor\":\"#2a3f5f\"},\"type\":\"carpet\"}],\"table\":[{\"cells\":{\"fill\":{\"color\":\"#EBF0F8\"},\"line\":{\"color\":\"white\"}},\"header\":{\"fill\":{\"color\":\"#C8D4E3\"},\"line\":{\"color\":\"white\"}},\"type\":\"table\"}],\"barpolar\":[{\"marker\":{\"line\":{\"color\":\"#E5ECF6\",\"width\":0.5},\"pattern\":{\"fillmode\":\"overlay\",\"size\":10,\"solidity\":0.2}},\"type\":\"barpolar\"}],\"pie\":[{\"automargin\":true,\"type\":\"pie\"}]},\"layout\":{\"autotypenumbers\":\"strict\",\"colorway\":[\"#636efa\",\"#EF553B\",\"#00cc96\",\"#ab63fa\",\"#FFA15A\",\"#19d3f3\",\"#FF6692\",\"#B6E880\",\"#FF97FF\",\"#FECB52\"],\"font\":{\"color\":\"#2a3f5f\"},\"hovermode\":\"closest\",\"hoverlabel\":{\"align\":\"left\"},\"paper_bgcolor\":\"white\",\"plot_bgcolor\":\"#E5ECF6\",\"polar\":{\"bgcolor\":\"#E5ECF6\",\"angularaxis\":{\"gridcolor\":\"white\",\"linecolor\":\"white\",\"ticks\":\"\"},\"radialaxis\":{\"gridcolor\":\"white\",\"linecolor\":\"white\",\"ticks\":\"\"}},\"ternary\":{\"bgcolor\":\"#E5ECF6\",\"aaxis\":{\"gridcolor\":\"white\",\"linecolor\":\"white\",\"ticks\":\"\"},\"baxis\":{\"gridcolor\":\"white\",\"linecolor\":\"white\",\"ticks\":\"\"},\"caxis\":{\"gridcolor\":\"white\",\"linecolor\":\"white\",\"ticks\":\"\"}},\"coloraxis\":{\"colorbar\":{\"outlinewidth\":0,\"ticks\":\"\"}},\"colorscale\":{\"sequential\":[[0.0,\"#0d0887\"],[0.1111111111111111,\"#46039f\"],[0.2222222222222222,\"#7201a8\"],[0.3333333333333333,\"#9c179e\"],[0.4444444444444444,\"#bd3786\"],[0.5555555555555556,\"#d8576b\"],[0.6666666666666666,\"#ed7953\"],[0.7777777777777778,\"#fb9f3a\"],[0.8888888888888888,\"#fdca26\"],[1.0,\"#f0f921\"]],\"sequentialminus\":[[0.0,\"#0d0887\"],[0.1111111111111111,\"#46039f\"],[0.2222222222222222,\"#7201a8\"],[0.3333333333333333,\"#9c179e\"],[0.4444444444444444,\"#bd3786\"],[0.5555555555555556,\"#d8576b\"],[0.6666666666666666,\"#ed7953\"],[0.7777777777777778,\"#fb9f3a\"],[0.8888888888888888,\"#fdca26\"],[1.0,\"#f0f921\"]],\"diverging\":[[0,\"#8e0152\"],[0.1,\"#c51b7d\"],[0.2,\"#de77ae\"],[0.3,\"#f1b6da\"],[0.4,\"#fde0ef\"],[0.5,\"#f7f7f7\"],[0.6,\"#e6f5d0\"],[0.7,\"#b8e186\"],[0.8,\"#7fbc41\"],[0.9,\"#4d9221\"],[1,\"#276419\"]]},\"xaxis\":{\"gridcolor\":\"white\",\"linecolor\":\"white\",\"ticks\":\"\",\"title\":{\"standoff\":15},\"zerolinecolor\":\"white\",\"automargin\":true,\"zerolinewidth\":2},\"yaxis\":{\"gridcolor\":\"white\",\"linecolor\":\"white\",\"ticks\":\"\",\"title\":{\"standoff\":15},\"zerolinecolor\":\"white\",\"automargin\":true,\"zerolinewidth\":2},\"scene\":{\"xaxis\":{\"backgroundcolor\":\"#E5ECF6\",\"gridcolor\":\"white\",\"linecolor\":\"white\",\"showbackground\":true,\"ticks\":\"\",\"zerolinecolor\":\"white\",\"gridwidth\":2},\"yaxis\":{\"backgroundcolor\":\"#E5ECF6\",\"gridcolor\":\"white\",\"linecolor\":\"white\",\"showbackground\":true,\"ticks\":\"\",\"zerolinecolor\":\"white\",\"gridwidth\":2},\"zaxis\":{\"backgroundcolor\":\"#E5ECF6\",\"gridcolor\":\"white\",\"linecolor\":\"white\",\"showbackground\":true,\"ticks\":\"\",\"zerolinecolor\":\"white\",\"gridwidth\":2}},\"shapedefaults\":{\"line\":{\"color\":\"#2a3f5f\"}},\"annotationdefaults\":{\"arrowcolor\":\"#2a3f5f\",\"arrowhead\":0,\"arrowwidth\":1},\"geo\":{\"bgcolor\":\"white\",\"landcolor\":\"#E5ECF6\",\"subunitcolor\":\"white\",\"showland\":true,\"showlakes\":true,\"lakecolor\":\"white\"},\"title\":{\"x\":0.05},\"mapbox\":{\"style\":\"light\"}}},\"xaxis\":{\"anchor\":\"y\",\"domain\":[0.0,1.0],\"title\":{\"text\":\"attribute\"}},\"yaxis\":{\"anchor\":\"x\",\"domain\":[0.0,1.0],\"title\":{\"text\":\"sum of instructor\"}},\"legend\":{\"tracegroupgap\":0},\"margin\":{\"t\":60},\"barmode\":\"relative\"},                        {\"responsive\": true}                    ).then(function(){\n",
              "                            \n",
              "var gd = document.getElementById('1bbfc6de-dfe6-4c1f-9fa6-7b17ae0b7d54');\n",
              "var x = new MutationObserver(function (mutations, observer) {{\n",
              "        var display = window.getComputedStyle(gd).display;\n",
              "        if (!display || display === 'none') {{\n",
              "            console.log([gd, 'removed!']);\n",
              "            Plotly.purge(gd);\n",
              "            observer.disconnect();\n",
              "        }}\n",
              "}});\n",
              "\n",
              "// Listen for the removal of the full notebook cells\n",
              "var notebookContainer = gd.closest('#notebook-container');\n",
              "if (notebookContainer) {{\n",
              "    x.observe(notebookContainer, {childList: true});\n",
              "}}\n",
              "\n",
              "// Listen for the clearing of the current output cell\n",
              "var outputEl = gd.closest('.output');\n",
              "if (outputEl) {{\n",
              "    x.observe(outputEl, {childList: true});\n",
              "}}\n",
              "\n",
              "                        })                };                            </script>        </div>\n",
              "</body>\n",
              "</html>"
            ]
          },
          "metadata": {}
        }
      ]
    },
    {
      "cell_type": "code",
      "source": [
        "fig= px.histogram(data,y='class_size',x='attribute')\n",
        "fig.show()"
      ],
      "metadata": {
        "colab": {
          "base_uri": "https://localhost:8080/",
          "height": 542
        },
        "id": "0g0JdZAtve36",
        "outputId": "45fa95a6-7155-4056-e3d8-9d21122e913c"
      },
      "execution_count": null,
      "outputs": [
        {
          "output_type": "display_data",
          "data": {
            "text/html": [
              "<html>\n",
              "<head><meta charset=\"utf-8\" /></head>\n",
              "<body>\n",
              "    <div>            <script src=\"https://cdnjs.cloudflare.com/ajax/libs/mathjax/2.7.5/MathJax.js?config=TeX-AMS-MML_SVG\"></script><script type=\"text/javascript\">if (window.MathJax && window.MathJax.Hub && window.MathJax.Hub.Config) {window.MathJax.Hub.Config({SVG: {font: \"STIX-Web\"}});}</script>                <script type=\"text/javascript\">window.PlotlyConfig = {MathJaxConfig: 'local'};</script>\n",
              "        <script charset=\"utf-8\" src=\"https://cdn.plot.ly/plotly-2.24.1.min.js\"></script>                <div id=\"56e67cd7-c48c-44d4-8405-f034c2324fc1\" class=\"plotly-graph-div\" style=\"height:525px; width:100%;\"></div>            <script type=\"text/javascript\">                                    window.PLOTLYENV=window.PLOTLYENV || {};                                    if (document.getElementById(\"56e67cd7-c48c-44d4-8405-f034c2324fc1\")) {                    Plotly.newPlot(                        \"56e67cd7-c48c-44d4-8405-f034c2324fc1\",                        [{\"alignmentgroup\":\"True\",\"bingroup\":\"x\",\"histfunc\":\"sum\",\"hovertemplate\":\"attribute=%{x}\\u003cbr\\u003esum of class_size=%{y}\\u003cextra\\u003e\\u003c\\u002fextra\\u003e\",\"legendgroup\":\"\",\"marker\":{\"color\":\"#636efa\",\"pattern\":{\"shape\":\"\"}},\"name\":\"\",\"offsetgroup\":\"\",\"orientation\":\"v\",\"showlegend\":false,\"x\":[\"High\",\"High\",\"High\",\"High\",\"High\",\"High\",\"High\",\"High\",\"High\",\"High\",\"High\",\"High\",\"High\",\"High\",\"Medium\",\"Medium\",\"Medium\",\"Medium\",\"Medium\",\"Medium\",\"Medium\",\"Medium\",\"Medium\",\"Medium\",\"Medium\",\"Medium\",\"Medium\",\"Medium\",\"Low\",\"Low\",\"Low\",\"Low\",\"Low\",\"Low\",\"Low\",\"Low\",\"Low\",\"Low\",\"Low\",\"High\",\"High\",\"High\",\"High\",\"High\",\"High\",\"High\",\"High\",\"High\",\"High\",\"High\",\"High\",\"High\",\"High\",\"Medium\",\"Medium\",\"Medium\",\"Medium\",\"Medium\",\"Medium\",\"Medium\",\"Medium\",\"Medium\",\"Medium\",\"Medium\",\"Medium\",\"Medium\",\"Medium\",\"Low\",\"Low\",\"Low\",\"Low\",\"Low\",\"Low\",\"Low\",\"Low\",\"Low\",\"Low\",\"Low\",\"High\",\"High\",\"High\",\"High\",\"High\",\"High\",\"High\",\"High\",\"High\",\"High\",\"High\",\"High\",\"High\",\"High\",\"High\",\"High\",\"High\",\"Medium\",\"Medium\",\"Medium\",\"Medium\",\"Medium\",\"Medium\",\"Medium\",\"Medium\",\"Medium\",\"Medium\",\"Medium\",\"Medium\",\"Low\",\"Low\",\"Low\",\"Low\",\"Low\",\"Low\",\"Low\",\"Low\",\"Low\",\"Low\",\"Low\",\"Low\",\"Low\",\"Low\",\"High\",\"High\",\"High\",\"High\",\"High\",\"High\",\"High\",\"Medium\",\"Medium\",\"Medium\",\"Medium\",\"Medium\",\"Medium\",\"Medium\",\"Medium\",\"Medium\",\"Medium\",\"Low\",\"Low\",\"Low\",\"Low\",\"Low\",\"Low\",\"Low\",\"Low\",\"Low\",\"Low\",\"Low\",\"Low\",\"Low\"],\"xaxis\":\"x\",\"y\":[19,17,49,33,55,20,19,27,58,20,9,30,29,39,42,43,10,46,10,42,27,23,31,22,37,13,24,38,42,28,51,19,31,13,37,36,21,48,38,19,17,49,33,55,20,19,27,58,20,9,30,29,39,42,43,10,46,10,42,27,23,31,22,37,13,24,38,42,28,51,19,31,13,37,36,21,48,38,25,17,11,39,11,19,45,20,20,20,38,17,19,24,25,31,31,18,22,27,14,20,35,20,20,37,15,25,10,14,38,29,19,30,32,27,34,23,66,12,29,19,3,17,7,21,36,54,29,45,11,16,18,44,17,21,20,24,5,42,30,19,11,29,15,37,10,24,26,12,48,51,27],\"yaxis\":\"y\",\"type\":\"histogram\"}],                        {\"template\":{\"data\":{\"histogram2dcontour\":[{\"type\":\"histogram2dcontour\",\"colorbar\":{\"outlinewidth\":0,\"ticks\":\"\"},\"colorscale\":[[0.0,\"#0d0887\"],[0.1111111111111111,\"#46039f\"],[0.2222222222222222,\"#7201a8\"],[0.3333333333333333,\"#9c179e\"],[0.4444444444444444,\"#bd3786\"],[0.5555555555555556,\"#d8576b\"],[0.6666666666666666,\"#ed7953\"],[0.7777777777777778,\"#fb9f3a\"],[0.8888888888888888,\"#fdca26\"],[1.0,\"#f0f921\"]]}],\"choropleth\":[{\"type\":\"choropleth\",\"colorbar\":{\"outlinewidth\":0,\"ticks\":\"\"}}],\"histogram2d\":[{\"type\":\"histogram2d\",\"colorbar\":{\"outlinewidth\":0,\"ticks\":\"\"},\"colorscale\":[[0.0,\"#0d0887\"],[0.1111111111111111,\"#46039f\"],[0.2222222222222222,\"#7201a8\"],[0.3333333333333333,\"#9c179e\"],[0.4444444444444444,\"#bd3786\"],[0.5555555555555556,\"#d8576b\"],[0.6666666666666666,\"#ed7953\"],[0.7777777777777778,\"#fb9f3a\"],[0.8888888888888888,\"#fdca26\"],[1.0,\"#f0f921\"]]}],\"heatmap\":[{\"type\":\"heatmap\",\"colorbar\":{\"outlinewidth\":0,\"ticks\":\"\"},\"colorscale\":[[0.0,\"#0d0887\"],[0.1111111111111111,\"#46039f\"],[0.2222222222222222,\"#7201a8\"],[0.3333333333333333,\"#9c179e\"],[0.4444444444444444,\"#bd3786\"],[0.5555555555555556,\"#d8576b\"],[0.6666666666666666,\"#ed7953\"],[0.7777777777777778,\"#fb9f3a\"],[0.8888888888888888,\"#fdca26\"],[1.0,\"#f0f921\"]]}],\"heatmapgl\":[{\"type\":\"heatmapgl\",\"colorbar\":{\"outlinewidth\":0,\"ticks\":\"\"},\"colorscale\":[[0.0,\"#0d0887\"],[0.1111111111111111,\"#46039f\"],[0.2222222222222222,\"#7201a8\"],[0.3333333333333333,\"#9c179e\"],[0.4444444444444444,\"#bd3786\"],[0.5555555555555556,\"#d8576b\"],[0.6666666666666666,\"#ed7953\"],[0.7777777777777778,\"#fb9f3a\"],[0.8888888888888888,\"#fdca26\"],[1.0,\"#f0f921\"]]}],\"contourcarpet\":[{\"type\":\"contourcarpet\",\"colorbar\":{\"outlinewidth\":0,\"ticks\":\"\"}}],\"contour\":[{\"type\":\"contour\",\"colorbar\":{\"outlinewidth\":0,\"ticks\":\"\"},\"colorscale\":[[0.0,\"#0d0887\"],[0.1111111111111111,\"#46039f\"],[0.2222222222222222,\"#7201a8\"],[0.3333333333333333,\"#9c179e\"],[0.4444444444444444,\"#bd3786\"],[0.5555555555555556,\"#d8576b\"],[0.6666666666666666,\"#ed7953\"],[0.7777777777777778,\"#fb9f3a\"],[0.8888888888888888,\"#fdca26\"],[1.0,\"#f0f921\"]]}],\"surface\":[{\"type\":\"surface\",\"colorbar\":{\"outlinewidth\":0,\"ticks\":\"\"},\"colorscale\":[[0.0,\"#0d0887\"],[0.1111111111111111,\"#46039f\"],[0.2222222222222222,\"#7201a8\"],[0.3333333333333333,\"#9c179e\"],[0.4444444444444444,\"#bd3786\"],[0.5555555555555556,\"#d8576b\"],[0.6666666666666666,\"#ed7953\"],[0.7777777777777778,\"#fb9f3a\"],[0.8888888888888888,\"#fdca26\"],[1.0,\"#f0f921\"]]}],\"mesh3d\":[{\"type\":\"mesh3d\",\"colorbar\":{\"outlinewidth\":0,\"ticks\":\"\"}}],\"scatter\":[{\"fillpattern\":{\"fillmode\":\"overlay\",\"size\":10,\"solidity\":0.2},\"type\":\"scatter\"}],\"parcoords\":[{\"type\":\"parcoords\",\"line\":{\"colorbar\":{\"outlinewidth\":0,\"ticks\":\"\"}}}],\"scatterpolargl\":[{\"type\":\"scatterpolargl\",\"marker\":{\"colorbar\":{\"outlinewidth\":0,\"ticks\":\"\"}}}],\"bar\":[{\"error_x\":{\"color\":\"#2a3f5f\"},\"error_y\":{\"color\":\"#2a3f5f\"},\"marker\":{\"line\":{\"color\":\"#E5ECF6\",\"width\":0.5},\"pattern\":{\"fillmode\":\"overlay\",\"size\":10,\"solidity\":0.2}},\"type\":\"bar\"}],\"scattergeo\":[{\"type\":\"scattergeo\",\"marker\":{\"colorbar\":{\"outlinewidth\":0,\"ticks\":\"\"}}}],\"scatterpolar\":[{\"type\":\"scatterpolar\",\"marker\":{\"colorbar\":{\"outlinewidth\":0,\"ticks\":\"\"}}}],\"histogram\":[{\"marker\":{\"pattern\":{\"fillmode\":\"overlay\",\"size\":10,\"solidity\":0.2}},\"type\":\"histogram\"}],\"scattergl\":[{\"type\":\"scattergl\",\"marker\":{\"colorbar\":{\"outlinewidth\":0,\"ticks\":\"\"}}}],\"scatter3d\":[{\"type\":\"scatter3d\",\"line\":{\"colorbar\":{\"outlinewidth\":0,\"ticks\":\"\"}},\"marker\":{\"colorbar\":{\"outlinewidth\":0,\"ticks\":\"\"}}}],\"scattermapbox\":[{\"type\":\"scattermapbox\",\"marker\":{\"colorbar\":{\"outlinewidth\":0,\"ticks\":\"\"}}}],\"scatterternary\":[{\"type\":\"scatterternary\",\"marker\":{\"colorbar\":{\"outlinewidth\":0,\"ticks\":\"\"}}}],\"scattercarpet\":[{\"type\":\"scattercarpet\",\"marker\":{\"colorbar\":{\"outlinewidth\":0,\"ticks\":\"\"}}}],\"carpet\":[{\"aaxis\":{\"endlinecolor\":\"#2a3f5f\",\"gridcolor\":\"white\",\"linecolor\":\"white\",\"minorgridcolor\":\"white\",\"startlinecolor\":\"#2a3f5f\"},\"baxis\":{\"endlinecolor\":\"#2a3f5f\",\"gridcolor\":\"white\",\"linecolor\":\"white\",\"minorgridcolor\":\"white\",\"startlinecolor\":\"#2a3f5f\"},\"type\":\"carpet\"}],\"table\":[{\"cells\":{\"fill\":{\"color\":\"#EBF0F8\"},\"line\":{\"color\":\"white\"}},\"header\":{\"fill\":{\"color\":\"#C8D4E3\"},\"line\":{\"color\":\"white\"}},\"type\":\"table\"}],\"barpolar\":[{\"marker\":{\"line\":{\"color\":\"#E5ECF6\",\"width\":0.5},\"pattern\":{\"fillmode\":\"overlay\",\"size\":10,\"solidity\":0.2}},\"type\":\"barpolar\"}],\"pie\":[{\"automargin\":true,\"type\":\"pie\"}]},\"layout\":{\"autotypenumbers\":\"strict\",\"colorway\":[\"#636efa\",\"#EF553B\",\"#00cc96\",\"#ab63fa\",\"#FFA15A\",\"#19d3f3\",\"#FF6692\",\"#B6E880\",\"#FF97FF\",\"#FECB52\"],\"font\":{\"color\":\"#2a3f5f\"},\"hovermode\":\"closest\",\"hoverlabel\":{\"align\":\"left\"},\"paper_bgcolor\":\"white\",\"plot_bgcolor\":\"#E5ECF6\",\"polar\":{\"bgcolor\":\"#E5ECF6\",\"angularaxis\":{\"gridcolor\":\"white\",\"linecolor\":\"white\",\"ticks\":\"\"},\"radialaxis\":{\"gridcolor\":\"white\",\"linecolor\":\"white\",\"ticks\":\"\"}},\"ternary\":{\"bgcolor\":\"#E5ECF6\",\"aaxis\":{\"gridcolor\":\"white\",\"linecolor\":\"white\",\"ticks\":\"\"},\"baxis\":{\"gridcolor\":\"white\",\"linecolor\":\"white\",\"ticks\":\"\"},\"caxis\":{\"gridcolor\":\"white\",\"linecolor\":\"white\",\"ticks\":\"\"}},\"coloraxis\":{\"colorbar\":{\"outlinewidth\":0,\"ticks\":\"\"}},\"colorscale\":{\"sequential\":[[0.0,\"#0d0887\"],[0.1111111111111111,\"#46039f\"],[0.2222222222222222,\"#7201a8\"],[0.3333333333333333,\"#9c179e\"],[0.4444444444444444,\"#bd3786\"],[0.5555555555555556,\"#d8576b\"],[0.6666666666666666,\"#ed7953\"],[0.7777777777777778,\"#fb9f3a\"],[0.8888888888888888,\"#fdca26\"],[1.0,\"#f0f921\"]],\"sequentialminus\":[[0.0,\"#0d0887\"],[0.1111111111111111,\"#46039f\"],[0.2222222222222222,\"#7201a8\"],[0.3333333333333333,\"#9c179e\"],[0.4444444444444444,\"#bd3786\"],[0.5555555555555556,\"#d8576b\"],[0.6666666666666666,\"#ed7953\"],[0.7777777777777778,\"#fb9f3a\"],[0.8888888888888888,\"#fdca26\"],[1.0,\"#f0f921\"]],\"diverging\":[[0,\"#8e0152\"],[0.1,\"#c51b7d\"],[0.2,\"#de77ae\"],[0.3,\"#f1b6da\"],[0.4,\"#fde0ef\"],[0.5,\"#f7f7f7\"],[0.6,\"#e6f5d0\"],[0.7,\"#b8e186\"],[0.8,\"#7fbc41\"],[0.9,\"#4d9221\"],[1,\"#276419\"]]},\"xaxis\":{\"gridcolor\":\"white\",\"linecolor\":\"white\",\"ticks\":\"\",\"title\":{\"standoff\":15},\"zerolinecolor\":\"white\",\"automargin\":true,\"zerolinewidth\":2},\"yaxis\":{\"gridcolor\":\"white\",\"linecolor\":\"white\",\"ticks\":\"\",\"title\":{\"standoff\":15},\"zerolinecolor\":\"white\",\"automargin\":true,\"zerolinewidth\":2},\"scene\":{\"xaxis\":{\"backgroundcolor\":\"#E5ECF6\",\"gridcolor\":\"white\",\"linecolor\":\"white\",\"showbackground\":true,\"ticks\":\"\",\"zerolinecolor\":\"white\",\"gridwidth\":2},\"yaxis\":{\"backgroundcolor\":\"#E5ECF6\",\"gridcolor\":\"white\",\"linecolor\":\"white\",\"showbackground\":true,\"ticks\":\"\",\"zerolinecolor\":\"white\",\"gridwidth\":2},\"zaxis\":{\"backgroundcolor\":\"#E5ECF6\",\"gridcolor\":\"white\",\"linecolor\":\"white\",\"showbackground\":true,\"ticks\":\"\",\"zerolinecolor\":\"white\",\"gridwidth\":2}},\"shapedefaults\":{\"line\":{\"color\":\"#2a3f5f\"}},\"annotationdefaults\":{\"arrowcolor\":\"#2a3f5f\",\"arrowhead\":0,\"arrowwidth\":1},\"geo\":{\"bgcolor\":\"white\",\"landcolor\":\"#E5ECF6\",\"subunitcolor\":\"white\",\"showland\":true,\"showlakes\":true,\"lakecolor\":\"white\"},\"title\":{\"x\":0.05},\"mapbox\":{\"style\":\"light\"}}},\"xaxis\":{\"anchor\":\"y\",\"domain\":[0.0,1.0],\"title\":{\"text\":\"attribute\"}},\"yaxis\":{\"anchor\":\"x\",\"domain\":[0.0,1.0],\"title\":{\"text\":\"sum of class_size\"}},\"legend\":{\"tracegroupgap\":0},\"margin\":{\"t\":60},\"barmode\":\"relative\"},                        {\"responsive\": true}                    ).then(function(){\n",
              "                            \n",
              "var gd = document.getElementById('56e67cd7-c48c-44d4-8405-f034c2324fc1');\n",
              "var x = new MutationObserver(function (mutations, observer) {{\n",
              "        var display = window.getComputedStyle(gd).display;\n",
              "        if (!display || display === 'none') {{\n",
              "            console.log([gd, 'removed!']);\n",
              "            Plotly.purge(gd);\n",
              "            observer.disconnect();\n",
              "        }}\n",
              "}});\n",
              "\n",
              "// Listen for the removal of the full notebook cells\n",
              "var notebookContainer = gd.closest('#notebook-container');\n",
              "if (notebookContainer) {{\n",
              "    x.observe(notebookContainer, {childList: true});\n",
              "}}\n",
              "\n",
              "// Listen for the clearing of the current output cell\n",
              "var outputEl = gd.closest('.output');\n",
              "if (outputEl) {{\n",
              "    x.observe(outputEl, {childList: true});\n",
              "}}\n",
              "\n",
              "                        })                };                            </script>        </div>\n",
              "</body>\n",
              "</html>"
            ]
          },
          "metadata": {}
        }
      ]
    },
    {
      "cell_type": "code",
      "source": [
        "fig= px.histogram(data,x='semester',y='instructor')\n",
        "fig.show()"
      ],
      "metadata": {
        "colab": {
          "base_uri": "https://localhost:8080/",
          "height": 542
        },
        "id": "nsdAQ-Iwv5XX",
        "outputId": "26c883a9-446b-4632-bced-98213854c3b8"
      },
      "execution_count": null,
      "outputs": [
        {
          "output_type": "display_data",
          "data": {
            "text/html": [
              "<html>\n",
              "<head><meta charset=\"utf-8\" /></head>\n",
              "<body>\n",
              "    <div>            <script src=\"https://cdnjs.cloudflare.com/ajax/libs/mathjax/2.7.5/MathJax.js?config=TeX-AMS-MML_SVG\"></script><script type=\"text/javascript\">if (window.MathJax && window.MathJax.Hub && window.MathJax.Hub.Config) {window.MathJax.Hub.Config({SVG: {font: \"STIX-Web\"}});}</script>                <script type=\"text/javascript\">window.PlotlyConfig = {MathJaxConfig: 'local'};</script>\n",
              "        <script charset=\"utf-8\" src=\"https://cdn.plot.ly/plotly-2.24.1.min.js\"></script>                <div id=\"d2877005-4281-417b-be5e-eb4e89fcd854\" class=\"plotly-graph-div\" style=\"height:525px; width:100%;\"></div>            <script type=\"text/javascript\">                                    window.PLOTLYENV=window.PLOTLYENV || {};                                    if (document.getElementById(\"d2877005-4281-417b-be5e-eb4e89fcd854\")) {                    Plotly.newPlot(                        \"d2877005-4281-417b-be5e-eb4e89fcd854\",                        [{\"alignmentgroup\":\"True\",\"bingroup\":\"x\",\"histfunc\":\"sum\",\"hovertemplate\":\"semester=%{x}\\u003cbr\\u003esum of instructor=%{y}\\u003cextra\\u003e\\u003c\\u002fextra\\u003e\",\"legendgroup\":\"\",\"marker\":{\"color\":\"#636efa\",\"pattern\":{\"shape\":\"\"}},\"name\":\"\",\"offsetgroup\":\"\",\"orientation\":\"v\",\"showlegend\":false,\"x\":[\"Summer\",\"Summer\",\"Regular\",\"Regular\",\"Regular\",\"Summer\",\"Regular\",\"Regular\",\"Summer\",\"Summer\",\"Regular\",\"Regular\",\"Regular\",\"Regular\",\"Regular\",\"Regular\",\"Regular\",\"Regular\",\"Summer\",\"Regular\",\"Regular\",\"Regular\",\"Regular\",\"Summer\",\"Regular\",\"Regular\",\"Regular\",\"Regular\",\"Regular\",\"Regular\",\"Regular\",\"Regular\",\"Regular\",\"Summer\",\"Regular\",\"Regular\",\"Regular\",\"Regular\",\"Regular\",\"Summer\",\"Summer\",\"Regular\",\"Regular\",\"Regular\",\"Summer\",\"Regular\",\"Regular\",\"Regular\",\"Summer\",\"Regular\",\"Regular\",\"Regular\",\"Regular\",\"Regular\",\"Regular\",\"Regular\",\"Regular\",\"Summer\",\"Regular\",\"Regular\",\"Regular\",\"Regular\",\"Summer\",\"Regular\",\"Regular\",\"Regular\",\"Regular\",\"Regular\",\"Regular\",\"Regular\",\"Regular\",\"Regular\",\"Summer\",\"Regular\",\"Regular\",\"Regular\",\"Regular\",\"Regular\",\"Summer\",\"Summer\",\"Regular\",\"Regular\",\"Summer\",\"Regular\",\"Regular\",\"Summer\",\"Summer\",\"Summer\",\"Regular\",\"Regular\",\"Regular\",\"Regular\",\"Regular\",\"Regular\",\"Regular\",\"Regular\",\"Regular\",\"Regular\",\"Regular\",\"Regular\",\"Regular\",\"Summer\",\"Summer\",\"Regular\",\"Regular\",\"Regular\",\"Regular\",\"Regular\",\"Regular\",\"Regular\",\"Regular\",\"Regular\",\"Regular\",\"Regular\",\"Regular\",\"Regular\",\"Regular\",\"Regular\",\"Regular\",\"Regular\",\"Regular\",\"Regular\",\"Regular\",\"Regular\",\"Regular\",\"Regular\",\"Regular\",\"Regular\",\"Regular\",\"Regular\",\"Regular\",\"Regular\",\"Regular\",\"Regular\",\"Regular\",\"Regular\",\"Regular\",\"Regular\",\"Regular\",\"Regular\",\"Regular\",\"Regular\",\"Regular\",\"Regular\",\"Regular\",\"Regular\",\"Regular\",\"Regular\",\"Regular\",\"Regular\",\"Regular\"],\"xaxis\":\"x\",\"y\":[23,15,23,5,7,23,9,10,22,15,10,13,18,6,6,6,7,22,13,7,25,25,2,1,15,7,8,14,21,22,11,18,13,13,5,16,4,5,14,23,15,23,5,7,23,9,10,22,15,10,13,18,6,6,6,7,22,13,7,25,25,2,1,15,7,8,14,21,22,11,18,13,13,5,16,4,5,14,23,13,16,9,13,18,22,7,23,23,23,14,17,9,18,17,1,1,11,22,9,13,6,23,23,6,22,20,23,20,23,13,10,7,14,8,12,8,15,23,2,15,20,13,9,10,14,13,8,20,22,18,20,17,14,24,9,12,9,22,7,10,23,17,16,3,19,23,3,10,18,22,2],\"yaxis\":\"y\",\"type\":\"histogram\"}],                        {\"template\":{\"data\":{\"histogram2dcontour\":[{\"type\":\"histogram2dcontour\",\"colorbar\":{\"outlinewidth\":0,\"ticks\":\"\"},\"colorscale\":[[0.0,\"#0d0887\"],[0.1111111111111111,\"#46039f\"],[0.2222222222222222,\"#7201a8\"],[0.3333333333333333,\"#9c179e\"],[0.4444444444444444,\"#bd3786\"],[0.5555555555555556,\"#d8576b\"],[0.6666666666666666,\"#ed7953\"],[0.7777777777777778,\"#fb9f3a\"],[0.8888888888888888,\"#fdca26\"],[1.0,\"#f0f921\"]]}],\"choropleth\":[{\"type\":\"choropleth\",\"colorbar\":{\"outlinewidth\":0,\"ticks\":\"\"}}],\"histogram2d\":[{\"type\":\"histogram2d\",\"colorbar\":{\"outlinewidth\":0,\"ticks\":\"\"},\"colorscale\":[[0.0,\"#0d0887\"],[0.1111111111111111,\"#46039f\"],[0.2222222222222222,\"#7201a8\"],[0.3333333333333333,\"#9c179e\"],[0.4444444444444444,\"#bd3786\"],[0.5555555555555556,\"#d8576b\"],[0.6666666666666666,\"#ed7953\"],[0.7777777777777778,\"#fb9f3a\"],[0.8888888888888888,\"#fdca26\"],[1.0,\"#f0f921\"]]}],\"heatmap\":[{\"type\":\"heatmap\",\"colorbar\":{\"outlinewidth\":0,\"ticks\":\"\"},\"colorscale\":[[0.0,\"#0d0887\"],[0.1111111111111111,\"#46039f\"],[0.2222222222222222,\"#7201a8\"],[0.3333333333333333,\"#9c179e\"],[0.4444444444444444,\"#bd3786\"],[0.5555555555555556,\"#d8576b\"],[0.6666666666666666,\"#ed7953\"],[0.7777777777777778,\"#fb9f3a\"],[0.8888888888888888,\"#fdca26\"],[1.0,\"#f0f921\"]]}],\"heatmapgl\":[{\"type\":\"heatmapgl\",\"colorbar\":{\"outlinewidth\":0,\"ticks\":\"\"},\"colorscale\":[[0.0,\"#0d0887\"],[0.1111111111111111,\"#46039f\"],[0.2222222222222222,\"#7201a8\"],[0.3333333333333333,\"#9c179e\"],[0.4444444444444444,\"#bd3786\"],[0.5555555555555556,\"#d8576b\"],[0.6666666666666666,\"#ed7953\"],[0.7777777777777778,\"#fb9f3a\"],[0.8888888888888888,\"#fdca26\"],[1.0,\"#f0f921\"]]}],\"contourcarpet\":[{\"type\":\"contourcarpet\",\"colorbar\":{\"outlinewidth\":0,\"ticks\":\"\"}}],\"contour\":[{\"type\":\"contour\",\"colorbar\":{\"outlinewidth\":0,\"ticks\":\"\"},\"colorscale\":[[0.0,\"#0d0887\"],[0.1111111111111111,\"#46039f\"],[0.2222222222222222,\"#7201a8\"],[0.3333333333333333,\"#9c179e\"],[0.4444444444444444,\"#bd3786\"],[0.5555555555555556,\"#d8576b\"],[0.6666666666666666,\"#ed7953\"],[0.7777777777777778,\"#fb9f3a\"],[0.8888888888888888,\"#fdca26\"],[1.0,\"#f0f921\"]]}],\"surface\":[{\"type\":\"surface\",\"colorbar\":{\"outlinewidth\":0,\"ticks\":\"\"},\"colorscale\":[[0.0,\"#0d0887\"],[0.1111111111111111,\"#46039f\"],[0.2222222222222222,\"#7201a8\"],[0.3333333333333333,\"#9c179e\"],[0.4444444444444444,\"#bd3786\"],[0.5555555555555556,\"#d8576b\"],[0.6666666666666666,\"#ed7953\"],[0.7777777777777778,\"#fb9f3a\"],[0.8888888888888888,\"#fdca26\"],[1.0,\"#f0f921\"]]}],\"mesh3d\":[{\"type\":\"mesh3d\",\"colorbar\":{\"outlinewidth\":0,\"ticks\":\"\"}}],\"scatter\":[{\"fillpattern\":{\"fillmode\":\"overlay\",\"size\":10,\"solidity\":0.2},\"type\":\"scatter\"}],\"parcoords\":[{\"type\":\"parcoords\",\"line\":{\"colorbar\":{\"outlinewidth\":0,\"ticks\":\"\"}}}],\"scatterpolargl\":[{\"type\":\"scatterpolargl\",\"marker\":{\"colorbar\":{\"outlinewidth\":0,\"ticks\":\"\"}}}],\"bar\":[{\"error_x\":{\"color\":\"#2a3f5f\"},\"error_y\":{\"color\":\"#2a3f5f\"},\"marker\":{\"line\":{\"color\":\"#E5ECF6\",\"width\":0.5},\"pattern\":{\"fillmode\":\"overlay\",\"size\":10,\"solidity\":0.2}},\"type\":\"bar\"}],\"scattergeo\":[{\"type\":\"scattergeo\",\"marker\":{\"colorbar\":{\"outlinewidth\":0,\"ticks\":\"\"}}}],\"scatterpolar\":[{\"type\":\"scatterpolar\",\"marker\":{\"colorbar\":{\"outlinewidth\":0,\"ticks\":\"\"}}}],\"histogram\":[{\"marker\":{\"pattern\":{\"fillmode\":\"overlay\",\"size\":10,\"solidity\":0.2}},\"type\":\"histogram\"}],\"scattergl\":[{\"type\":\"scattergl\",\"marker\":{\"colorbar\":{\"outlinewidth\":0,\"ticks\":\"\"}}}],\"scatter3d\":[{\"type\":\"scatter3d\",\"line\":{\"colorbar\":{\"outlinewidth\":0,\"ticks\":\"\"}},\"marker\":{\"colorbar\":{\"outlinewidth\":0,\"ticks\":\"\"}}}],\"scattermapbox\":[{\"type\":\"scattermapbox\",\"marker\":{\"colorbar\":{\"outlinewidth\":0,\"ticks\":\"\"}}}],\"scatterternary\":[{\"type\":\"scatterternary\",\"marker\":{\"colorbar\":{\"outlinewidth\":0,\"ticks\":\"\"}}}],\"scattercarpet\":[{\"type\":\"scattercarpet\",\"marker\":{\"colorbar\":{\"outlinewidth\":0,\"ticks\":\"\"}}}],\"carpet\":[{\"aaxis\":{\"endlinecolor\":\"#2a3f5f\",\"gridcolor\":\"white\",\"linecolor\":\"white\",\"minorgridcolor\":\"white\",\"startlinecolor\":\"#2a3f5f\"},\"baxis\":{\"endlinecolor\":\"#2a3f5f\",\"gridcolor\":\"white\",\"linecolor\":\"white\",\"minorgridcolor\":\"white\",\"startlinecolor\":\"#2a3f5f\"},\"type\":\"carpet\"}],\"table\":[{\"cells\":{\"fill\":{\"color\":\"#EBF0F8\"},\"line\":{\"color\":\"white\"}},\"header\":{\"fill\":{\"color\":\"#C8D4E3\"},\"line\":{\"color\":\"white\"}},\"type\":\"table\"}],\"barpolar\":[{\"marker\":{\"line\":{\"color\":\"#E5ECF6\",\"width\":0.5},\"pattern\":{\"fillmode\":\"overlay\",\"size\":10,\"solidity\":0.2}},\"type\":\"barpolar\"}],\"pie\":[{\"automargin\":true,\"type\":\"pie\"}]},\"layout\":{\"autotypenumbers\":\"strict\",\"colorway\":[\"#636efa\",\"#EF553B\",\"#00cc96\",\"#ab63fa\",\"#FFA15A\",\"#19d3f3\",\"#FF6692\",\"#B6E880\",\"#FF97FF\",\"#FECB52\"],\"font\":{\"color\":\"#2a3f5f\"},\"hovermode\":\"closest\",\"hoverlabel\":{\"align\":\"left\"},\"paper_bgcolor\":\"white\",\"plot_bgcolor\":\"#E5ECF6\",\"polar\":{\"bgcolor\":\"#E5ECF6\",\"angularaxis\":{\"gridcolor\":\"white\",\"linecolor\":\"white\",\"ticks\":\"\"},\"radialaxis\":{\"gridcolor\":\"white\",\"linecolor\":\"white\",\"ticks\":\"\"}},\"ternary\":{\"bgcolor\":\"#E5ECF6\",\"aaxis\":{\"gridcolor\":\"white\",\"linecolor\":\"white\",\"ticks\":\"\"},\"baxis\":{\"gridcolor\":\"white\",\"linecolor\":\"white\",\"ticks\":\"\"},\"caxis\":{\"gridcolor\":\"white\",\"linecolor\":\"white\",\"ticks\":\"\"}},\"coloraxis\":{\"colorbar\":{\"outlinewidth\":0,\"ticks\":\"\"}},\"colorscale\":{\"sequential\":[[0.0,\"#0d0887\"],[0.1111111111111111,\"#46039f\"],[0.2222222222222222,\"#7201a8\"],[0.3333333333333333,\"#9c179e\"],[0.4444444444444444,\"#bd3786\"],[0.5555555555555556,\"#d8576b\"],[0.6666666666666666,\"#ed7953\"],[0.7777777777777778,\"#fb9f3a\"],[0.8888888888888888,\"#fdca26\"],[1.0,\"#f0f921\"]],\"sequentialminus\":[[0.0,\"#0d0887\"],[0.1111111111111111,\"#46039f\"],[0.2222222222222222,\"#7201a8\"],[0.3333333333333333,\"#9c179e\"],[0.4444444444444444,\"#bd3786\"],[0.5555555555555556,\"#d8576b\"],[0.6666666666666666,\"#ed7953\"],[0.7777777777777778,\"#fb9f3a\"],[0.8888888888888888,\"#fdca26\"],[1.0,\"#f0f921\"]],\"diverging\":[[0,\"#8e0152\"],[0.1,\"#c51b7d\"],[0.2,\"#de77ae\"],[0.3,\"#f1b6da\"],[0.4,\"#fde0ef\"],[0.5,\"#f7f7f7\"],[0.6,\"#e6f5d0\"],[0.7,\"#b8e186\"],[0.8,\"#7fbc41\"],[0.9,\"#4d9221\"],[1,\"#276419\"]]},\"xaxis\":{\"gridcolor\":\"white\",\"linecolor\":\"white\",\"ticks\":\"\",\"title\":{\"standoff\":15},\"zerolinecolor\":\"white\",\"automargin\":true,\"zerolinewidth\":2},\"yaxis\":{\"gridcolor\":\"white\",\"linecolor\":\"white\",\"ticks\":\"\",\"title\":{\"standoff\":15},\"zerolinecolor\":\"white\",\"automargin\":true,\"zerolinewidth\":2},\"scene\":{\"xaxis\":{\"backgroundcolor\":\"#E5ECF6\",\"gridcolor\":\"white\",\"linecolor\":\"white\",\"showbackground\":true,\"ticks\":\"\",\"zerolinecolor\":\"white\",\"gridwidth\":2},\"yaxis\":{\"backgroundcolor\":\"#E5ECF6\",\"gridcolor\":\"white\",\"linecolor\":\"white\",\"showbackground\":true,\"ticks\":\"\",\"zerolinecolor\":\"white\",\"gridwidth\":2},\"zaxis\":{\"backgroundcolor\":\"#E5ECF6\",\"gridcolor\":\"white\",\"linecolor\":\"white\",\"showbackground\":true,\"ticks\":\"\",\"zerolinecolor\":\"white\",\"gridwidth\":2}},\"shapedefaults\":{\"line\":{\"color\":\"#2a3f5f\"}},\"annotationdefaults\":{\"arrowcolor\":\"#2a3f5f\",\"arrowhead\":0,\"arrowwidth\":1},\"geo\":{\"bgcolor\":\"white\",\"landcolor\":\"#E5ECF6\",\"subunitcolor\":\"white\",\"showland\":true,\"showlakes\":true,\"lakecolor\":\"white\"},\"title\":{\"x\":0.05},\"mapbox\":{\"style\":\"light\"}}},\"xaxis\":{\"anchor\":\"y\",\"domain\":[0.0,1.0],\"title\":{\"text\":\"semester\"}},\"yaxis\":{\"anchor\":\"x\",\"domain\":[0.0,1.0],\"title\":{\"text\":\"sum of instructor\"}},\"legend\":{\"tracegroupgap\":0},\"margin\":{\"t\":60},\"barmode\":\"relative\"},                        {\"responsive\": true}                    ).then(function(){\n",
              "                            \n",
              "var gd = document.getElementById('d2877005-4281-417b-be5e-eb4e89fcd854');\n",
              "var x = new MutationObserver(function (mutations, observer) {{\n",
              "        var display = window.getComputedStyle(gd).display;\n",
              "        if (!display || display === 'none') {{\n",
              "            console.log([gd, 'removed!']);\n",
              "            Plotly.purge(gd);\n",
              "            observer.disconnect();\n",
              "        }}\n",
              "}});\n",
              "\n",
              "// Listen for the removal of the full notebook cells\n",
              "var notebookContainer = gd.closest('#notebook-container');\n",
              "if (notebookContainer) {{\n",
              "    x.observe(notebookContainer, {childList: true});\n",
              "}}\n",
              "\n",
              "// Listen for the clearing of the current output cell\n",
              "var outputEl = gd.closest('.output');\n",
              "if (outputEl) {{\n",
              "    x.observe(outputEl, {childList: true});\n",
              "}}\n",
              "\n",
              "                        })                };                            </script>        </div>\n",
              "</body>\n",
              "</html>"
            ]
          },
          "metadata": {}
        }
      ]
    },
    {
      "cell_type": "code",
      "source": [
        "fig= px.histogram(data,x='attribute',y='course')\n",
        "fig.show()"
      ],
      "metadata": {
        "colab": {
          "base_uri": "https://localhost:8080/",
          "height": 542
        },
        "id": "ZjC8w5qGwfJD",
        "outputId": "713e204a-1c01-46b7-ac7f-9ac37c811dcb"
      },
      "execution_count": null,
      "outputs": [
        {
          "output_type": "display_data",
          "data": {
            "text/html": [
              "<html>\n",
              "<head><meta charset=\"utf-8\" /></head>\n",
              "<body>\n",
              "    <div>            <script src=\"https://cdnjs.cloudflare.com/ajax/libs/mathjax/2.7.5/MathJax.js?config=TeX-AMS-MML_SVG\"></script><script type=\"text/javascript\">if (window.MathJax && window.MathJax.Hub && window.MathJax.Hub.Config) {window.MathJax.Hub.Config({SVG: {font: \"STIX-Web\"}});}</script>                <script type=\"text/javascript\">window.PlotlyConfig = {MathJaxConfig: 'local'};</script>\n",
              "        <script charset=\"utf-8\" src=\"https://cdn.plot.ly/plotly-2.24.1.min.js\"></script>                <div id=\"5ff546ca-778a-4dca-a06b-3082b962dc2c\" class=\"plotly-graph-div\" style=\"height:525px; width:100%;\"></div>            <script type=\"text/javascript\">                                    window.PLOTLYENV=window.PLOTLYENV || {};                                    if (document.getElementById(\"5ff546ca-778a-4dca-a06b-3082b962dc2c\")) {                    Plotly.newPlot(                        \"5ff546ca-778a-4dca-a06b-3082b962dc2c\",                        [{\"alignmentgroup\":\"True\",\"bingroup\":\"x\",\"histfunc\":\"sum\",\"hovertemplate\":\"attribute=%{x}\\u003cbr\\u003esum of course=%{y}\\u003cextra\\u003e\\u003c\\u002fextra\\u003e\",\"legendgroup\":\"\",\"marker\":{\"color\":\"#636efa\",\"pattern\":{\"shape\":\"\"}},\"name\":\"\",\"offsetgroup\":\"\",\"orientation\":\"v\",\"showlegend\":false,\"x\":[\"High\",\"High\",\"High\",\"High\",\"High\",\"High\",\"High\",\"High\",\"High\",\"High\",\"High\",\"High\",\"High\",\"High\",\"Medium\",\"Medium\",\"Medium\",\"Medium\",\"Medium\",\"Medium\",\"Medium\",\"Medium\",\"Medium\",\"Medium\",\"Medium\",\"Medium\",\"Medium\",\"Medium\",\"Low\",\"Low\",\"Low\",\"Low\",\"Low\",\"Low\",\"Low\",\"Low\",\"Low\",\"Low\",\"Low\",\"High\",\"High\",\"High\",\"High\",\"High\",\"High\",\"High\",\"High\",\"High\",\"High\",\"High\",\"High\",\"High\",\"High\",\"Medium\",\"Medium\",\"Medium\",\"Medium\",\"Medium\",\"Medium\",\"Medium\",\"Medium\",\"Medium\",\"Medium\",\"Medium\",\"Medium\",\"Medium\",\"Medium\",\"Low\",\"Low\",\"Low\",\"Low\",\"Low\",\"Low\",\"Low\",\"Low\",\"Low\",\"Low\",\"Low\",\"High\",\"High\",\"High\",\"High\",\"High\",\"High\",\"High\",\"High\",\"High\",\"High\",\"High\",\"High\",\"High\",\"High\",\"High\",\"High\",\"High\",\"Medium\",\"Medium\",\"Medium\",\"Medium\",\"Medium\",\"Medium\",\"Medium\",\"Medium\",\"Medium\",\"Medium\",\"Medium\",\"Medium\",\"Low\",\"Low\",\"Low\",\"Low\",\"Low\",\"Low\",\"Low\",\"Low\",\"Low\",\"Low\",\"Low\",\"Low\",\"Low\",\"Low\",\"High\",\"High\",\"High\",\"High\",\"High\",\"High\",\"High\",\"Medium\",\"Medium\",\"Medium\",\"Medium\",\"Medium\",\"Medium\",\"Medium\",\"Medium\",\"Medium\",\"Medium\",\"Low\",\"Low\",\"Low\",\"Low\",\"Low\",\"Low\",\"Low\",\"Low\",\"Low\",\"Low\",\"Low\",\"Low\",\"Low\"],\"xaxis\":\"x\",\"y\":[3,3,3,2,11,3,5,3,3,3,22,1,21,17,17,17,11,3,3,25,7,7,9,15,13,11,3,15,2,3,1,5,1,3,2,8,16,2,15,3,3,3,2,11,3,5,3,3,3,22,1,21,17,17,17,11,3,3,25,7,7,9,15,13,11,3,15,2,3,1,5,1,3,2,8,16,2,15,3,3,19,2,3,21,3,11,3,3,3,22,17,5,25,17,15,8,16,13,2,1,17,3,3,17,3,2,3,2,3,1,3,11,15,3,7,7,1,3,9,1,2,14,6,3,15,1,3,2,1,12,15,18,23,26,24,8,6,1,11,3,3,18,20,2,4,3,2,3,7,1,10],\"yaxis\":\"y\",\"type\":\"histogram\"}],                        {\"template\":{\"data\":{\"histogram2dcontour\":[{\"type\":\"histogram2dcontour\",\"colorbar\":{\"outlinewidth\":0,\"ticks\":\"\"},\"colorscale\":[[0.0,\"#0d0887\"],[0.1111111111111111,\"#46039f\"],[0.2222222222222222,\"#7201a8\"],[0.3333333333333333,\"#9c179e\"],[0.4444444444444444,\"#bd3786\"],[0.5555555555555556,\"#d8576b\"],[0.6666666666666666,\"#ed7953\"],[0.7777777777777778,\"#fb9f3a\"],[0.8888888888888888,\"#fdca26\"],[1.0,\"#f0f921\"]]}],\"choropleth\":[{\"type\":\"choropleth\",\"colorbar\":{\"outlinewidth\":0,\"ticks\":\"\"}}],\"histogram2d\":[{\"type\":\"histogram2d\",\"colorbar\":{\"outlinewidth\":0,\"ticks\":\"\"},\"colorscale\":[[0.0,\"#0d0887\"],[0.1111111111111111,\"#46039f\"],[0.2222222222222222,\"#7201a8\"],[0.3333333333333333,\"#9c179e\"],[0.4444444444444444,\"#bd3786\"],[0.5555555555555556,\"#d8576b\"],[0.6666666666666666,\"#ed7953\"],[0.7777777777777778,\"#fb9f3a\"],[0.8888888888888888,\"#fdca26\"],[1.0,\"#f0f921\"]]}],\"heatmap\":[{\"type\":\"heatmap\",\"colorbar\":{\"outlinewidth\":0,\"ticks\":\"\"},\"colorscale\":[[0.0,\"#0d0887\"],[0.1111111111111111,\"#46039f\"],[0.2222222222222222,\"#7201a8\"],[0.3333333333333333,\"#9c179e\"],[0.4444444444444444,\"#bd3786\"],[0.5555555555555556,\"#d8576b\"],[0.6666666666666666,\"#ed7953\"],[0.7777777777777778,\"#fb9f3a\"],[0.8888888888888888,\"#fdca26\"],[1.0,\"#f0f921\"]]}],\"heatmapgl\":[{\"type\":\"heatmapgl\",\"colorbar\":{\"outlinewidth\":0,\"ticks\":\"\"},\"colorscale\":[[0.0,\"#0d0887\"],[0.1111111111111111,\"#46039f\"],[0.2222222222222222,\"#7201a8\"],[0.3333333333333333,\"#9c179e\"],[0.4444444444444444,\"#bd3786\"],[0.5555555555555556,\"#d8576b\"],[0.6666666666666666,\"#ed7953\"],[0.7777777777777778,\"#fb9f3a\"],[0.8888888888888888,\"#fdca26\"],[1.0,\"#f0f921\"]]}],\"contourcarpet\":[{\"type\":\"contourcarpet\",\"colorbar\":{\"outlinewidth\":0,\"ticks\":\"\"}}],\"contour\":[{\"type\":\"contour\",\"colorbar\":{\"outlinewidth\":0,\"ticks\":\"\"},\"colorscale\":[[0.0,\"#0d0887\"],[0.1111111111111111,\"#46039f\"],[0.2222222222222222,\"#7201a8\"],[0.3333333333333333,\"#9c179e\"],[0.4444444444444444,\"#bd3786\"],[0.5555555555555556,\"#d8576b\"],[0.6666666666666666,\"#ed7953\"],[0.7777777777777778,\"#fb9f3a\"],[0.8888888888888888,\"#fdca26\"],[1.0,\"#f0f921\"]]}],\"surface\":[{\"type\":\"surface\",\"colorbar\":{\"outlinewidth\":0,\"ticks\":\"\"},\"colorscale\":[[0.0,\"#0d0887\"],[0.1111111111111111,\"#46039f\"],[0.2222222222222222,\"#7201a8\"],[0.3333333333333333,\"#9c179e\"],[0.4444444444444444,\"#bd3786\"],[0.5555555555555556,\"#d8576b\"],[0.6666666666666666,\"#ed7953\"],[0.7777777777777778,\"#fb9f3a\"],[0.8888888888888888,\"#fdca26\"],[1.0,\"#f0f921\"]]}],\"mesh3d\":[{\"type\":\"mesh3d\",\"colorbar\":{\"outlinewidth\":0,\"ticks\":\"\"}}],\"scatter\":[{\"fillpattern\":{\"fillmode\":\"overlay\",\"size\":10,\"solidity\":0.2},\"type\":\"scatter\"}],\"parcoords\":[{\"type\":\"parcoords\",\"line\":{\"colorbar\":{\"outlinewidth\":0,\"ticks\":\"\"}}}],\"scatterpolargl\":[{\"type\":\"scatterpolargl\",\"marker\":{\"colorbar\":{\"outlinewidth\":0,\"ticks\":\"\"}}}],\"bar\":[{\"error_x\":{\"color\":\"#2a3f5f\"},\"error_y\":{\"color\":\"#2a3f5f\"},\"marker\":{\"line\":{\"color\":\"#E5ECF6\",\"width\":0.5},\"pattern\":{\"fillmode\":\"overlay\",\"size\":10,\"solidity\":0.2}},\"type\":\"bar\"}],\"scattergeo\":[{\"type\":\"scattergeo\",\"marker\":{\"colorbar\":{\"outlinewidth\":0,\"ticks\":\"\"}}}],\"scatterpolar\":[{\"type\":\"scatterpolar\",\"marker\":{\"colorbar\":{\"outlinewidth\":0,\"ticks\":\"\"}}}],\"histogram\":[{\"marker\":{\"pattern\":{\"fillmode\":\"overlay\",\"size\":10,\"solidity\":0.2}},\"type\":\"histogram\"}],\"scattergl\":[{\"type\":\"scattergl\",\"marker\":{\"colorbar\":{\"outlinewidth\":0,\"ticks\":\"\"}}}],\"scatter3d\":[{\"type\":\"scatter3d\",\"line\":{\"colorbar\":{\"outlinewidth\":0,\"ticks\":\"\"}},\"marker\":{\"colorbar\":{\"outlinewidth\":0,\"ticks\":\"\"}}}],\"scattermapbox\":[{\"type\":\"scattermapbox\",\"marker\":{\"colorbar\":{\"outlinewidth\":0,\"ticks\":\"\"}}}],\"scatterternary\":[{\"type\":\"scatterternary\",\"marker\":{\"colorbar\":{\"outlinewidth\":0,\"ticks\":\"\"}}}],\"scattercarpet\":[{\"type\":\"scattercarpet\",\"marker\":{\"colorbar\":{\"outlinewidth\":0,\"ticks\":\"\"}}}],\"carpet\":[{\"aaxis\":{\"endlinecolor\":\"#2a3f5f\",\"gridcolor\":\"white\",\"linecolor\":\"white\",\"minorgridcolor\":\"white\",\"startlinecolor\":\"#2a3f5f\"},\"baxis\":{\"endlinecolor\":\"#2a3f5f\",\"gridcolor\":\"white\",\"linecolor\":\"white\",\"minorgridcolor\":\"white\",\"startlinecolor\":\"#2a3f5f\"},\"type\":\"carpet\"}],\"table\":[{\"cells\":{\"fill\":{\"color\":\"#EBF0F8\"},\"line\":{\"color\":\"white\"}},\"header\":{\"fill\":{\"color\":\"#C8D4E3\"},\"line\":{\"color\":\"white\"}},\"type\":\"table\"}],\"barpolar\":[{\"marker\":{\"line\":{\"color\":\"#E5ECF6\",\"width\":0.5},\"pattern\":{\"fillmode\":\"overlay\",\"size\":10,\"solidity\":0.2}},\"type\":\"barpolar\"}],\"pie\":[{\"automargin\":true,\"type\":\"pie\"}]},\"layout\":{\"autotypenumbers\":\"strict\",\"colorway\":[\"#636efa\",\"#EF553B\",\"#00cc96\",\"#ab63fa\",\"#FFA15A\",\"#19d3f3\",\"#FF6692\",\"#B6E880\",\"#FF97FF\",\"#FECB52\"],\"font\":{\"color\":\"#2a3f5f\"},\"hovermode\":\"closest\",\"hoverlabel\":{\"align\":\"left\"},\"paper_bgcolor\":\"white\",\"plot_bgcolor\":\"#E5ECF6\",\"polar\":{\"bgcolor\":\"#E5ECF6\",\"angularaxis\":{\"gridcolor\":\"white\",\"linecolor\":\"white\",\"ticks\":\"\"},\"radialaxis\":{\"gridcolor\":\"white\",\"linecolor\":\"white\",\"ticks\":\"\"}},\"ternary\":{\"bgcolor\":\"#E5ECF6\",\"aaxis\":{\"gridcolor\":\"white\",\"linecolor\":\"white\",\"ticks\":\"\"},\"baxis\":{\"gridcolor\":\"white\",\"linecolor\":\"white\",\"ticks\":\"\"},\"caxis\":{\"gridcolor\":\"white\",\"linecolor\":\"white\",\"ticks\":\"\"}},\"coloraxis\":{\"colorbar\":{\"outlinewidth\":0,\"ticks\":\"\"}},\"colorscale\":{\"sequential\":[[0.0,\"#0d0887\"],[0.1111111111111111,\"#46039f\"],[0.2222222222222222,\"#7201a8\"],[0.3333333333333333,\"#9c179e\"],[0.4444444444444444,\"#bd3786\"],[0.5555555555555556,\"#d8576b\"],[0.6666666666666666,\"#ed7953\"],[0.7777777777777778,\"#fb9f3a\"],[0.8888888888888888,\"#fdca26\"],[1.0,\"#f0f921\"]],\"sequentialminus\":[[0.0,\"#0d0887\"],[0.1111111111111111,\"#46039f\"],[0.2222222222222222,\"#7201a8\"],[0.3333333333333333,\"#9c179e\"],[0.4444444444444444,\"#bd3786\"],[0.5555555555555556,\"#d8576b\"],[0.6666666666666666,\"#ed7953\"],[0.7777777777777778,\"#fb9f3a\"],[0.8888888888888888,\"#fdca26\"],[1.0,\"#f0f921\"]],\"diverging\":[[0,\"#8e0152\"],[0.1,\"#c51b7d\"],[0.2,\"#de77ae\"],[0.3,\"#f1b6da\"],[0.4,\"#fde0ef\"],[0.5,\"#f7f7f7\"],[0.6,\"#e6f5d0\"],[0.7,\"#b8e186\"],[0.8,\"#7fbc41\"],[0.9,\"#4d9221\"],[1,\"#276419\"]]},\"xaxis\":{\"gridcolor\":\"white\",\"linecolor\":\"white\",\"ticks\":\"\",\"title\":{\"standoff\":15},\"zerolinecolor\":\"white\",\"automargin\":true,\"zerolinewidth\":2},\"yaxis\":{\"gridcolor\":\"white\",\"linecolor\":\"white\",\"ticks\":\"\",\"title\":{\"standoff\":15},\"zerolinecolor\":\"white\",\"automargin\":true,\"zerolinewidth\":2},\"scene\":{\"xaxis\":{\"backgroundcolor\":\"#E5ECF6\",\"gridcolor\":\"white\",\"linecolor\":\"white\",\"showbackground\":true,\"ticks\":\"\",\"zerolinecolor\":\"white\",\"gridwidth\":2},\"yaxis\":{\"backgroundcolor\":\"#E5ECF6\",\"gridcolor\":\"white\",\"linecolor\":\"white\",\"showbackground\":true,\"ticks\":\"\",\"zerolinecolor\":\"white\",\"gridwidth\":2},\"zaxis\":{\"backgroundcolor\":\"#E5ECF6\",\"gridcolor\":\"white\",\"linecolor\":\"white\",\"showbackground\":true,\"ticks\":\"\",\"zerolinecolor\":\"white\",\"gridwidth\":2}},\"shapedefaults\":{\"line\":{\"color\":\"#2a3f5f\"}},\"annotationdefaults\":{\"arrowcolor\":\"#2a3f5f\",\"arrowhead\":0,\"arrowwidth\":1},\"geo\":{\"bgcolor\":\"white\",\"landcolor\":\"#E5ECF6\",\"subunitcolor\":\"white\",\"showland\":true,\"showlakes\":true,\"lakecolor\":\"white\"},\"title\":{\"x\":0.05},\"mapbox\":{\"style\":\"light\"}}},\"xaxis\":{\"anchor\":\"y\",\"domain\":[0.0,1.0],\"title\":{\"text\":\"attribute\"}},\"yaxis\":{\"anchor\":\"x\",\"domain\":[0.0,1.0],\"title\":{\"text\":\"sum of course\"}},\"legend\":{\"tracegroupgap\":0},\"margin\":{\"t\":60},\"barmode\":\"relative\"},                        {\"responsive\": true}                    ).then(function(){\n",
              "                            \n",
              "var gd = document.getElementById('5ff546ca-778a-4dca-a06b-3082b962dc2c');\n",
              "var x = new MutationObserver(function (mutations, observer) {{\n",
              "        var display = window.getComputedStyle(gd).display;\n",
              "        if (!display || display === 'none') {{\n",
              "            console.log([gd, 'removed!']);\n",
              "            Plotly.purge(gd);\n",
              "            observer.disconnect();\n",
              "        }}\n",
              "}});\n",
              "\n",
              "// Listen for the removal of the full notebook cells\n",
              "var notebookContainer = gd.closest('#notebook-container');\n",
              "if (notebookContainer) {{\n",
              "    x.observe(notebookContainer, {childList: true});\n",
              "}}\n",
              "\n",
              "// Listen for the clearing of the current output cell\n",
              "var outputEl = gd.closest('.output');\n",
              "if (outputEl) {{\n",
              "    x.observe(outputEl, {childList: true});\n",
              "}}\n",
              "\n",
              "                        })                };                            </script>        </div>\n",
              "</body>\n",
              "</html>"
            ]
          },
          "metadata": {}
        }
      ]
    },
    {
      "cell_type": "markdown",
      "source": [
        "### Data Preprocessing"
      ],
      "metadata": {
        "id": "2wCXUR_6CWIe"
      }
    },
    {
      "cell_type": "code",
      "source": [
        "#outlier detection\n",
        "df.boxplot()"
      ],
      "metadata": {
        "colab": {
          "base_uri": "https://localhost:8080/",
          "height": 447
        },
        "id": "77tDtT_6Z12J",
        "outputId": "308c119c-9b04-48bb-94a7-95763ed8db3f"
      },
      "execution_count": null,
      "outputs": [
        {
          "output_type": "execute_result",
          "data": {
            "text/plain": [
              "<Axes: >"
            ]
          },
          "metadata": {},
          "execution_count": 79
        },
        {
          "output_type": "display_data",
          "data": {
            "text/plain": [
              "<Figure size 640x480 with 1 Axes>"
            ],
            "image/png": "[encoded data removed]"
          },
          "metadata": {}
        }
      ]
    },
    {
      "cell_type": "code",
      "source": [
        "df.isnull().sum()"
      ],
      "metadata": {
        "colab": {
          "base_uri": "https://localhost:8080/",
          "height": 272
        },
        "id": "4oqMK6eXCchx",
        "outputId": "6626b855-c68a-410d-b4cc-827295701c87"
      },
      "execution_count": null,
      "outputs": [
        {
          "output_type": "execute_result",
          "data": {
            "text/plain": [
              "speaker       0\n",
              "instructor    0\n",
              "course        0\n",
              "semester      0\n",
              "class_size    0\n",
              "attribute     0\n",
              "dtype: int64"
            ],
            "text/html": [
              "<div>\n",
              "<style scoped>\n",
              "    .dataframe tbody tr th:only-of-type {\n",
              "        vertical-align: middle;\n",
              "    }\n",
              "\n",
              "    .dataframe tbody tr th {\n",
              "        vertical-align: top;\n",
              "    }\n",
              "\n",
              "    .dataframe thead th {\n",
              "        text-align: right;\n",
              "    }\n",
              "</style>\n",
              "<table border=\"1\" class=\"dataframe\">\n",
              "  <thead>\n",
              "    <tr style=\"text-align: right;\">\n",
              "      <th></th>\n",
              "      <th>0</th>\n",
              "    </tr>\n",
              "  </thead>\n",
              "  <tbody>\n",
              "    <tr>\n",
              "      <th>speaker</th>\n",
              "      <td>0</td>\n",
              "    </tr>\n",
              "    <tr>\n",
              "      <th>instructor</th>\n",
              "      <td>0</td>\n",
              "    </tr>\n",
              "    <tr>\n",
              "      <th>course</th>\n",
              "      <td>0</td>\n",
              "    </tr>\n",
              "    <tr>\n",
              "      <th>semester</th>\n",
              "      <td>0</td>\n",
              "    </tr>\n",
              "    <tr>\n",
              "      <th>class_size</th>\n",
              "      <td>0</td>\n",
              "    </tr>\n",
              "    <tr>\n",
              "      <th>attribute</th>\n",
              "      <td>0</td>\n",
              "    </tr>\n",
              "  </tbody>\n",
              "</table>\n",
              "</div><br><label><b>dtype:</b> int64</label>"
            ]
          },
          "metadata": {},
          "execution_count": 89
        }
      ]
    },
    {
      "cell_type": "code",
      "source": [
        "df.duplicated().sum()"
      ],
      "metadata": {
        "colab": {
          "base_uri": "https://localhost:8080/"
        },
        "id": "GplKNlFLCggF",
        "outputId": "baea0592-1d41-48cc-97df-67701a819ce1"
      },
      "execution_count": null,
      "outputs": [
        {
          "output_type": "execute_result",
          "data": {
            "text/plain": [
              "41"
            ]
          },
          "metadata": {},
          "execution_count": 140
        }
      ]
    },
    {
      "cell_type": "code",
      "source": [
        "df.drop_duplicates(inplace=True)"
      ],
      "metadata": {
        "id": "UNf95HnsC1Dr"
      },
      "execution_count": null,
      "outputs": []
    },
    {
      "cell_type": "markdown",
      "source": [
        "### Model Training"
      ],
      "metadata": {
        "id": "6CCqA1rEaplD"
      }
    },
    {
      "cell_type": "code",
      "source": [
        "data=df.drop('attribute',axis=1)"
      ],
      "metadata": {
        "id": "kbZvR48tsvuB"
      },
      "execution_count": null,
      "outputs": []
    },
    {
      "cell_type": "code",
      "source": [
        "# Scaling :- MinMaxScaler\n",
        "from sklearn.preprocessing import MinMaxScaler\n",
        "sc= MinMaxScaler()\n",
        "data= sc.fit_transform(data)\n"
      ],
      "metadata": {
        "id": "k6kgx4WrpS3Y"
      },
      "execution_count": null,
      "outputs": []
    },
    {
      "cell_type": "code",
      "source": [
        "data=pd.DataFrame(data)\n",
        "data.head()"
      ],
      "metadata": {
        "colab": {
          "base_uri": "https://localhost:8080/",
          "height": 206
        },
        "id": "wUD0tuhapzLx",
        "outputId": "8147178a-1578-4949-89a7-2a9a6eeb470a"
      },
      "execution_count": null,
      "outputs": [
        {
          "output_type": "execute_result",
          "data": {
            "text/plain": [
              "     0         1     2    3         4\n",
              "0  0.0  0.916667  0.08  0.0  0.253968\n",
              "1  1.0  0.583333  0.08  0.0  0.222222\n",
              "2  0.0  0.916667  0.08  1.0  0.730159\n",
              "3  0.0  0.166667  0.04  1.0  0.476190\n",
              "4  1.0  0.250000  0.40  1.0  0.825397"
            ],
            "text/html": [
              "\n",
              "  <div id=\"df-2d2fce6e-7754-4516-a283-edec0c4ceda6\" class=\"colab-df-container\">\n",
              "    <div>\n",
              "<style scoped>\n",
              "    .dataframe tbody tr th:only-of-type {\n",
              "        vertical-align: middle;\n",
              "    }\n",
              "\n",
              "    .dataframe tbody tr th {\n",
              "        vertical-align: top;\n",
              "    }\n",
              "\n",
              "    .dataframe thead th {\n",
              "        text-align: right;\n",
              "    }\n",
              "</style>\n",
              "<table border=\"1\" class=\"dataframe\">\n",
              "  <thead>\n",
              "    <tr style=\"text-align: right;\">\n",
              "      <th></th>\n",
              "      <th>0</th>\n",
              "      <th>1</th>\n",
              "      <th>2</th>\n",
              "      <th>3</th>\n",
              "      <th>4</th>\n",
              "    </tr>\n",
              "  </thead>\n",
              "  <tbody>\n",
              "    <tr>\n",
              "      <th>0</th>\n",
              "      <td>0.0</td>\n",
              "      <td>0.916667</td>\n",
              "      <td>0.08</td>\n",
              "      <td>0.0</td>\n",
              "      <td>0.253968</td>\n",
              "    </tr>\n",
              "    <tr>\n",
              "      <th>1</th>\n",
              "      <td>1.0</td>\n",
              "      <td>0.583333</td>\n",
              "      <td>0.08</td>\n",
              "      <td>0.0</td>\n",
              "      <td>0.222222</td>\n",
              "    </tr>\n",
              "    <tr>\n",
              "      <th>2</th>\n",
              "      <td>0.0</td>\n",
              "      <td>0.916667</td>\n",
              "      <td>0.08</td>\n",
              "      <td>1.0</td>\n",
              "      <td>0.730159</td>\n",
              "    </tr>\n",
              "    <tr>\n",
              "      <th>3</th>\n",
              "      <td>0.0</td>\n",
              "      <td>0.166667</td>\n",
              "      <td>0.04</td>\n",
              "      <td>1.0</td>\n",
              "      <td>0.476190</td>\n",
              "    </tr>\n",
              "    <tr>\n",
              "      <th>4</th>\n",
              "      <td>1.0</td>\n",
              "      <td>0.250000</td>\n",
              "      <td>0.40</td>\n",
              "      <td>1.0</td>\n",
              "      <td>0.825397</td>\n",
              "    </tr>\n",
              "  </tbody>\n",
              "</table>\n",
              "</div>\n",
              "    <div class=\"colab-df-buttons\">\n",
              "\n",
              "  <div class=\"colab-df-container\">\n",
              "    <button class=\"colab-df-convert\" onclick=\"convertToInteractive('df-2d2fce6e-7754-4516-a283-edec0c4ceda6')\"\n",
              "            title=\"Convert this dataframe to an interactive table.\"\n",
              "            style=\"display:none;\">\n",
              "\n",
              "  <svg xmlns=\"http://www.w3.org/2000/svg\" height=\"24px\" viewBox=\"0 -960 960 960\">\n",
              "    <path d=\"M120-120v-720h720v720H120Zm60-500h600v-160H180v160Zm220 220h160v-160H400v160Zm0 220h160v-160H400v160ZM180-400h160v-160H180v160Zm440 0h160v-160H620v160ZM180-180h160v-160H180v160Zm440 0h160v-160H620v160Z\"/>\n",
              "  </svg>\n",
              "    </button>\n",
              "\n",
              "  <style>\n",
              "    .colab-df-container {\n",
              "      display:flex;\n",
              "      gap: 12px;\n",
              "    }\n",
              "\n",
              "    .colab-df-convert {\n",
              "      background-color: #E8F0FE;\n",
              "      border: none;\n",
              "      border-radius: 50%;\n",
              "      cursor: pointer;\n",
              "      display: none;\n",
              "      fill: #1967D2;\n",
              "      height: 32px;\n",
              "      padding: 0 0 0 0;\n",
              "      width: 32px;\n",
              "    }\n",
              "\n",
              "    .colab-df-convert:hover {\n",
              "      background-color: #E2EBFA;\n",
              "      box-shadow: 0px 1px 2px rgba(60, 64, 67, 0.3), 0px 1px 3px 1px rgba(60, 64, 67, 0.15);\n",
              "      fill: #174EA6;\n",
              "    }\n",
              "\n",
              "    .colab-df-buttons div {\n",
              "      margin-bottom: 4px;\n",
              "    }\n",
              "\n",
              "    [theme=dark] .colab-df-convert {\n",
              "      background-color: #3B4455;\n",
              "      fill: #D2E3FC;\n",
              "    }\n",
              "\n",
              "    [theme=dark] .colab-df-convert:hover {\n",
              "      background-color: #434B5C;\n",
              "      box-shadow: 0px 1px 3px 1px rgba(0, 0, 0, 0.15);\n",
              "      filter: drop-shadow(0px 1px 2px rgba(0, 0, 0, 0.3));\n",
              "      fill: #FFFFFF;\n",
              "    }\n",
              "  </style>\n",
              "\n",
              "    <script>\n",
              "      const buttonEl =\n",
              "        document.querySelector('#df-2d2fce6e-7754-4516-a283-edec0c4ceda6 button.colab-df-convert');\n",
              "      buttonEl.style.display =\n",
              "        google.colab.kernel.accessAllowed ? 'block' : 'none';\n",
              "\n",
              "      async function convertToInteractive(key) {\n",
              "        const element = document.querySelector('#df-2d2fce6e-7754-4516-a283-edec0c4ceda6');\n",
              "        const dataTable =\n",
              "          await google.colab.kernel.invokeFunction('convertToInteractive',\n",
              "                                                    [key], {});\n",
              "        if (!dataTable) return;\n",
              "\n",
              "        const docLinkHtml = 'Like what you see? Visit the ' +\n",
              "          '<a target=\"_blank\" href=https://colab.research.google.com/notebooks/data_table.ipynb>data table notebook</a>'\n",
              "          + ' to learn more about interactive tables.';\n",
              "        element.innerHTML = '';\n",
              "        dataTable['output_type'] = 'display_data';\n",
              "        await google.colab.output.renderOutput(dataTable, element);\n",
              "        const docLink = document.createElement('div');\n",
              "        docLink.innerHTML = docLinkHtml;\n",
              "        element.appendChild(docLink);\n",
              "      }\n",
              "    </script>\n",
              "  </div>\n",
              "\n",
              "\n",
              "<div id=\"df-c42ee468-92a7-498a-81a8-18aa70d28ea9\">\n",
              "  <button class=\"colab-df-quickchart\" onclick=\"quickchart('df-c42ee468-92a7-498a-81a8-18aa70d28ea9')\"\n",
              "            title=\"Suggest charts\"\n",
              "            style=\"display:none;\">\n",
              "\n",
              "<svg xmlns=\"http://www.w3.org/2000/svg\" height=\"24px\"viewBox=\"0 0 24 24\"\n",
              "     width=\"24px\">\n",
              "    <g>\n",
              "        <path d=\"M19 3H5c-1.1 0-2 .9-2 2v14c0 1.1.9 2 2 2h14c1.1 0 2-.9 2-2V5c0-1.1-.9-2-2-2zM9 17H7v-7h2v7zm4 0h-2V7h2v10zm4 0h-2v-4h2v4z\"/>\n",
              "    </g>\n",
              "</svg>\n",
              "  </button>\n",
              "\n",
              "<style>\n",
              "  .colab-df-quickchart {\n",
              "      --bg-color: #E8F0FE;\n",
              "      --fill-color: #1967D2;\n",
              "      --hover-bg-color: #E2EBFA;\n",
              "      --hover-fill-color: #174EA6;\n",
              "      --disabled-fill-color: #AAA;\n",
              "      --disabled-bg-color: #DDD;\n",
              "  }\n",
              "\n",
              "  [theme=dark] .colab-df-quickchart {\n",
              "      --bg-color: #3B4455;\n",
              "      --fill-color: #D2E3FC;\n",
              "      --hover-bg-color: #434B5C;\n",
              "      --hover-fill-color: #FFFFFF;\n",
              "      --disabled-bg-color: #3B4455;\n",
              "      --disabled-fill-color: #666;\n",
              "  }\n",
              "\n",
              "  .colab-df-quickchart {\n",
              "    background-color: var(--bg-color);\n",
              "    border: none;\n",
              "    border-radius: 50%;\n",
              "    cursor: pointer;\n",
              "    display: none;\n",
              "    fill: var(--fill-color);\n",
              "    height: 32px;\n",
              "    padding: 0;\n",
              "    width: 32px;\n",
              "  }\n",
              "\n",
              "  .colab-df-quickchart:hover {\n",
              "    background-color: var(--hover-bg-color);\n",
              "    box-shadow: 0 1px 2px rgba(60, 64, 67, 0.3), 0 1px 3px 1px rgba(60, 64, 67, 0.15);\n",
              "    fill: var(--button-hover-fill-color);\n",
              "  }\n",
              "\n",
              "  .colab-df-quickchart-complete:disabled,\n",
              "  .colab-df-quickchart-complete:disabled:hover {\n",
              "    background-color: var(--disabled-bg-color);\n",
              "    fill: var(--disabled-fill-color);\n",
              "    box-shadow: none;\n",
              "  }\n",
              "\n",
              "  .colab-df-spinner {\n",
              "    border: 2px solid var(--fill-color);\n",
              "    border-color: transparent;\n",
              "    border-bottom-color: var(--fill-color);\n",
              "    animation:\n",
              "      spin 1s steps(1) infinite;\n",
              "  }\n",
              "\n",
              "  @keyframes spin {\n",
              "    0% {\n",
              "      border-color: transparent;\n",
              "      border-bottom-color: var(--fill-color);\n",
              "      border-left-color: var(--fill-color);\n",
              "    }\n",
              "    20% {\n",
              "      border-color: transparent;\n",
              "      border-left-color: var(--fill-color);\n",
              "      border-top-color: var(--fill-color);\n",
              "    }\n",
              "    30% {\n",
              "      border-color: transparent;\n",
              "      border-left-color: var(--fill-color);\n",
              "      border-top-color: var(--fill-color);\n",
              "      border-right-color: var(--fill-color);\n",
              "    }\n",
              "    40% {\n",
              "      border-color: transparent;\n",
              "      border-right-color: var(--fill-color);\n",
              "      border-top-color: var(--fill-color);\n",
              "    }\n",
              "    60% {\n",
              "      border-color: transparent;\n",
              "      border-right-color: var(--fill-color);\n",
              "    }\n",
              "    80% {\n",
              "      border-color: transparent;\n",
              "      border-right-color: var(--fill-color);\n",
              "      border-bottom-color: var(--fill-color);\n",
              "    }\n",
              "    90% {\n",
              "      border-color: transparent;\n",
              "      border-bottom-color: var(--fill-color);\n",
              "    }\n",
              "  }\n",
              "</style>\n",
              "\n",
              "  <script>\n",
              "    async function quickchart(key) {\n",
              "      const quickchartButtonEl =\n",
              "        document.querySelector('#' + key + ' button');\n",
              "      quickchartButtonEl.disabled = true;  // To prevent multiple clicks.\n",
              "      quickchartButtonEl.classList.add('colab-df-spinner');\n",
              "      try {\n",
              "        const charts = await google.colab.kernel.invokeFunction(\n",
              "            'suggestCharts', [key], {});\n",
              "      } catch (error) {\n",
              "        console.error('Error during call to suggestCharts:', error);\n",
              "      }\n",
              "      quickchartButtonEl.classList.remove('colab-df-spinner');\n",
              "      quickchartButtonEl.classList.add('colab-df-quickchart-complete');\n",
              "    }\n",
              "    (() => {\n",
              "      let quickchartButtonEl =\n",
              "        document.querySelector('#df-c42ee468-92a7-498a-81a8-18aa70d28ea9 button');\n",
              "      quickchartButtonEl.style.display =\n",
              "        google.colab.kernel.accessAllowed ? 'block' : 'none';\n",
              "    })();\n",
              "  </script>\n",
              "</div>\n",
              "\n",
              "    </div>\n",
              "  </div>\n"
            ],
            "application/vnd.google.colaboratory.intrinsic+json": {
              "type": "dataframe",
              "variable_name": "data",
              "summary": "{\n  \"name\": \"data\",\n  \"rows\": 110,\n  \"fields\": [\n    {\n      \"column\": 0,\n      \"properties\": {\n        \"dtype\": \"number\",\n        \"std\": 0.4209881540552881,\n        \"min\": 0.0,\n        \"max\": 1.0,\n        \"num_unique_values\": 2,\n        \"samples\": [\n          1.0,\n          0.0\n        ],\n        \"semantic_type\": \"\",\n        \"description\": \"\"\n      }\n    },\n    {\n      \"column\": 1,\n      \"properties\": {\n        \"dtype\": \"number\",\n        \"std\": 0.2825102211729438,\n        \"min\": 0.0,\n        \"max\": 0.9999999999999999,\n        \"num_unique_values\": 25,\n        \"samples\": [\n          0.7083333333333334,\n          0.41666666666666663\n        ],\n        \"semantic_type\": \"\",\n        \"description\": \"\"\n      }\n    },\n    {\n      \"column\": 2,\n      \"properties\": {\n        \"dtype\": \"number\",\n        \"std\": 0.2865466060949838,\n        \"min\": 0.0,\n        \"max\": 1.0,\n        \"num_unique_values\": 26,\n        \"samples\": [\n          0.96,\n          0.52\n        ],\n        \"semantic_type\": \"\",\n        \"description\": \"\"\n      }\n    },\n    {\n      \"column\": 3,\n      \"properties\": {\n        \"dtype\": \"number\",\n        \"std\": 0.34474489244568873,\n        \"min\": 0.0,\n        \"max\": 1.0,\n        \"num_unique_values\": 2,\n        \"samples\": [\n          1.0,\n          0.0\n        ],\n        \"semantic_type\": \"\",\n        \"description\": \"\"\n      }\n    },\n    {\n      \"column\": 4,\n      \"properties\": {\n        \"dtype\": \"number\",\n        \"std\": 0.20859562710766422,\n        \"min\": 0.0,\n        \"max\": 0.9999999999999998,\n        \"num_unique_values\": 46,\n        \"samples\": [\n          0.0,\n          0.5238095238095237\n        ],\n        \"semantic_type\": \"\",\n        \"description\": \"\"\n      }\n    }\n  ]\n}"
            }
          },
          "metadata": {},
          "execution_count": 144
        }
      ]
    },
    {
      "cell_type": "code",
      "source": [
        "x=data\n",
        "y=df['attribute']\n",
        "x_train,x_test,y_train,y_test=train_test_split(x,y,test_size=0.10,random_state=42)"
      ],
      "metadata": {
        "id": "L_ygCPouavag"
      },
      "execution_count": null,
      "outputs": []
    },
    {
      "cell_type": "markdown",
      "source": [
        "### Logistic Regression"
      ],
      "metadata": {
        "id": "xqYwOlIyC7_9"
      }
    },
    {
      "cell_type": "code",
      "source": [
        "clf=LogisticRegression()\n",
        "clf.fit(x_train,y_train)\n",
        "y_pred=clf.predict(x_test)"
      ],
      "metadata": {
        "id": "USIE4ARHbUjT"
      },
      "execution_count": null,
      "outputs": []
    },
    {
      "cell_type": "code",
      "source": [
        "print('Confusion_matrix',confusion_matrix(y_test,y_pred))\n",
        "print('Classification_report', classification_report(y_test,y_pred))\n",
        "print('Test Accuracy_score',accuracy_score(y_test,y_pred))"
      ],
      "metadata": {
        "colab": {
          "base_uri": "https://localhost:8080/"
        },
        "id": "t8DnYEw9bWoJ",
        "outputId": "747ac052-750c-41e2-c8ba-9f6b4dbdf759"
      },
      "execution_count": null,
      "outputs": [
        {
          "output_type": "stream",
          "name": "stdout",
          "text": [
            "Confusion_matrix [[4 0 0]\n",
            " [1 1 0]\n",
            " [2 2 1]]\n",
            "Classification_report               precision    recall  f1-score   support\n",
            "\n",
            "           1       0.57      1.00      0.73         4\n",
            "           2       0.33      0.50      0.40         2\n",
            "           3       1.00      0.20      0.33         5\n",
            "\n",
            "    accuracy                           0.55        11\n",
            "   macro avg       0.63      0.57      0.49        11\n",
            "weighted avg       0.72      0.55      0.49        11\n",
            "\n",
            "Test Accuracy_score 0.5454545454545454\n"
          ]
        }
      ]
    },
    {
      "cell_type": "code",
      "source": [
        "# training accuracy\n",
        "y_pred_train = clf.predict(x_train) # Predict labels for training data\n",
        "print('Train Accuracy',accuracy_score(y_train, y_pred_train)) # Calculate accuracy score with true and predicted labels"
      ],
      "metadata": {
        "colab": {
          "base_uri": "https://localhost:8080/"
        },
        "id": "XBEPqMWIbYhN",
        "outputId": "3255cff9-8ff8-4ff4-a44c-c286bcc4f988"
      },
      "execution_count": null,
      "outputs": [
        {
          "output_type": "stream",
          "name": "stdout",
          "text": [
            "Train Accuracy 0.5858585858585859\n"
          ]
        }
      ]
    },
    {
      "cell_type": "code",
      "source": [
        "#Balancing the data\n",
        "smote = SMOTE()\n",
        "x_smote , y_smote = smote.fit_resample(x_train,y_train)"
      ],
      "metadata": {
        "id": "0gZi2hX5cIKk"
      },
      "execution_count": null,
      "outputs": []
    },
    {
      "cell_type": "markdown",
      "source": [
        "### Support Vector classfication"
      ],
      "metadata": {
        "id": "4CCUeZbfDES4"
      }
    },
    {
      "cell_type": "code",
      "source": [
        "# Algorithm\n",
        "model = SVC()\n",
        "\n",
        "model.fit(x_smote, y_smote)\n",
        "\n",
        "y_pred_svc = model.predict(x_test)\n",
        "\n",
        "y_pred_train = model.predict(x_smote) # Predict labels for training data"
      ],
      "metadata": {
        "id": "BVkDYMDdcjME"
      },
      "execution_count": null,
      "outputs": []
    },
    {
      "cell_type": "code",
      "source": [
        "# training accuracy\n",
        "print('Train Accuracy',accuracy_score(y_smote, y_pred_train)) # Calculate accuracy score with true and predicted labels"
      ],
      "metadata": {
        "colab": {
          "base_uri": "https://localhost:8080/"
        },
        "id": "kKqNpVC-cmse",
        "outputId": "1a4c766d-3271-4ae6-f3be-977662816594"
      },
      "execution_count": null,
      "outputs": [
        {
          "output_type": "stream",
          "name": "stdout",
          "text": [
            "Train Accuracy 0.5588235294117647\n"
          ]
        }
      ]
    },
    {
      "cell_type": "code",
      "source": [
        "print('Confusion_matrix',confusion_matrix(y_test,y_pred_svc))\n",
        "print('Classification_report', classification_report(y_test,y_pred_svc))\n",
        "print('Test Accuracy_score',accuracy_score(y_test,y_pred_svc))\n"
      ],
      "metadata": {
        "colab": {
          "base_uri": "https://localhost:8080/"
        },
        "id": "RsRCf9thcoAW",
        "outputId": "436cc550-3558-4ee5-a393-36b13b9294d7"
      },
      "execution_count": null,
      "outputs": [
        {
          "output_type": "stream",
          "name": "stdout",
          "text": [
            "Confusion_matrix [[4 0 0]\n",
            " [1 1 0]\n",
            " [2 2 1]]\n",
            "Classification_report               precision    recall  f1-score   support\n",
            "\n",
            "           1       0.57      1.00      0.73         4\n",
            "           2       0.33      0.50      0.40         2\n",
            "           3       1.00      0.20      0.33         5\n",
            "\n",
            "    accuracy                           0.55        11\n",
            "   macro avg       0.63      0.57      0.49        11\n",
            "weighted avg       0.72      0.55      0.49        11\n",
            "\n",
            "Test Accuracy_score 0.5454545454545454\n"
          ]
        }
      ]
    },
    {
      "cell_type": "code",
      "source": [
        "\n",
        "cross_val = cross_val_score(model,x,y,cv=10,scoring = 'accuracy')\n",
        "cross_val"
      ],
      "metadata": {
        "colab": {
          "base_uri": "https://localhost:8080/"
        },
        "id": "McgnVtpfcp9f",
        "outputId": "f11535a6-541d-4245-bd58-ba361aec5d10"
      },
      "execution_count": null,
      "outputs": [
        {
          "output_type": "execute_result",
          "data": {
            "text/plain": [
              "array([0.63636364, 0.36363636, 0.54545455, 0.45454545, 0.36363636,\n",
              "       0.54545455, 0.54545455, 0.27272727, 0.54545455, 0.45454545])"
            ]
          },
          "metadata": {},
          "execution_count": 153
        }
      ]
    },
    {
      "cell_type": "code",
      "source": [
        "print('Cross validation score',cross_val.std())"
      ],
      "metadata": {
        "colab": {
          "base_uri": "https://localhost:8080/"
        },
        "id": "JBSKs-RUct7o",
        "outputId": "be995cab-b38a-4a9e-cad4-c8facf50c7e4"
      },
      "execution_count": null,
      "outputs": [
        {
          "output_type": "stream",
          "name": "stdout",
          "text": [
            "Cross validation score 0.10601730717900544\n"
          ]
        }
      ]
    },
    {
      "cell_type": "markdown",
      "source": [
        "### Decision Tree Classfication"
      ],
      "metadata": {
        "id": "E-pwu5MJDP4l"
      }
    },
    {
      "cell_type": "code",
      "source": [
        "#import the algoo\n",
        "from sklearn.tree import DecisionTreeClassifier\n",
        "\n",
        "#init\n",
        "model = DecisionTreeClassifier()\n",
        "\n",
        "#train\n",
        "model.fit(x_smote,y_smote)\n",
        "\n",
        "y_test_pred = model.predict(x_test)"
      ],
      "metadata": {
        "id": "wmKFvDMUcv9G"
      },
      "execution_count": null,
      "outputs": []
    },
    {
      "cell_type": "code",
      "source": [
        "print('Confusion_matrix',confusion_matrix(y_test,y_test_pred))\n",
        "print('Classification_report', classification_report(y_test,y_test_pred))\n",
        "print('Test Accuracy_score',accuracy_score(y_test,y_test_pred))"
      ],
      "metadata": {
        "colab": {
          "base_uri": "https://localhost:8080/"
        },
        "id": "8cKBFIbdcyUU",
        "outputId": "3f3d092f-98c2-4a12-88a9-42a8965aa548"
      },
      "execution_count": null,
      "outputs": [
        {
          "output_type": "stream",
          "name": "stdout",
          "text": [
            "Confusion_matrix [[3 0 1]\n",
            " [0 1 1]\n",
            " [1 2 2]]\n",
            "Classification_report               precision    recall  f1-score   support\n",
            "\n",
            "           1       0.75      0.75      0.75         4\n",
            "           2       0.33      0.50      0.40         2\n",
            "           3       0.50      0.40      0.44         5\n",
            "\n",
            "    accuracy                           0.55        11\n",
            "   macro avg       0.53      0.55      0.53        11\n",
            "weighted avg       0.56      0.55      0.55        11\n",
            "\n",
            "Test Accuracy_score 0.5454545454545454\n"
          ]
        }
      ]
    },
    {
      "cell_type": "code",
      "source": [
        "y_train_pred= model.predict(x_smote)\n",
        "print('Train Accuracy',accuracy_score(y_smote,y_train_pred))"
      ],
      "metadata": {
        "colab": {
          "base_uri": "https://localhost:8080/"
        },
        "id": "3HO5ZHENc0EL",
        "outputId": "52e7d43c-c4b6-466f-8c72-12d1e227489d"
      },
      "execution_count": null,
      "outputs": [
        {
          "output_type": "stream",
          "name": "stdout",
          "text": [
            "Train Accuracy 0.9607843137254902\n"
          ]
        }
      ]
    },
    {
      "cell_type": "markdown",
      "source": [
        "### Random Forest Classification"
      ],
      "metadata": {
        "id": "5ZEdVWXeDXJq"
      }
    },
    {
      "cell_type": "code",
      "source": [
        "from sklearn.ensemble import RandomForestClassifier\n",
        "\n",
        "model_rf=RandomForestClassifier() # by default it is building 100 estimators\n",
        "\n",
        "model_rf.fit(x_smote,y_smote)\n",
        "\n",
        "y_pred_rf = model_rf.predict(x_test)"
      ],
      "metadata": {
        "id": "CPWlufyYc4HQ"
      },
      "execution_count": null,
      "outputs": []
    },
    {
      "cell_type": "code",
      "source": [
        "#print('Confusion_matrix',confusion_matrix(y_test,y_pred_rf))\n",
        "print('Classification_report', classification_report(y_test,y_pred_rf))\n",
        "print('Test Accuracy_score',accuracy_score(y_test,y_pred_rf))"
      ],
      "metadata": {
        "colab": {
          "base_uri": "https://localhost:8080/"
        },
        "id": "rnrcRh8tc7TP",
        "outputId": "dfd07bc9-266a-4ddf-f8a3-7efe6365f0de"
      },
      "execution_count": null,
      "outputs": [
        {
          "output_type": "stream",
          "name": "stdout",
          "text": [
            "Classification_report               precision    recall  f1-score   support\n",
            "\n",
            "           1       0.57      1.00      0.73         4\n",
            "           2       0.00      0.00      0.00         2\n",
            "           3       0.67      0.40      0.50         5\n",
            "\n",
            "    accuracy                           0.55        11\n",
            "   macro avg       0.41      0.47      0.41        11\n",
            "weighted avg       0.51      0.55      0.49        11\n",
            "\n",
            "Test Accuracy_score 0.5454545454545454\n"
          ]
        }
      ]
    },
    {
      "cell_type": "code",
      "source": [
        "from sklearn.metrics import confusion_matrix\n",
        "print('Confusion_matrix', confusion_matrix(y_test, y_pred_rf))"
      ],
      "metadata": {
        "colab": {
          "base_uri": "https://localhost:8080/"
        },
        "id": "clN1eV9Jc8-_",
        "outputId": "c259e9cf-f458-4a54-c119-943dfa430fc2"
      },
      "execution_count": null,
      "outputs": [
        {
          "output_type": "stream",
          "name": "stdout",
          "text": [
            "Confusion_matrix [[4 0 0]\n",
            " [1 0 1]\n",
            " [2 1 2]]\n"
          ]
        }
      ]
    },
    {
      "cell_type": "code",
      "source": [
        "#traing presdiction\n",
        "y_train_pred_rf= model_rf.predict(x_smote)\n",
        "print('Train Accuracy',accuracy_score(y_smote,y_train_pred_rf))"
      ],
      "metadata": {
        "colab": {
          "base_uri": "https://localhost:8080/"
        },
        "id": "fIDWy_9CuHG5",
        "outputId": "ab10356c-1c5c-4c75-a67c-1414c1bcad26"
      },
      "execution_count": null,
      "outputs": [
        {
          "output_type": "stream",
          "name": "stdout",
          "text": [
            "Train Accuracy 0.9607843137254902\n"
          ]
        }
      ]
    },
    {
      "cell_type": "markdown",
      "source": [
        "### Hyperparameter Tuning for SVC model"
      ],
      "metadata": {
        "id": "bccwa01GDdM9"
      }
    },
    {
      "cell_type": "code",
      "source": [
        "param_grid = {'C':[50,60,70,80,90,100],\n",
        "              'gamma':[0.02,0.032,0.001,0.01,0.1,1],\n",
        "              'random_state':list(range(1,20))}"
      ],
      "metadata": {
        "id": "U3lyaV_QdA1K"
      },
      "execution_count": null,
      "outputs": []
    },
    {
      "cell_type": "code",
      "source": [
        "from sklearn.model_selection import GridSearchCV\n",
        "\n",
        "svc = SVC()\n",
        "\n",
        "grid = GridSearchCV(svc,param_grid,cv=5,scoring='accuracy')\n",
        "\n",
        "grid.fit(x,y)"
      ],
      "metadata": {
        "colab": {
          "base_uri": "https://localhost:8080/",
          "height": 116
        },
        "id": "1zdMil8pdF4Q",
        "outputId": "56cd5cb8-a3b7-45cc-c5bd-ac8fe87d5737"
      },
      "execution_count": null,
      "outputs": [
        {
          "output_type": "execute_result",
          "data": {
            "text/plain": [
              "GridSearchCV(cv=5, estimator=SVC(),\n",
              "             param_grid={'C': [50, 60, 70, 80, 90, 100],\n",
              "                         'gamma': [0.02, 0.032, 0.001, 0.01, 0.1, 1],\n",
              "                         'random_state': [1, 2, 3, 4, 5, 6, 7, 8, 9, 10, 11, 12,\n",
              "                                          13, 14, 15, 16, 17, 18, 19]},\n",
              "             scoring='accuracy')"
            ],
            "text/html": [
              "<style>#sk-container-id-13 {color: black;}#sk-container-id-13 pre{padding: 0;}#sk-container-id-13 div.sk-toggleable {background-color: white;}#sk-container-id-13 label.sk-toggleable__label {cursor: pointer;display: block;width: 100%;margin-bottom: 0;padding: 0.3em;box-sizing: border-box;text-align: center;}#sk-container-id-13 label.sk-toggleable__label-arrow:before {content: \"▸\";float: left;margin-right: 0.25em;color: #696969;}#sk-container-id-13 label.sk-toggleable__label-arrow:hover:before {color: black;}#sk-container-id-13 div.sk-estimator:hover label.sk-toggleable__label-arrow:before {color: black;}#sk-container-id-13 div.sk-toggleable__content {max-height: 0;max-width: 0;overflow: hidden;text-align: left;background-color: #f0f8ff;}#sk-container-id-13 div.sk-toggleable__content pre {margin: 0.2em;color: black;border-radius: 0.25em;background-color: #f0f8ff;}#sk-container-id-13 input.sk-toggleable__control:checked~div.sk-toggleable__content {max-height: 200px;max-width: 100%;overflow: auto;}#sk-container-id-13 input.sk-toggleable__control:checked~label.sk-toggleable__label-arrow:before {content: \"▾\";}#sk-container-id-13 div.sk-estimator input.sk-toggleable__control:checked~label.sk-toggleable__label {background-color: #d4ebff;}#sk-container-id-13 div.sk-label input.sk-toggleable__control:checked~label.sk-toggleable__label {background-color: #d4ebff;}#sk-container-id-13 input.sk-hidden--visually {border: 0;clip: rect(1px 1px 1px 1px);clip: rect(1px, 1px, 1px, 1px);height: 1px;margin: -1px;overflow: hidden;padding: 0;position: absolute;width: 1px;}#sk-container-id-13 div.sk-estimator {font-family: monospace;background-color: #f0f8ff;border: 1px dotted black;border-radius: 0.25em;box-sizing: border-box;margin-bottom: 0.5em;}#sk-container-id-13 div.sk-estimator:hover {background-color: #d4ebff;}#sk-container-id-13 div.sk-parallel-item::after {content: \"\";width: 100%;border-bottom: 1px solid gray;flex-grow: 1;}#sk-container-id-13 div.sk-label:hover label.sk-toggleable__label {background-color: #d4ebff;}#sk-container-id-13 div.sk-serial::before {content: \"\";position: absolute;border-left: 1px solid gray;box-sizing: border-box;top: 0;bottom: 0;left: 50%;z-index: 0;}#sk-container-id-13 div.sk-serial {display: flex;flex-direction: column;align-items: center;background-color: white;padding-right: 0.2em;padding-left: 0.2em;position: relative;}#sk-container-id-13 div.sk-item {position: relative;z-index: 1;}#sk-container-id-13 div.sk-parallel {display: flex;align-items: stretch;justify-content: center;background-color: white;position: relative;}#sk-container-id-13 div.sk-item::before, #sk-container-id-13 div.sk-parallel-item::before {content: \"\";position: absolute;border-left: 1px solid gray;box-sizing: border-box;top: 0;bottom: 0;left: 50%;z-index: -1;}#sk-container-id-13 div.sk-parallel-item {display: flex;flex-direction: column;z-index: 1;position: relative;background-color: white;}#sk-container-id-13 div.sk-parallel-item:first-child::after {align-self: flex-end;width: 50%;}#sk-container-id-13 div.sk-parallel-item:last-child::after {align-self: flex-start;width: 50%;}#sk-container-id-13 div.sk-parallel-item:only-child::after {width: 0;}#sk-container-id-13 div.sk-dashed-wrapped {border: 1px dashed gray;margin: 0 0.4em 0.5em 0.4em;box-sizing: border-box;padding-bottom: 0.4em;background-color: white;}#sk-container-id-13 div.sk-label label {font-family: monospace;font-weight: bold;display: inline-block;line-height: 1.2em;}#sk-container-id-13 div.sk-label-container {text-align: center;}#sk-container-id-13 div.sk-container {/* jupyter's `normalize.less` sets `[hidden] { display: none; }` but bootstrap.min.css set `[hidden] { display: none !important; }` so we also need the `!important` here to be able to override the default hidden behavior on the sphinx rendered scikit-learn.org. See: https://github.com/scikit-learn/scikit-learn/issues/21755 */display: inline-block !important;position: relative;}#sk-container-id-13 div.sk-text-repr-fallback {display: none;}</style><div id=\"sk-container-id-13\" class=\"sk-top-container\"><div class=\"sk-text-repr-fallback\"><pre>GridSearchCV(cv=5, estimator=SVC(),\n",
              "             param_grid={&#x27;C&#x27;: [50, 60, 70, 80, 90, 100],\n",
              "                         &#x27;gamma&#x27;: [0.02, 0.032, 0.001, 0.01, 0.1, 1],\n",
              "                         &#x27;random_state&#x27;: [1, 2, 3, 4, 5, 6, 7, 8, 9, 10, 11, 12,\n",
              "                                          13, 14, 15, 16, 17, 18, 19]},\n",
              "             scoring=&#x27;accuracy&#x27;)</pre><b>In a Jupyter environment, please rerun this cell to show the HTML representation or trust the notebook. <br />On GitHub, the HTML representation is unable to render, please try loading this page with nbviewer.org.</b></div><div class=\"sk-container\" hidden><div class=\"sk-item sk-dashed-wrapped\"><div class=\"sk-label-container\"><div class=\"sk-label sk-toggleable\"><input class=\"sk-toggleable__control sk-hidden--visually\" id=\"sk-estimator-id-25\" type=\"checkbox\" ><label for=\"sk-estimator-id-25\" class=\"sk-toggleable__label sk-toggleable__label-arrow\">GridSearchCV</label><div class=\"sk-toggleable__content\"><pre>GridSearchCV(cv=5, estimator=SVC(),\n",
              "             param_grid={&#x27;C&#x27;: [50, 60, 70, 80, 90, 100],\n",
              "                         &#x27;gamma&#x27;: [0.02, 0.032, 0.001, 0.01, 0.1, 1],\n",
              "                         &#x27;random_state&#x27;: [1, 2, 3, 4, 5, 6, 7, 8, 9, 10, 11, 12,\n",
              "                                          13, 14, 15, 16, 17, 18, 19]},\n",
              "             scoring=&#x27;accuracy&#x27;)</pre></div></div></div><div class=\"sk-parallel\"><div class=\"sk-parallel-item\"><div class=\"sk-item\"><div class=\"sk-label-container\"><div class=\"sk-label sk-toggleable\"><input class=\"sk-toggleable__control sk-hidden--visually\" id=\"sk-estimator-id-26\" type=\"checkbox\" ><label for=\"sk-estimator-id-26\" class=\"sk-toggleable__label sk-toggleable__label-arrow\">estimator: SVC</label><div class=\"sk-toggleable__content\"><pre>SVC()</pre></div></div></div><div class=\"sk-serial\"><div class=\"sk-item\"><div class=\"sk-estimator sk-toggleable\"><input class=\"sk-toggleable__control sk-hidden--visually\" id=\"sk-estimator-id-27\" type=\"checkbox\" ><label for=\"sk-estimator-id-27\" class=\"sk-toggleable__label sk-toggleable__label-arrow\">SVC</label><div class=\"sk-toggleable__content\"><pre>SVC()</pre></div></div></div></div></div></div></div></div></div></div>"
            ]
          },
          "metadata": {},
          "execution_count": 171
        }
      ]
    },
    {
      "cell_type": "code",
      "source": [
        "model1 = SVC(C=500,gamma=0.01,random_state=40)\n",
        "model1.fit(x_smote,y_smote)"
      ],
      "metadata": {
        "colab": {
          "base_uri": "https://localhost:8080/",
          "height": 74
        },
        "id": "qf15IDVedHYK",
        "outputId": "702b94d1-f4e3-4f3a-fa18-b814aed5c679"
      },
      "execution_count": null,
      "outputs": [
        {
          "output_type": "execute_result",
          "data": {
            "text/plain": [
              "SVC(C=500, gamma=0.01, random_state=40)"
            ],
            "text/html": [
              "<style>#sk-container-id-14 {color: black;}#sk-container-id-14 pre{padding: 0;}#sk-container-id-14 div.sk-toggleable {background-color: white;}#sk-container-id-14 label.sk-toggleable__label {cursor: pointer;display: block;width: 100%;margin-bottom: 0;padding: 0.3em;box-sizing: border-box;text-align: center;}#sk-container-id-14 label.sk-toggleable__label-arrow:before {content: \"▸\";float: left;margin-right: 0.25em;color: #696969;}#sk-container-id-14 label.sk-toggleable__label-arrow:hover:before {color: black;}#sk-container-id-14 div.sk-estimator:hover label.sk-toggleable__label-arrow:before {color: black;}#sk-container-id-14 div.sk-toggleable__content {max-height: 0;max-width: 0;overflow: hidden;text-align: left;background-color: #f0f8ff;}#sk-container-id-14 div.sk-toggleable__content pre {margin: 0.2em;color: black;border-radius: 0.25em;background-color: #f0f8ff;}#sk-container-id-14 input.sk-toggleable__control:checked~div.sk-toggleable__content {max-height: 200px;max-width: 100%;overflow: auto;}#sk-container-id-14 input.sk-toggleable__control:checked~label.sk-toggleable__label-arrow:before {content: \"▾\";}#sk-container-id-14 div.sk-estimator input.sk-toggleable__control:checked~label.sk-toggleable__label {background-color: #d4ebff;}#sk-container-id-14 div.sk-label input.sk-toggleable__control:checked~label.sk-toggleable__label {background-color: #d4ebff;}#sk-container-id-14 input.sk-hidden--visually {border: 0;clip: rect(1px 1px 1px 1px);clip: rect(1px, 1px, 1px, 1px);height: 1px;margin: -1px;overflow: hidden;padding: 0;position: absolute;width: 1px;}#sk-container-id-14 div.sk-estimator {font-family: monospace;background-color: #f0f8ff;border: 1px dotted black;border-radius: 0.25em;box-sizing: border-box;margin-bottom: 0.5em;}#sk-container-id-14 div.sk-estimator:hover {background-color: #d4ebff;}#sk-container-id-14 div.sk-parallel-item::after {content: \"\";width: 100%;border-bottom: 1px solid gray;flex-grow: 1;}#sk-container-id-14 div.sk-label:hover label.sk-toggleable__label {background-color: #d4ebff;}#sk-container-id-14 div.sk-serial::before {content: \"\";position: absolute;border-left: 1px solid gray;box-sizing: border-box;top: 0;bottom: 0;left: 50%;z-index: 0;}#sk-container-id-14 div.sk-serial {display: flex;flex-direction: column;align-items: center;background-color: white;padding-right: 0.2em;padding-left: 0.2em;position: relative;}#sk-container-id-14 div.sk-item {position: relative;z-index: 1;}#sk-container-id-14 div.sk-parallel {display: flex;align-items: stretch;justify-content: center;background-color: white;position: relative;}#sk-container-id-14 div.sk-item::before, #sk-container-id-14 div.sk-parallel-item::before {content: \"\";position: absolute;border-left: 1px solid gray;box-sizing: border-box;top: 0;bottom: 0;left: 50%;z-index: -1;}#sk-container-id-14 div.sk-parallel-item {display: flex;flex-direction: column;z-index: 1;position: relative;background-color: white;}#sk-container-id-14 div.sk-parallel-item:first-child::after {align-self: flex-end;width: 50%;}#sk-container-id-14 div.sk-parallel-item:last-child::after {align-self: flex-start;width: 50%;}#sk-container-id-14 div.sk-parallel-item:only-child::after {width: 0;}#sk-container-id-14 div.sk-dashed-wrapped {border: 1px dashed gray;margin: 0 0.4em 0.5em 0.4em;box-sizing: border-box;padding-bottom: 0.4em;background-color: white;}#sk-container-id-14 div.sk-label label {font-family: monospace;font-weight: bold;display: inline-block;line-height: 1.2em;}#sk-container-id-14 div.sk-label-container {text-align: center;}#sk-container-id-14 div.sk-container {/* jupyter's `normalize.less` sets `[hidden] { display: none; }` but bootstrap.min.css set `[hidden] { display: none !important; }` so we also need the `!important` here to be able to override the default hidden behavior on the sphinx rendered scikit-learn.org. See: https://github.com/scikit-learn/scikit-learn/issues/21755 */display: inline-block !important;position: relative;}#sk-container-id-14 div.sk-text-repr-fallback {display: none;}</style><div id=\"sk-container-id-14\" class=\"sk-top-container\"><div class=\"sk-text-repr-fallback\"><pre>SVC(C=500, gamma=0.01, random_state=40)</pre><b>In a Jupyter environment, please rerun this cell to show the HTML representation or trust the notebook. <br />On GitHub, the HTML representation is unable to render, please try loading this page with nbviewer.org.</b></div><div class=\"sk-container\" hidden><div class=\"sk-item\"><div class=\"sk-estimator sk-toggleable\"><input class=\"sk-toggleable__control sk-hidden--visually\" id=\"sk-estimator-id-28\" type=\"checkbox\" checked><label for=\"sk-estimator-id-28\" class=\"sk-toggleable__label sk-toggleable__label-arrow\">SVC</label><div class=\"sk-toggleable__content\"><pre>SVC(C=500, gamma=0.01, random_state=40)</pre></div></div></div></div></div>"
            ]
          },
          "metadata": {},
          "execution_count": 172
        }
      ]
    },
    {
      "cell_type": "code",
      "source": [
        "y_pred1 = model1.predict(x_test)"
      ],
      "metadata": {
        "id": "Hl6djLk7dK4W"
      },
      "execution_count": null,
      "outputs": []
    },
    {
      "cell_type": "code",
      "source": [
        "y_train_pred1 = model1.predict(x_smote)\n",
        "print('Train Accuracy',accuracy_score(y_smote,y_train_pred1))"
      ],
      "metadata": {
        "colab": {
          "base_uri": "https://localhost:8080/"
        },
        "id": "ccTRyVXwubPW",
        "outputId": "b372a7bc-04cc-48b6-8613-7316eabb612b"
      },
      "execution_count": null,
      "outputs": [
        {
          "output_type": "stream",
          "name": "stdout",
          "text": [
            "Train Accuracy 0.5392156862745098\n"
          ]
        }
      ]
    },
    {
      "cell_type": "code",
      "source": [
        "print('Testing Accuracy',accuracy_score(y_test,y_pred1))"
      ],
      "metadata": {
        "colab": {
          "base_uri": "https://localhost:8080/"
        },
        "id": "ndesU6UQdORF",
        "outputId": "9dd38045-e66a-4f2a-9e42-6c79ee165d6d"
      },
      "execution_count": null,
      "outputs": [
        {
          "output_type": "stream",
          "name": "stdout",
          "text": [
            "Testing Accuracy 0.5454545454545454\n"
          ]
        }
      ]
    },
    {
      "cell_type": "markdown",
      "source": [
        "### Bagging & Boosting"
      ],
      "metadata": {
        "id": "qFS-S2kwDjrO"
      }
    },
    {
      "cell_type": "code",
      "source": [
        "from sklearn.ensemble import BaggingClassifier\n",
        "bagging = BaggingClassifier()\n",
        "base_estimator = SVC()\n",
        "bagging_model = BaggingClassifier(base_estimator=base_estimator,n_estimators=100,bootstrap= True)\n",
        "bagging_model.fit(x_smote,y_smote)"
      ],
      "metadata": {
        "colab": {
          "base_uri": "https://localhost:8080/",
          "height": 116
        },
        "id": "zbxSIKA-dPz9",
        "outputId": "6eb3ab4c-25e4-44a8-cae5-626c103beebb"
      },
      "execution_count": null,
      "outputs": [
        {
          "output_type": "execute_result",
          "data": {
            "text/plain": [
              "BaggingClassifier(base_estimator=SVC(), n_estimators=100)"
            ],
            "text/html": [
              "<style>#sk-container-id-6 {color: black;}#sk-container-id-6 pre{padding: 0;}#sk-container-id-6 div.sk-toggleable {background-color: white;}#sk-container-id-6 label.sk-toggleable__label {cursor: pointer;display: block;width: 100%;margin-bottom: 0;padding: 0.3em;box-sizing: border-box;text-align: center;}#sk-container-id-6 label.sk-toggleable__label-arrow:before {content: \"▸\";float: left;margin-right: 0.25em;color: #696969;}#sk-container-id-6 label.sk-toggleable__label-arrow:hover:before {color: black;}#sk-container-id-6 div.sk-estimator:hover label.sk-toggleable__label-arrow:before {color: black;}#sk-container-id-6 div.sk-toggleable__content {max-height: 0;max-width: 0;overflow: hidden;text-align: left;background-color: #f0f8ff;}#sk-container-id-6 div.sk-toggleable__content pre {margin: 0.2em;color: black;border-radius: 0.25em;background-color: #f0f8ff;}#sk-container-id-6 input.sk-toggleable__control:checked~div.sk-toggleable__content {max-height: 200px;max-width: 100%;overflow: auto;}#sk-container-id-6 input.sk-toggleable__control:checked~label.sk-toggleable__label-arrow:before {content: \"▾\";}#sk-container-id-6 div.sk-estimator input.sk-toggleable__control:checked~label.sk-toggleable__label {background-color: #d4ebff;}#sk-container-id-6 div.sk-label input.sk-toggleable__control:checked~label.sk-toggleable__label {background-color: #d4ebff;}#sk-container-id-6 input.sk-hidden--visually {border: 0;clip: rect(1px 1px 1px 1px);clip: rect(1px, 1px, 1px, 1px);height: 1px;margin: -1px;overflow: hidden;padding: 0;position: absolute;width: 1px;}#sk-container-id-6 div.sk-estimator {font-family: monospace;background-color: #f0f8ff;border: 1px dotted black;border-radius: 0.25em;box-sizing: border-box;margin-bottom: 0.5em;}#sk-container-id-6 div.sk-estimator:hover {background-color: #d4ebff;}#sk-container-id-6 div.sk-parallel-item::after {content: \"\";width: 100%;border-bottom: 1px solid gray;flex-grow: 1;}#sk-container-id-6 div.sk-label:hover label.sk-toggleable__label {background-color: #d4ebff;}#sk-container-id-6 div.sk-serial::before {content: \"\";position: absolute;border-left: 1px solid gray;box-sizing: border-box;top: 0;bottom: 0;left: 50%;z-index: 0;}#sk-container-id-6 div.sk-serial {display: flex;flex-direction: column;align-items: center;background-color: white;padding-right: 0.2em;padding-left: 0.2em;position: relative;}#sk-container-id-6 div.sk-item {position: relative;z-index: 1;}#sk-container-id-6 div.sk-parallel {display: flex;align-items: stretch;justify-content: center;background-color: white;position: relative;}#sk-container-id-6 div.sk-item::before, #sk-container-id-6 div.sk-parallel-item::before {content: \"\";position: absolute;border-left: 1px solid gray;box-sizing: border-box;top: 0;bottom: 0;left: 50%;z-index: -1;}#sk-container-id-6 div.sk-parallel-item {display: flex;flex-direction: column;z-index: 1;position: relative;background-color: white;}#sk-container-id-6 div.sk-parallel-item:first-child::after {align-self: flex-end;width: 50%;}#sk-container-id-6 div.sk-parallel-item:last-child::after {align-self: flex-start;width: 50%;}#sk-container-id-6 div.sk-parallel-item:only-child::after {width: 0;}#sk-container-id-6 div.sk-dashed-wrapped {border: 1px dashed gray;margin: 0 0.4em 0.5em 0.4em;box-sizing: border-box;padding-bottom: 0.4em;background-color: white;}#sk-container-id-6 div.sk-label label {font-family: monospace;font-weight: bold;display: inline-block;line-height: 1.2em;}#sk-container-id-6 div.sk-label-container {text-align: center;}#sk-container-id-6 div.sk-container {/* jupyter's `normalize.less` sets `[hidden] { display: none; }` but bootstrap.min.css set `[hidden] { display: none !important; }` so we also need the `!important` here to be able to override the default hidden behavior on the sphinx rendered scikit-learn.org. See: https://github.com/scikit-learn/scikit-learn/issues/21755 */display: inline-block !important;position: relative;}#sk-container-id-6 div.sk-text-repr-fallback {display: none;}</style><div id=\"sk-container-id-6\" class=\"sk-top-container\"><div class=\"sk-text-repr-fallback\"><pre>BaggingClassifier(base_estimator=SVC(), n_estimators=100)</pre><b>In a Jupyter environment, please rerun this cell to show the HTML representation or trust the notebook. <br />On GitHub, the HTML representation is unable to render, please try loading this page with nbviewer.org.</b></div><div class=\"sk-container\" hidden><div class=\"sk-item sk-dashed-wrapped\"><div class=\"sk-label-container\"><div class=\"sk-label sk-toggleable\"><input class=\"sk-toggleable__control sk-hidden--visually\" id=\"sk-estimator-id-12\" type=\"checkbox\" ><label for=\"sk-estimator-id-12\" class=\"sk-toggleable__label sk-toggleable__label-arrow\">BaggingClassifier</label><div class=\"sk-toggleable__content\"><pre>BaggingClassifier(base_estimator=SVC(), n_estimators=100)</pre></div></div></div><div class=\"sk-parallel\"><div class=\"sk-parallel-item\"><div class=\"sk-item\"><div class=\"sk-label-container\"><div class=\"sk-label sk-toggleable\"><input class=\"sk-toggleable__control sk-hidden--visually\" id=\"sk-estimator-id-13\" type=\"checkbox\" ><label for=\"sk-estimator-id-13\" class=\"sk-toggleable__label sk-toggleable__label-arrow\">base_estimator: SVC</label><div class=\"sk-toggleable__content\"><pre>SVC()</pre></div></div></div><div class=\"sk-serial\"><div class=\"sk-item\"><div class=\"sk-estimator sk-toggleable\"><input class=\"sk-toggleable__control sk-hidden--visually\" id=\"sk-estimator-id-14\" type=\"checkbox\" ><label for=\"sk-estimator-id-14\" class=\"sk-toggleable__label sk-toggleable__label-arrow\">SVC</label><div class=\"sk-toggleable__content\"><pre>SVC()</pre></div></div></div></div></div></div></div></div></div></div>"
            ]
          },
          "metadata": {},
          "execution_count": 121
        }
      ]
    },
    {
      "cell_type": "code",
      "source": [
        "predic = bagging_model.predict(x_test)\n",
        "\n",
        "accuracy_score(y_test,predic)"
      ],
      "metadata": {
        "colab": {
          "base_uri": "https://localhost:8080/"
        },
        "id": "0Zg6bXkYdSgl",
        "outputId": "7507f7da-e883-45f0-d407-374103581142"
      },
      "execution_count": null,
      "outputs": [
        {
          "output_type": "execute_result",
          "data": {
            "text/plain": [
              "0.5454545454545454"
            ]
          },
          "metadata": {},
          "execution_count": 122
        }
      ]
    },
    {
      "cell_type": "code",
      "source": [
        "# Traing\n",
        "y_train_pred_bag = bagging_model.predict(x_train)\n",
        "print('Train Accuracy',accuracy_score(y_train,y_train_pred_bag))"
      ],
      "metadata": {
        "colab": {
          "base_uri": "https://localhost:8080/"
        },
        "id": "LrOOuf5lut3a",
        "outputId": "92c8c18c-7e49-449b-d626-407d4e512f7d"
      },
      "execution_count": null,
      "outputs": [
        {
          "output_type": "stream",
          "name": "stdout",
          "text": [
            "Train Accuracy 0.5656565656565656\n"
          ]
        }
      ]
    },
    {
      "cell_type": "code",
      "source": [
        "!pip install xgboost"
      ],
      "metadata": {
        "colab": {
          "base_uri": "https://localhost:8080/"
        },
        "id": "3ImSUgwhdUHV",
        "outputId": "c0d8d6a9-00b6-4192-ea01-636cb556b430"
      },
      "execution_count": null,
      "outputs": [
        {
          "output_type": "stream",
          "name": "stdout",
          "text": [
            "Requirement already satisfied: xgboost in /usr/local/lib/python3.10/dist-packages (2.1.1)\n",
            "Requirement already satisfied: numpy in /usr/local/lib/python3.10/dist-packages (from xgboost) (1.26.4)\n",
            "Requirement already satisfied: nvidia-nccl-cu12 in /usr/local/lib/python3.10/dist-packages (from xgboost) (2.22.3)\n",
            "Requirement already satisfied: scipy in /usr/local/lib/python3.10/dist-packages (from xgboost) (1.13.1)\n"
          ]
        }
      ]
    },
    {
      "cell_type": "code",
      "source": [
        "# Convert y_smote labels to integers\n",
        "y_smote = y_smote.astype(int)\n",
        "\n",
        "# Subtract 1 from y_smote to ensure labels start from 0\n",
        "y_smote = y_smote - 1\n",
        "\n",
        "xgb = XGBClassifier()\n",
        "xgb.fit(x_smote,y_smote)"
      ],
      "metadata": {
        "colab": {
          "base_uri": "https://localhost:8080/",
          "height": 248
        },
        "id": "VdKgKjPrdXG9",
        "outputId": "6bbee15a-2cf7-49bd-a075-038be6e8c214"
      },
      "execution_count": null,
      "outputs": [
        {
          "output_type": "execute_result",
          "data": {
            "text/plain": [
              "XGBClassifier(base_score=None, booster=None, callbacks=None,\n",
              "              colsample_bylevel=None, colsample_bynode=None,\n",
              "              colsample_bytree=None, device=None, early_stopping_rounds=None,\n",
              "              enable_categorical=False, eval_metric=None, feature_types=None,\n",
              "              gamma=None, grow_policy=None, importance_type=None,\n",
              "              interaction_constraints=None, learning_rate=None, max_bin=None,\n",
              "              max_cat_threshold=None, max_cat_to_onehot=None,\n",
              "              max_delta_step=None, max_depth=None, max_leaves=None,\n",
              "              min_child_weight=None, missing=nan, monotone_constraints=None,\n",
              "              multi_strategy=None, n_estimators=None, n_jobs=None,\n",
              "              num_parallel_tree=None, objective='multi:softprob', ...)"
            ],
            "text/html": [
              "<style>#sk-container-id-8 {color: black;}#sk-container-id-8 pre{padding: 0;}#sk-container-id-8 div.sk-toggleable {background-color: white;}#sk-container-id-8 label.sk-toggleable__label {cursor: pointer;display: block;width: 100%;margin-bottom: 0;padding: 0.3em;box-sizing: border-box;text-align: center;}#sk-container-id-8 label.sk-toggleable__label-arrow:before {content: \"▸\";float: left;margin-right: 0.25em;color: #696969;}#sk-container-id-8 label.sk-toggleable__label-arrow:hover:before {color: black;}#sk-container-id-8 div.sk-estimator:hover label.sk-toggleable__label-arrow:before {color: black;}#sk-container-id-8 div.sk-toggleable__content {max-height: 0;max-width: 0;overflow: hidden;text-align: left;background-color: #f0f8ff;}#sk-container-id-8 div.sk-toggleable__content pre {margin: 0.2em;color: black;border-radius: 0.25em;background-color: #f0f8ff;}#sk-container-id-8 input.sk-toggleable__control:checked~div.sk-toggleable__content {max-height: 200px;max-width: 100%;overflow: auto;}#sk-container-id-8 input.sk-toggleable__control:checked~label.sk-toggleable__label-arrow:before {content: \"▾\";}#sk-container-id-8 div.sk-estimator input.sk-toggleable__control:checked~label.sk-toggleable__label {background-color: #d4ebff;}#sk-container-id-8 div.sk-label input.sk-toggleable__control:checked~label.sk-toggleable__label {background-color: #d4ebff;}#sk-container-id-8 input.sk-hidden--visually {border: 0;clip: rect(1px 1px 1px 1px);clip: rect(1px, 1px, 1px, 1px);height: 1px;margin: -1px;overflow: hidden;padding: 0;position: absolute;width: 1px;}#sk-container-id-8 div.sk-estimator {font-family: monospace;background-color: #f0f8ff;border: 1px dotted black;border-radius: 0.25em;box-sizing: border-box;margin-bottom: 0.5em;}#sk-container-id-8 div.sk-estimator:hover {background-color: #d4ebff;}#sk-container-id-8 div.sk-parallel-item::after {content: \"\";width: 100%;border-bottom: 1px solid gray;flex-grow: 1;}#sk-container-id-8 div.sk-label:hover label.sk-toggleable__label {background-color: #d4ebff;}#sk-container-id-8 div.sk-serial::before {content: \"\";position: absolute;border-left: 1px solid gray;box-sizing: border-box;top: 0;bottom: 0;left: 50%;z-index: 0;}#sk-container-id-8 div.sk-serial {display: flex;flex-direction: column;align-items: center;background-color: white;padding-right: 0.2em;padding-left: 0.2em;position: relative;}#sk-container-id-8 div.sk-item {position: relative;z-index: 1;}#sk-container-id-8 div.sk-parallel {display: flex;align-items: stretch;justify-content: center;background-color: white;position: relative;}#sk-container-id-8 div.sk-item::before, #sk-container-id-8 div.sk-parallel-item::before {content: \"\";position: absolute;border-left: 1px solid gray;box-sizing: border-box;top: 0;bottom: 0;left: 50%;z-index: -1;}#sk-container-id-8 div.sk-parallel-item {display: flex;flex-direction: column;z-index: 1;position: relative;background-color: white;}#sk-container-id-8 div.sk-parallel-item:first-child::after {align-self: flex-end;width: 50%;}#sk-container-id-8 div.sk-parallel-item:last-child::after {align-self: flex-start;width: 50%;}#sk-container-id-8 div.sk-parallel-item:only-child::after {width: 0;}#sk-container-id-8 div.sk-dashed-wrapped {border: 1px dashed gray;margin: 0 0.4em 0.5em 0.4em;box-sizing: border-box;padding-bottom: 0.4em;background-color: white;}#sk-container-id-8 div.sk-label label {font-family: monospace;font-weight: bold;display: inline-block;line-height: 1.2em;}#sk-container-id-8 div.sk-label-container {text-align: center;}#sk-container-id-8 div.sk-container {/* jupyter's `normalize.less` sets `[hidden] { display: none; }` but bootstrap.min.css set `[hidden] { display: none !important; }` so we also need the `!important` here to be able to override the default hidden behavior on the sphinx rendered scikit-learn.org. See: https://github.com/scikit-learn/scikit-learn/issues/21755 */display: inline-block !important;position: relative;}#sk-container-id-8 div.sk-text-repr-fallback {display: none;}</style><div id=\"sk-container-id-8\" class=\"sk-top-container\"><div class=\"sk-text-repr-fallback\"><pre>XGBClassifier(base_score=None, booster=None, callbacks=None,\n",
              "              colsample_bylevel=None, colsample_bynode=None,\n",
              "              colsample_bytree=None, device=None, early_stopping_rounds=None,\n",
              "              enable_categorical=False, eval_metric=None, feature_types=None,\n",
              "              gamma=None, grow_policy=None, importance_type=None,\n",
              "              interaction_constraints=None, learning_rate=None, max_bin=None,\n",
              "              max_cat_threshold=None, max_cat_to_onehot=None,\n",
              "              max_delta_step=None, max_depth=None, max_leaves=None,\n",
              "              min_child_weight=None, missing=nan, monotone_constraints=None,\n",
              "              multi_strategy=None, n_estimators=None, n_jobs=None,\n",
              "              num_parallel_tree=None, objective=&#x27;multi:softprob&#x27;, ...)</pre><b>In a Jupyter environment, please rerun this cell to show the HTML representation or trust the notebook. <br />On GitHub, the HTML representation is unable to render, please try loading this page with nbviewer.org.</b></div><div class=\"sk-container\" hidden><div class=\"sk-item\"><div class=\"sk-estimator sk-toggleable\"><input class=\"sk-toggleable__control sk-hidden--visually\" id=\"sk-estimator-id-16\" type=\"checkbox\" checked><label for=\"sk-estimator-id-16\" class=\"sk-toggleable__label sk-toggleable__label-arrow\">XGBClassifier</label><div class=\"sk-toggleable__content\"><pre>XGBClassifier(base_score=None, booster=None, callbacks=None,\n",
              "              colsample_bylevel=None, colsample_bynode=None,\n",
              "              colsample_bytree=None, device=None, early_stopping_rounds=None,\n",
              "              enable_categorical=False, eval_metric=None, feature_types=None,\n",
              "              gamma=None, grow_policy=None, importance_type=None,\n",
              "              interaction_constraints=None, learning_rate=None, max_bin=None,\n",
              "              max_cat_threshold=None, max_cat_to_onehot=None,\n",
              "              max_delta_step=None, max_depth=None, max_leaves=None,\n",
              "              min_child_weight=None, missing=nan, monotone_constraints=None,\n",
              "              multi_strategy=None, n_estimators=None, n_jobs=None,\n",
              "              num_parallel_tree=None, objective=&#x27;multi:softprob&#x27;, ...)</pre></div></div></div></div></div>"
            ]
          },
          "metadata": {},
          "execution_count": 155
        }
      ]
    },
    {
      "cell_type": "code",
      "source": [
        "# Convert y_test labels to integers to match y_pred3\n",
        "y_test = y_test.astype(int) - 1\n",
        "\n",
        "y_pred3 = xgb.predict(x_test)\n",
        "print('Testing Accuracy',accuracy_score(y_test,y_pred3))\n"
      ],
      "metadata": {
        "colab": {
          "base_uri": "https://localhost:8080/"
        },
        "id": "N9zRM5FddbzR",
        "outputId": "8eec134f-da64-49f1-9c40-0afb42d6e6cf"
      },
      "execution_count": null,
      "outputs": [
        {
          "output_type": "stream",
          "name": "stdout",
          "text": [
            "Testing Accuracy 0.6363636363636364\n"
          ]
        }
      ]
    },
    {
      "cell_type": "code",
      "source": [
        "# Training Accuracy\n",
        "y_train_pred3 = xgb.predict(x_smote)\n",
        "print('Train Accuracy',accuracy_score(y_smote,y_train_pred3))"
      ],
      "metadata": {
        "id": "C5UVfQ-NvVlV",
        "colab": {
          "base_uri": "https://localhost:8080/"
        },
        "outputId": "2e72c20a-019e-4cf0-8df8-b566a36288d6"
      },
      "execution_count": null,
      "outputs": [
        {
          "output_type": "stream",
          "name": "stdout",
          "text": [
            "Train Accuracy 0.9509803921568627\n"
          ]
        }
      ]
    },
    {
      "cell_type": "code",
      "source": [
        "report=pd.DataFrame(classification_report(y_test,y_pred3,output_dict=True))\n",
        "report"
      ],
      "metadata": {
        "colab": {
          "base_uri": "https://localhost:8080/",
          "height": 174
        },
        "id": "IpmlDQEPdd_t",
        "outputId": "371cd2bc-c823-4ad0-b201-77518eba311b"
      },
      "execution_count": null,
      "outputs": [
        {
          "output_type": "execute_result",
          "data": {
            "text/plain": [
              "                  0    1         2  accuracy  macro avg  weighted avg\n",
              "precision  0.571429  0.5  1.000000  0.636364   0.690476      0.753247\n",
              "recall     1.000000  0.5  0.400000  0.636364   0.633333      0.636364\n",
              "f1-score   0.727273  0.5  0.571429  0.636364   0.599567      0.615112\n",
              "support    4.000000  2.0  5.000000  0.636364  11.000000     11.000000"
            ],
            "text/html": [
              "\n",
              "  <div id=\"df-9a4cf98b-6310-41e1-a526-e0ec4d7d6e4e\" class=\"colab-df-container\">\n",
              "    <div>\n",
              "<style scoped>\n",
              "    .dataframe tbody tr th:only-of-type {\n",
              "        vertical-align: middle;\n",
              "    }\n",
              "\n",
              "    .dataframe tbody tr th {\n",
              "        vertical-align: top;\n",
              "    }\n",
              "\n",
              "    .dataframe thead th {\n",
              "        text-align: right;\n",
              "    }\n",
              "</style>\n",
              "<table border=\"1\" class=\"dataframe\">\n",
              "  <thead>\n",
              "    <tr style=\"text-align: right;\">\n",
              "      <th></th>\n",
              "      <th>0</th>\n",
              "      <th>1</th>\n",
              "      <th>2</th>\n",
              "      <th>accuracy</th>\n",
              "      <th>macro avg</th>\n",
              "      <th>weighted avg</th>\n",
              "    </tr>\n",
              "  </thead>\n",
              "  <tbody>\n",
              "    <tr>\n",
              "      <th>precision</th>\n",
              "      <td>0.571429</td>\n",
              "      <td>0.5</td>\n",
              "      <td>1.000000</td>\n",
              "      <td>0.636364</td>\n",
              "      <td>0.690476</td>\n",
              "      <td>0.753247</td>\n",
              "    </tr>\n",
              "    <tr>\n",
              "      <th>recall</th>\n",
              "      <td>1.000000</td>\n",
              "      <td>0.5</td>\n",
              "      <td>0.400000</td>\n",
              "      <td>0.636364</td>\n",
              "      <td>0.633333</td>\n",
              "      <td>0.636364</td>\n",
              "    </tr>\n",
              "    <tr>\n",
              "      <th>f1-score</th>\n",
              "      <td>0.727273</td>\n",
              "      <td>0.5</td>\n",
              "      <td>0.571429</td>\n",
              "      <td>0.636364</td>\n",
              "      <td>0.599567</td>\n",
              "      <td>0.615112</td>\n",
              "    </tr>\n",
              "    <tr>\n",
              "      <th>support</th>\n",
              "      <td>4.000000</td>\n",
              "      <td>2.0</td>\n",
              "      <td>5.000000</td>\n",
              "      <td>0.636364</td>\n",
              "      <td>11.000000</td>\n",
              "      <td>11.000000</td>\n",
              "    </tr>\n",
              "  </tbody>\n",
              "</table>\n",
              "</div>\n",
              "    <div class=\"colab-df-buttons\">\n",
              "\n",
              "  <div class=\"colab-df-container\">\n",
              "    <button class=\"colab-df-convert\" onclick=\"convertToInteractive('df-9a4cf98b-6310-41e1-a526-e0ec4d7d6e4e')\"\n",
              "            title=\"Convert this dataframe to an interactive table.\"\n",
              "            style=\"display:none;\">\n",
              "\n",
              "  <svg xmlns=\"http://www.w3.org/2000/svg\" height=\"24px\" viewBox=\"0 -960 960 960\">\n",
              "    <path d=\"M120-120v-720h720v720H120Zm60-500h600v-160H180v160Zm220 220h160v-160H400v160Zm0 220h160v-160H400v160ZM180-400h160v-160H180v160Zm440 0h160v-160H620v160ZM180-180h160v-160H180v160Zm440 0h160v-160H620v160Z\"/>\n",
              "  </svg>\n",
              "    </button>\n",
              "\n",
              "  <style>\n",
              "    .colab-df-container {\n",
              "      display:flex;\n",
              "      gap: 12px;\n",
              "    }\n",
              "\n",
              "    .colab-df-convert {\n",
              "      background-color: #E8F0FE;\n",
              "      border: none;\n",
              "      border-radius: 50%;\n",
              "      cursor: pointer;\n",
              "      display: none;\n",
              "      fill: #1967D2;\n",
              "      height: 32px;\n",
              "      padding: 0 0 0 0;\n",
              "      width: 32px;\n",
              "    }\n",
              "\n",
              "    .colab-df-convert:hover {\n",
              "      background-color: #E2EBFA;\n",
              "      box-shadow: 0px 1px 2px rgba(60, 64, 67, 0.3), 0px 1px 3px 1px rgba(60, 64, 67, 0.15);\n",
              "      fill: #174EA6;\n",
              "    }\n",
              "\n",
              "    .colab-df-buttons div {\n",
              "      margin-bottom: 4px;\n",
              "    }\n",
              "\n",
              "    [theme=dark] .colab-df-convert {\n",
              "      background-color: #3B4455;\n",
              "      fill: #D2E3FC;\n",
              "    }\n",
              "\n",
              "    [theme=dark] .colab-df-convert:hover {\n",
              "      background-color: #434B5C;\n",
              "      box-shadow: 0px 1px 3px 1px rgba(0, 0, 0, 0.15);\n",
              "      filter: drop-shadow(0px 1px 2px rgba(0, 0, 0, 0.3));\n",
              "      fill: #FFFFFF;\n",
              "    }\n",
              "  </style>\n",
              "\n",
              "    <script>\n",
              "      const buttonEl =\n",
              "        document.querySelector('#df-9a4cf98b-6310-41e1-a526-e0ec4d7d6e4e button.colab-df-convert');\n",
              "      buttonEl.style.display =\n",
              "        google.colab.kernel.accessAllowed ? 'block' : 'none';\n",
              "\n",
              "      async function convertToInteractive(key) {\n",
              "        const element = document.querySelector('#df-9a4cf98b-6310-41e1-a526-e0ec4d7d6e4e');\n",
              "        const dataTable =\n",
              "          await google.colab.kernel.invokeFunction('convertToInteractive',\n",
              "                                                    [key], {});\n",
              "        if (!dataTable) return;\n",
              "\n",
              "        const docLinkHtml = 'Like what you see? Visit the ' +\n",
              "          '<a target=\"_blank\" href=https://colab.research.google.com/notebooks/data_table.ipynb>data table notebook</a>'\n",
              "          + ' to learn more about interactive tables.';\n",
              "        element.innerHTML = '';\n",
              "        dataTable['output_type'] = 'display_data';\n",
              "        await google.colab.output.renderOutput(dataTable, element);\n",
              "        const docLink = document.createElement('div');\n",
              "        docLink.innerHTML = docLinkHtml;\n",
              "        element.appendChild(docLink);\n",
              "      }\n",
              "    </script>\n",
              "  </div>\n",
              "\n",
              "\n",
              "<div id=\"df-ef7aaaad-e1f8-4822-808e-21925b76c9f2\">\n",
              "  <button class=\"colab-df-quickchart\" onclick=\"quickchart('df-ef7aaaad-e1f8-4822-808e-21925b76c9f2')\"\n",
              "            title=\"Suggest charts\"\n",
              "            style=\"display:none;\">\n",
              "\n",
              "<svg xmlns=\"http://www.w3.org/2000/svg\" height=\"24px\"viewBox=\"0 0 24 24\"\n",
              "     width=\"24px\">\n",
              "    <g>\n",
              "        <path d=\"M19 3H5c-1.1 0-2 .9-2 2v14c0 1.1.9 2 2 2h14c1.1 0 2-.9 2-2V5c0-1.1-.9-2-2-2zM9 17H7v-7h2v7zm4 0h-2V7h2v10zm4 0h-2v-4h2v4z\"/>\n",
              "    </g>\n",
              "</svg>\n",
              "  </button>\n",
              "\n",
              "<style>\n",
              "  .colab-df-quickchart {\n",
              "      --bg-color: #E8F0FE;\n",
              "      --fill-color: #1967D2;\n",
              "      --hover-bg-color: #E2EBFA;\n",
              "      --hover-fill-color: #174EA6;\n",
              "      --disabled-fill-color: #AAA;\n",
              "      --disabled-bg-color: #DDD;\n",
              "  }\n",
              "\n",
              "  [theme=dark] .colab-df-quickchart {\n",
              "      --bg-color: #3B4455;\n",
              "      --fill-color: #D2E3FC;\n",
              "      --hover-bg-color: #434B5C;\n",
              "      --hover-fill-color: #FFFFFF;\n",
              "      --disabled-bg-color: #3B4455;\n",
              "      --disabled-fill-color: #666;\n",
              "  }\n",
              "\n",
              "  .colab-df-quickchart {\n",
              "    background-color: var(--bg-color);\n",
              "    border: none;\n",
              "    border-radius: 50%;\n",
              "    cursor: pointer;\n",
              "    display: none;\n",
              "    fill: var(--fill-color);\n",
              "    height: 32px;\n",
              "    padding: 0;\n",
              "    width: 32px;\n",
              "  }\n",
              "\n",
              "  .colab-df-quickchart:hover {\n",
              "    background-color: var(--hover-bg-color);\n",
              "    box-shadow: 0 1px 2px rgba(60, 64, 67, 0.3), 0 1px 3px 1px rgba(60, 64, 67, 0.15);\n",
              "    fill: var(--button-hover-fill-color);\n",
              "  }\n",
              "\n",
              "  .colab-df-quickchart-complete:disabled,\n",
              "  .colab-df-quickchart-complete:disabled:hover {\n",
              "    background-color: var(--disabled-bg-color);\n",
              "    fill: var(--disabled-fill-color);\n",
              "    box-shadow: none;\n",
              "  }\n",
              "\n",
              "  .colab-df-spinner {\n",
              "    border: 2px solid var(--fill-color);\n",
              "    border-color: transparent;\n",
              "    border-bottom-color: var(--fill-color);\n",
              "    animation:\n",
              "      spin 1s steps(1) infinite;\n",
              "  }\n",
              "\n",
              "  @keyframes spin {\n",
              "    0% {\n",
              "      border-color: transparent;\n",
              "      border-bottom-color: var(--fill-color);\n",
              "      border-left-color: var(--fill-color);\n",
              "    }\n",
              "    20% {\n",
              "      border-color: transparent;\n",
              "      border-left-color: var(--fill-color);\n",
              "      border-top-color: var(--fill-color);\n",
              "    }\n",
              "    30% {\n",
              "      border-color: transparent;\n",
              "      border-left-color: var(--fill-color);\n",
              "      border-top-color: var(--fill-color);\n",
              "      border-right-color: var(--fill-color);\n",
              "    }\n",
              "    40% {\n",
              "      border-color: transparent;\n",
              "      border-right-color: var(--fill-color);\n",
              "      border-top-color: var(--fill-color);\n",
              "    }\n",
              "    60% {\n",
              "      border-color: transparent;\n",
              "      border-right-color: var(--fill-color);\n",
              "    }\n",
              "    80% {\n",
              "      border-color: transparent;\n",
              "      border-right-color: var(--fill-color);\n",
              "      border-bottom-color: var(--fill-color);\n",
              "    }\n",
              "    90% {\n",
              "      border-color: transparent;\n",
              "      border-bottom-color: var(--fill-color);\n",
              "    }\n",
              "  }\n",
              "</style>\n",
              "\n",
              "  <script>\n",
              "    async function quickchart(key) {\n",
              "      const quickchartButtonEl =\n",
              "        document.querySelector('#' + key + ' button');\n",
              "      quickchartButtonEl.disabled = true;  // To prevent multiple clicks.\n",
              "      quickchartButtonEl.classList.add('colab-df-spinner');\n",
              "      try {\n",
              "        const charts = await google.colab.kernel.invokeFunction(\n",
              "            'suggestCharts', [key], {});\n",
              "      } catch (error) {\n",
              "        console.error('Error during call to suggestCharts:', error);\n",
              "      }\n",
              "      quickchartButtonEl.classList.remove('colab-df-spinner');\n",
              "      quickchartButtonEl.classList.add('colab-df-quickchart-complete');\n",
              "    }\n",
              "    (() => {\n",
              "      let quickchartButtonEl =\n",
              "        document.querySelector('#df-ef7aaaad-e1f8-4822-808e-21925b76c9f2 button');\n",
              "      quickchartButtonEl.style.display =\n",
              "        google.colab.kernel.accessAllowed ? 'block' : 'none';\n",
              "    })();\n",
              "  </script>\n",
              "</div>\n",
              "\n",
              "  <div id=\"id_b1e08aae-41c9-4919-af20-b38b14ecc873\">\n",
              "    <style>\n",
              "      .colab-df-generate {\n",
              "        background-color: #E8F0FE;\n",
              "        border: none;\n",
              "        border-radius: 50%;\n",
              "        cursor: pointer;\n",
              "        display: none;\n",
              "        fill: #1967D2;\n",
              "        height: 32px;\n",
              "        padding: 0 0 0 0;\n",
              "        width: 32px;\n",
              "      }\n",
              "\n",
              "      .colab-df-generate:hover {\n",
              "        background-color: #E2EBFA;\n",
              "        box-shadow: 0px 1px 2px rgba(60, 64, 67, 0.3), 0px 1px 3px 1px rgba(60, 64, 67, 0.15);\n",
              "        fill: #174EA6;\n",
              "      }\n",
              "\n",
              "      [theme=dark] .colab-df-generate {\n",
              "        background-color: #3B4455;\n",
              "        fill: #D2E3FC;\n",
              "      }\n",
              "\n",
              "      [theme=dark] .colab-df-generate:hover {\n",
              "        background-color: #434B5C;\n",
              "        box-shadow: 0px 1px 3px 1px rgba(0, 0, 0, 0.15);\n",
              "        filter: drop-shadow(0px 1px 2px rgba(0, 0, 0, 0.3));\n",
              "        fill: #FFFFFF;\n",
              "      }\n",
              "    </style>\n",
              "    <button class=\"colab-df-generate\" onclick=\"generateWithVariable('report')\"\n",
              "            title=\"Generate code using this dataframe.\"\n",
              "            style=\"display:none;\">\n",
              "\n",
              "  <svg xmlns=\"http://www.w3.org/2000/svg\" height=\"24px\"viewBox=\"0 0 24 24\"\n",
              "       width=\"24px\">\n",
              "    <path d=\"M7,19H8.4L18.45,9,17,7.55,7,17.6ZM5,21V16.75L18.45,3.32a2,2,0,0,1,2.83,0l1.4,1.43a1.91,1.91,0,0,1,.58,1.4,1.91,1.91,0,0,1-.58,1.4L9.25,21ZM18.45,9,17,7.55Zm-12,3A5.31,5.31,0,0,0,4.9,8.1,5.31,5.31,0,0,0,1,6.5,5.31,5.31,0,0,0,4.9,4.9,5.31,5.31,0,0,0,6.5,1,5.31,5.31,0,0,0,8.1,4.9,5.31,5.31,0,0,0,12,6.5,5.46,5.46,0,0,0,6.5,12Z\"/>\n",
              "  </svg>\n",
              "    </button>\n",
              "    <script>\n",
              "      (() => {\n",
              "      const buttonEl =\n",
              "        document.querySelector('#id_b1e08aae-41c9-4919-af20-b38b14ecc873 button.colab-df-generate');\n",
              "      buttonEl.style.display =\n",
              "        google.colab.kernel.accessAllowed ? 'block' : 'none';\n",
              "\n",
              "      buttonEl.onclick = () => {\n",
              "        google.colab.notebook.generateWithVariable('report');\n",
              "      }\n",
              "      })();\n",
              "    </script>\n",
              "  </div>\n",
              "\n",
              "    </div>\n",
              "  </div>\n"
            ],
            "application/vnd.google.colaboratory.intrinsic+json": {
              "type": "dataframe",
              "variable_name": "report",
              "summary": "{\n  \"name\": \"report\",\n  \"rows\": 4,\n  \"fields\": [\n    {\n      \"column\": \"0\",\n      \"properties\": {\n        \"dtype\": \"number\",\n        \"std\": 1.626555329473327,\n        \"min\": 0.5714285714285714,\n        \"max\": 4.0,\n        \"num_unique_values\": 4,\n        \"samples\": [\n          1.0,\n          4.0,\n          0.5714285714285714\n        ],\n        \"semantic_type\": \"\",\n        \"description\": \"\"\n      }\n    },\n    {\n      \"column\": \"1\",\n      \"properties\": {\n        \"dtype\": \"number\",\n        \"std\": 0.75,\n        \"min\": 0.5,\n        \"max\": 2.0,\n        \"num_unique_values\": 2,\n        \"samples\": [\n          2.0,\n          0.5\n        ],\n        \"semantic_type\": \"\",\n        \"description\": \"\"\n      }\n    },\n    {\n      \"column\": \"2\",\n      \"properties\": {\n        \"dtype\": \"number\",\n        \"std\": 2.1860410586729797,\n        \"min\": 0.4,\n        \"max\": 5.0,\n        \"num_unique_values\": 4,\n        \"samples\": [\n          0.4,\n          5.0\n        ],\n        \"semantic_type\": \"\",\n        \"description\": \"\"\n      }\n    },\n    {\n      \"column\": \"accuracy\",\n      \"properties\": {\n        \"dtype\": \"number\",\n        \"std\": 0.0,\n        \"min\": 0.6363636363636364,\n        \"max\": 0.6363636363636364,\n        \"num_unique_values\": 1,\n        \"samples\": [\n          0.6363636363636364\n        ],\n        \"semantic_type\": \"\",\n        \"description\": \"\"\n      }\n    },\n    {\n      \"column\": \"macro avg\",\n      \"properties\": {\n        \"dtype\": \"number\",\n        \"std\": 5.179573127527003,\n        \"min\": 0.5995670995670995,\n        \"max\": 11.0,\n        \"num_unique_values\": 4,\n        \"samples\": [\n          0.6333333333333333\n        ],\n        \"semantic_type\": \"\",\n        \"description\": \"\"\n      }\n    },\n    {\n      \"column\": \"weighted avg\",\n      \"properties\": {\n        \"dtype\": \"number\",\n        \"std\": 5.166236546632007,\n        \"min\": 0.615112160566706,\n        \"max\": 11.0,\n        \"num_unique_values\": 4,\n        \"samples\": [\n          0.6363636363636364\n        ],\n        \"semantic_type\": \"\",\n        \"description\": \"\"\n      }\n    }\n  ]\n}"
            }
          },
          "metadata": {},
          "execution_count": 130
        }
      ]
    },
    {
      "cell_type": "markdown",
      "source": [
        "### Model Comparison Report"
      ],
      "metadata": {
        "id": "eU2a0F1_dyTU"
      }
    },
    {
      "cell_type": "markdown",
      "source": [
        "This report aimed to develop and evaluate various predictive models for\n",
        "estimating teacher attibutes using teacher assistance dataset. I explored a variety of classification models, inculding Logistic Regression,SVM,Random FOrest,Decision Tree, Gradient Boosting, XGBoost and HyperParameter Tuning"
      ],
      "metadata": {
        "id": "HwOMtO0sj_Eh"
      }
    },
    {
      "cell_type": "markdown",
      "source": [
        "### Key Performance Matrics\n",
        "Here are the key performance metrics for the best-performing models on the test"
      ],
      "metadata": {
        "id": "UavVOx1Sl-S1"
      }
    },
    {
      "cell_type": "markdown",
      "source": [
        "![image.png](data:image/png;base64,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)"
      ],
      "metadata": {
        "id": "WmlQevBxmZOQ"
      }
    },
    {
      "cell_type": "code",
      "source": [],
      "metadata": {
        "id": "oShPspFe_Qde"
      },
      "execution_count": null,
      "outputs": []
    }
  ]
}